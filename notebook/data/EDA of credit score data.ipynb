{
 "cells": [
  {
   "cell_type": "markdown",
   "id": "19d9781f",
   "metadata": {},
   "source": [
    "## Life Cycle of Machine Learning  Project\n",
    "1. Undertanding the probelm statement\n",
    "2. Data Collection\n",
    "3. Data Checks  to perform \n",
    "4. Exploratory data analysis\n",
    "5. Data preprocessing\n",
    "6. Model Training\n",
    "7. Choose best model"
   ]
  },
  {
   "cell_type": "markdown",
   "id": "f46e1560",
   "metadata": {},
   "source": [
    "## 1)Problem Statement\n",
    " This project is to develop a machine learning model that can classify customers’ credit scores (High, Medium, Low) and predict the likelihood of default, based on their financial indicators and spending patterns."
   ]
  },
  {
   "cell_type": "markdown",
   "id": "551d4fe6",
   "metadata": {},
   "source": [
    "## 2)Data Collection\n",
    "Data Source :https://www.kaggle.com/datasets/conorsully1/credit-score                                         \n",
    "The data consist of 87 columns and 1000 rows\n"
   ]
  },
  {
   "cell_type": "markdown",
   "id": "52b0ea35",
   "metadata": {},
   "source": [
    "##"
   ]
  },
  {
   "cell_type": "markdown",
   "id": "29c528c8",
   "metadata": {},
   "source": [
    "### 2.1) Import data & required packages\n",
    "#### importing pandas ,numpy, seaborn ,matplotlib,warnings liberaries"
   ]
  },
  {
   "cell_type": "code",
   "execution_count": 2,
   "id": "5762d5fc",
   "metadata": {},
   "outputs": [],
   "source": [
    "import pandas as pd\n",
    "import numpy as np \n",
    "import seaborn as sns\n",
    "import plotly.express as px\n",
    "import matplotlib.pyplot as plt\n",
    "import warnings\n",
    "%matplotlib inline\n",
    "warnings.filterwarnings(\"ignore\")"
   ]
  },
  {
   "cell_type": "markdown",
   "id": "452bcf69",
   "metadata": {},
   "source": [
    "#### importing the csv data as pandas dataframe"
   ]
  },
  {
   "cell_type": "code",
   "execution_count": 3,
   "id": "da0df39a",
   "metadata": {},
   "outputs": [],
   "source": [
    "df=pd.read_csv(\"credit_score.csv\")"
   ]
  },
  {
   "cell_type": "markdown",
   "id": "44ed5906",
   "metadata": {},
   "source": [
    "#### first 5 rows"
   ]
  },
  {
   "cell_type": "code",
   "execution_count": 4,
   "id": "6c97bd83",
   "metadata": {},
   "outputs": [
    {
     "data": {
      "text/html": [
       "<div>\n",
       "<style scoped>\n",
       "    .dataframe tbody tr th:only-of-type {\n",
       "        vertical-align: middle;\n",
       "    }\n",
       "\n",
       "    .dataframe tbody tr th {\n",
       "        vertical-align: top;\n",
       "    }\n",
       "\n",
       "    .dataframe thead th {\n",
       "        text-align: right;\n",
       "    }\n",
       "</style>\n",
       "<table border=\"1\" class=\"dataframe\">\n",
       "  <thead>\n",
       "    <tr style=\"text-align: right;\">\n",
       "      <th></th>\n",
       "      <th>CUST_ID</th>\n",
       "      <th>INCOME</th>\n",
       "      <th>SAVINGS</th>\n",
       "      <th>DEBT</th>\n",
       "      <th>R_SAVINGS_INCOME</th>\n",
       "      <th>R_DEBT_INCOME</th>\n",
       "      <th>R_DEBT_SAVINGS</th>\n",
       "      <th>T_CLOTHING_12</th>\n",
       "      <th>T_CLOTHING_6</th>\n",
       "      <th>R_CLOTHING</th>\n",
       "      <th>...</th>\n",
       "      <th>R_EXPENDITURE_SAVINGS</th>\n",
       "      <th>R_EXPENDITURE_DEBT</th>\n",
       "      <th>CAT_GAMBLING</th>\n",
       "      <th>CAT_DEBT</th>\n",
       "      <th>CAT_CREDIT_CARD</th>\n",
       "      <th>CAT_MORTGAGE</th>\n",
       "      <th>CAT_SAVINGS_ACCOUNT</th>\n",
       "      <th>CAT_DEPENDENTS</th>\n",
       "      <th>CREDIT_SCORE</th>\n",
       "      <th>DEFAULT</th>\n",
       "    </tr>\n",
       "  </thead>\n",
       "  <tbody>\n",
       "    <tr>\n",
       "      <th>0</th>\n",
       "      <td>C02COQEVYU</td>\n",
       "      <td>33269</td>\n",
       "      <td>0</td>\n",
       "      <td>532304</td>\n",
       "      <td>0.0000</td>\n",
       "      <td>16.0000</td>\n",
       "      <td>1.2000</td>\n",
       "      <td>1889</td>\n",
       "      <td>945</td>\n",
       "      <td>0.5003</td>\n",
       "      <td>...</td>\n",
       "      <td>0.0000</td>\n",
       "      <td>0.0625</td>\n",
       "      <td>High</td>\n",
       "      <td>1</td>\n",
       "      <td>0</td>\n",
       "      <td>0</td>\n",
       "      <td>0</td>\n",
       "      <td>0</td>\n",
       "      <td>444</td>\n",
       "      <td>1</td>\n",
       "    </tr>\n",
       "    <tr>\n",
       "      <th>1</th>\n",
       "      <td>C02OZKC0ZF</td>\n",
       "      <td>77158</td>\n",
       "      <td>91187</td>\n",
       "      <td>315648</td>\n",
       "      <td>1.1818</td>\n",
       "      <td>4.0909</td>\n",
       "      <td>3.4615</td>\n",
       "      <td>5818</td>\n",
       "      <td>111</td>\n",
       "      <td>0.0191</td>\n",
       "      <td>...</td>\n",
       "      <td>0.7692</td>\n",
       "      <td>0.2222</td>\n",
       "      <td>No</td>\n",
       "      <td>1</td>\n",
       "      <td>0</td>\n",
       "      <td>0</td>\n",
       "      <td>1</td>\n",
       "      <td>0</td>\n",
       "      <td>625</td>\n",
       "      <td>0</td>\n",
       "    </tr>\n",
       "    <tr>\n",
       "      <th>2</th>\n",
       "      <td>C03FHP2D0A</td>\n",
       "      <td>30917</td>\n",
       "      <td>21642</td>\n",
       "      <td>534864</td>\n",
       "      <td>0.7000</td>\n",
       "      <td>17.3000</td>\n",
       "      <td>24.7142</td>\n",
       "      <td>1157</td>\n",
       "      <td>860</td>\n",
       "      <td>0.7433</td>\n",
       "      <td>...</td>\n",
       "      <td>1.4286</td>\n",
       "      <td>0.0578</td>\n",
       "      <td>High</td>\n",
       "      <td>1</td>\n",
       "      <td>0</td>\n",
       "      <td>0</td>\n",
       "      <td>1</td>\n",
       "      <td>0</td>\n",
       "      <td>469</td>\n",
       "      <td>1</td>\n",
       "    </tr>\n",
       "    <tr>\n",
       "      <th>3</th>\n",
       "      <td>C03PVPPHOY</td>\n",
       "      <td>80657</td>\n",
       "      <td>64526</td>\n",
       "      <td>629125</td>\n",
       "      <td>0.8000</td>\n",
       "      <td>7.8000</td>\n",
       "      <td>9.7499</td>\n",
       "      <td>6857</td>\n",
       "      <td>3686</td>\n",
       "      <td>0.5376</td>\n",
       "      <td>...</td>\n",
       "      <td>1.2500</td>\n",
       "      <td>0.1282</td>\n",
       "      <td>High</td>\n",
       "      <td>1</td>\n",
       "      <td>0</td>\n",
       "      <td>0</td>\n",
       "      <td>1</td>\n",
       "      <td>0</td>\n",
       "      <td>559</td>\n",
       "      <td>0</td>\n",
       "    </tr>\n",
       "    <tr>\n",
       "      <th>4</th>\n",
       "      <td>C04J69MUX0</td>\n",
       "      <td>149971</td>\n",
       "      <td>1172498</td>\n",
       "      <td>2399531</td>\n",
       "      <td>7.8182</td>\n",
       "      <td>16.0000</td>\n",
       "      <td>2.0465</td>\n",
       "      <td>1978</td>\n",
       "      <td>322</td>\n",
       "      <td>0.1628</td>\n",
       "      <td>...</td>\n",
       "      <td>0.1163</td>\n",
       "      <td>0.0568</td>\n",
       "      <td>High</td>\n",
       "      <td>1</td>\n",
       "      <td>1</td>\n",
       "      <td>1</td>\n",
       "      <td>1</td>\n",
       "      <td>1</td>\n",
       "      <td>473</td>\n",
       "      <td>0</td>\n",
       "    </tr>\n",
       "  </tbody>\n",
       "</table>\n",
       "<p>5 rows × 87 columns</p>\n",
       "</div>"
      ],
      "text/plain": [
       "      CUST_ID  INCOME  SAVINGS     DEBT  R_SAVINGS_INCOME  R_DEBT_INCOME  \\\n",
       "0  C02COQEVYU   33269        0   532304            0.0000        16.0000   \n",
       "1  C02OZKC0ZF   77158    91187   315648            1.1818         4.0909   \n",
       "2  C03FHP2D0A   30917    21642   534864            0.7000        17.3000   \n",
       "3  C03PVPPHOY   80657    64526   629125            0.8000         7.8000   \n",
       "4  C04J69MUX0  149971  1172498  2399531            7.8182        16.0000   \n",
       "\n",
       "   R_DEBT_SAVINGS  T_CLOTHING_12  T_CLOTHING_6  R_CLOTHING  ...  \\\n",
       "0          1.2000           1889           945      0.5003  ...   \n",
       "1          3.4615           5818           111      0.0191  ...   \n",
       "2         24.7142           1157           860      0.7433  ...   \n",
       "3          9.7499           6857          3686      0.5376  ...   \n",
       "4          2.0465           1978           322      0.1628  ...   \n",
       "\n",
       "   R_EXPENDITURE_SAVINGS  R_EXPENDITURE_DEBT  CAT_GAMBLING  CAT_DEBT  \\\n",
       "0                 0.0000              0.0625          High         1   \n",
       "1                 0.7692              0.2222            No         1   \n",
       "2                 1.4286              0.0578          High         1   \n",
       "3                 1.2500              0.1282          High         1   \n",
       "4                 0.1163              0.0568          High         1   \n",
       "\n",
       "   CAT_CREDIT_CARD  CAT_MORTGAGE  CAT_SAVINGS_ACCOUNT  CAT_DEPENDENTS  \\\n",
       "0                0             0                    0               0   \n",
       "1                0             0                    1               0   \n",
       "2                0             0                    1               0   \n",
       "3                0             0                    1               0   \n",
       "4                1             1                    1               1   \n",
       "\n",
       "   CREDIT_SCORE  DEFAULT  \n",
       "0           444        1  \n",
       "1           625        0  \n",
       "2           469        1  \n",
       "3           559        0  \n",
       "4           473        0  \n",
       "\n",
       "[5 rows x 87 columns]"
      ]
     },
     "execution_count": 4,
     "metadata": {},
     "output_type": "execute_result"
    }
   ],
   "source": [
    "df.head()"
   ]
  },
  {
   "cell_type": "markdown",
   "id": "6204ca8c",
   "metadata": {},
   "source": [
    "##### shape of the data"
   ]
  },
  {
   "cell_type": "code",
   "execution_count": 6,
   "id": "a104cccb",
   "metadata": {},
   "outputs": [
    {
     "data": {
      "text/plain": [
       "(1000, 87)"
      ]
     },
     "execution_count": 6,
     "metadata": {},
     "output_type": "execute_result"
    }
   ],
   "source": [
    "df.shape"
   ]
  },
  {
   "cell_type": "markdown",
   "id": "d83f4177",
   "metadata": {},
   "source": [
    "##### Data information"
   ]
  },
  {
   "cell_type": "code",
   "execution_count": 7,
   "id": "5eebcc1c",
   "metadata": {},
   "outputs": [
    {
     "name": "stdout",
     "output_type": "stream",
     "text": [
      "<class 'pandas.core.frame.DataFrame'>\n",
      "RangeIndex: 1000 entries, 0 to 999\n",
      "Data columns (total 87 columns):\n",
      " #   Column                   Non-Null Count  Dtype  \n",
      "---  ------                   --------------  -----  \n",
      " 0   CUST_ID                  1000 non-null   object \n",
      " 1   INCOME                   1000 non-null   int64  \n",
      " 2   SAVINGS                  1000 non-null   int64  \n",
      " 3   DEBT                     1000 non-null   int64  \n",
      " 4   R_SAVINGS_INCOME         1000 non-null   float64\n",
      " 5   R_DEBT_INCOME            1000 non-null   float64\n",
      " 6   R_DEBT_SAVINGS           1000 non-null   float64\n",
      " 7   T_CLOTHING_12            1000 non-null   int64  \n",
      " 8   T_CLOTHING_6             1000 non-null   int64  \n",
      " 9   R_CLOTHING               1000 non-null   float64\n",
      " 10  R_CLOTHING_INCOME        1000 non-null   float64\n",
      " 11  R_CLOTHING_SAVINGS       1000 non-null   float64\n",
      " 12  R_CLOTHING_DEBT          1000 non-null   float64\n",
      " 13  T_EDUCATION_12           1000 non-null   int64  \n",
      " 14  T_EDUCATION_6            1000 non-null   int64  \n",
      " 15  R_EDUCATION              1000 non-null   float64\n",
      " 16  R_EDUCATION_INCOME       1000 non-null   float64\n",
      " 17  R_EDUCATION_SAVINGS      1000 non-null   float64\n",
      " 18  R_EDUCATION_DEBT         1000 non-null   float64\n",
      " 19  T_ENTERTAINMENT_12       1000 non-null   int64  \n",
      " 20  T_ENTERTAINMENT_6        1000 non-null   int64  \n",
      " 21  R_ENTERTAINMENT          1000 non-null   float64\n",
      " 22  R_ENTERTAINMENT_INCOME   1000 non-null   float64\n",
      " 23  R_ENTERTAINMENT_SAVINGS  1000 non-null   float64\n",
      " 24  R_ENTERTAINMENT_DEBT     1000 non-null   float64\n",
      " 25  T_FINES_12               1000 non-null   int64  \n",
      " 26  T_FINES_6                1000 non-null   int64  \n",
      " 27  R_FINES                  1000 non-null   float64\n",
      " 28  R_FINES_INCOME           1000 non-null   float64\n",
      " 29  R_FINES_SAVINGS          1000 non-null   float64\n",
      " 30  R_FINES_DEBT             1000 non-null   float64\n",
      " 31  T_GAMBLING_12            1000 non-null   int64  \n",
      " 32  T_GAMBLING_6             1000 non-null   int64  \n",
      " 33  R_GAMBLING               1000 non-null   float64\n",
      " 34  R_GAMBLING_INCOME        1000 non-null   float64\n",
      " 35  R_GAMBLING_SAVINGS       1000 non-null   float64\n",
      " 36  R_GAMBLING_DEBT          1000 non-null   float64\n",
      " 37  T_GROCERIES_12           1000 non-null   int64  \n",
      " 38  T_GROCERIES_6            1000 non-null   int64  \n",
      " 39  R_GROCERIES              1000 non-null   float64\n",
      " 40  R_GROCERIES_INCOME       1000 non-null   float64\n",
      " 41  R_GROCERIES_SAVINGS      1000 non-null   float64\n",
      " 42  R_GROCERIES_DEBT         1000 non-null   float64\n",
      " 43  T_HEALTH_12              1000 non-null   int64  \n",
      " 44  T_HEALTH_6               1000 non-null   int64  \n",
      " 45  R_HEALTH                 1000 non-null   float64\n",
      " 46  R_HEALTH_INCOME          1000 non-null   float64\n",
      " 47  R_HEALTH_SAVINGS         1000 non-null   float64\n",
      " 48  R_HEALTH_DEBT            1000 non-null   float64\n",
      " 49  T_HOUSING_12             1000 non-null   int64  \n",
      " 50  T_HOUSING_6              1000 non-null   int64  \n",
      " 51  R_HOUSING                1000 non-null   float64\n",
      " 52  R_HOUSING_INCOME         1000 non-null   float64\n",
      " 53  R_HOUSING_SAVINGS        1000 non-null   float64\n",
      " 54  R_HOUSING_DEBT           1000 non-null   float64\n",
      " 55  T_TAX_12                 1000 non-null   int64  \n",
      " 56  T_TAX_6                  1000 non-null   int64  \n",
      " 57  R_TAX                    1000 non-null   float64\n",
      " 58  R_TAX_INCOME             1000 non-null   float64\n",
      " 59  R_TAX_SAVINGS            1000 non-null   float64\n",
      " 60  R_TAX_DEBT               1000 non-null   float64\n",
      " 61  T_TRAVEL_12              1000 non-null   int64  \n",
      " 62  T_TRAVEL_6               1000 non-null   int64  \n",
      " 63  R_TRAVEL                 1000 non-null   float64\n",
      " 64  R_TRAVEL_INCOME          1000 non-null   float64\n",
      " 65  R_TRAVEL_SAVINGS         1000 non-null   float64\n",
      " 66  R_TRAVEL_DEBT            1000 non-null   float64\n",
      " 67  T_UTILITIES_12           1000 non-null   int64  \n",
      " 68  T_UTILITIES_6            1000 non-null   int64  \n",
      " 69  R_UTILITIES              1000 non-null   float64\n",
      " 70  R_UTILITIES_INCOME       1000 non-null   float64\n",
      " 71  R_UTILITIES_SAVINGS      1000 non-null   float64\n",
      " 72  R_UTILITIES_DEBT         1000 non-null   float64\n",
      " 73  T_EXPENDITURE_12         1000 non-null   int64  \n",
      " 74  T_EXPENDITURE_6          1000 non-null   int64  \n",
      " 75  R_EXPENDITURE            1000 non-null   float64\n",
      " 76  R_EXPENDITURE_INCOME     1000 non-null   float64\n",
      " 77  R_EXPENDITURE_SAVINGS    1000 non-null   float64\n",
      " 78  R_EXPENDITURE_DEBT       1000 non-null   float64\n",
      " 79  CAT_GAMBLING             1000 non-null   object \n",
      " 80  CAT_DEBT                 1000 non-null   int64  \n",
      " 81  CAT_CREDIT_CARD          1000 non-null   int64  \n",
      " 82  CAT_MORTGAGE             1000 non-null   int64  \n",
      " 83  CAT_SAVINGS_ACCOUNT      1000 non-null   int64  \n",
      " 84  CAT_DEPENDENTS           1000 non-null   int64  \n",
      " 85  CREDIT_SCORE             1000 non-null   int64  \n",
      " 86  DEFAULT                  1000 non-null   int64  \n",
      "dtypes: float64(51), int64(34), object(2)\n",
      "memory usage: 679.8+ KB\n"
     ]
    }
   ],
   "source": [
    "df.info()"
   ]
  },
  {
   "cell_type": "markdown",
   "id": "1d1fb398",
   "metadata": {},
   "source": [
    "#### Customer Info\n",
    "\n",
    "CUST_ID → Unique identifier for each customer (not used for modeling)."
   ]
  },
  {
   "cell_type": "markdown",
   "id": "846dedde",
   "metadata": {},
   "source": [
    "#### Core Financial Indicators\n",
    "\n",
    "INCOME → Total income of the customer.\n",
    "\n",
    "SAVINGS → Total savings held by the customer.\n",
    "\n",
    "DEBT → Total outstanding debt of the customer."
   ]
  },
  {
   "cell_type": "markdown",
   "id": "c427060e",
   "metadata": {},
   "source": [
    "#### Basic Ratios\n",
    "\n",
    "R_SAVINGS_INCOME → Ratio of savings to income (savings habit).\n",
    "\n",
    "R_DEBT_INCOME → Ratio of debt to income (debt burden).\n",
    "\n",
    "R_DEBT_SAVINGS → Ratio of debt to savings (financial risk level)."
   ]
  },
  {
   "cell_type": "markdown",
   "id": "cb1b2c3e",
   "metadata": {},
   "source": [
    "#### Categorical Features (Flags)\n",
    "\n",
    "CAT_GAMBLING → Whether the customer is involved in gambling (1 = yes, 0 = no).\n",
    "\n",
    "CAT_DEBT → Type or presence of debt (categorical indicator).\n",
    "\n",
    "CAT_CREDIT_CARD → Whether the customer owns a credit card.\n",
    "\n",
    "CAT_MORTGAGE → Whether the customer has a mortgage loan.\n",
    "\n",
    "CAT_SAVINGS_ACCOUNT → Whether the customer has a savings account.\n",
    "\n",
    "CAT_DEPENDENTS → Number of dependents (family members financially dependent)."
   ]
  },
  {
   "cell_type": "markdown",
   "id": "711b4666",
   "metadata": {},
   "source": [
    "#### Target Variables\n",
    "\n",
    "CREDIT_SCORE → Credit score classification (Low, Medium, High).\n",
    "\n",
    "DEFAULT → Whether the customer has defaulted (0 = no, 1 = yes)."
   ]
  },
  {
   "cell_type": "markdown",
   "id": "a17d7ca2",
   "metadata": {},
   "source": [
    "# 3) Data checks to perform\n",
    "check missing values                                   \n",
    "check duplicates                               \n",
    "check datatypes                                      \n",
    "check the number of unique values of each columns                             \n",
    "check statistics of dataset                                                \n",
    "check various catagories present in the different catagorical columns"
   ]
  },
  {
   "cell_type": "markdown",
   "id": "b7eb292c",
   "metadata": {},
   "source": [
    "##### check missing values  "
   ]
  },
  {
   "cell_type": "code",
   "execution_count": 8,
   "id": "9f6b10fb",
   "metadata": {},
   "outputs": [],
   "source": [
    "\n",
    "# show all columns in output\n",
    "pd.set_option(\"display.max_rows\", None)  \n",
    "pd.set_option(\"display.max_columns\", None)  \n",
    "\n"
   ]
  },
  {
   "cell_type": "code",
   "execution_count": 9,
   "id": "defa34ea",
   "metadata": {},
   "outputs": [
    {
     "data": {
      "text/plain": [
       "CUST_ID                    0\n",
       "INCOME                     0\n",
       "SAVINGS                    0\n",
       "DEBT                       0\n",
       "R_SAVINGS_INCOME           0\n",
       "R_DEBT_INCOME              0\n",
       "R_DEBT_SAVINGS             0\n",
       "T_CLOTHING_12              0\n",
       "T_CLOTHING_6               0\n",
       "R_CLOTHING                 0\n",
       "R_CLOTHING_INCOME          0\n",
       "R_CLOTHING_SAVINGS         0\n",
       "R_CLOTHING_DEBT            0\n",
       "T_EDUCATION_12             0\n",
       "T_EDUCATION_6              0\n",
       "R_EDUCATION                0\n",
       "R_EDUCATION_INCOME         0\n",
       "R_EDUCATION_SAVINGS        0\n",
       "R_EDUCATION_DEBT           0\n",
       "T_ENTERTAINMENT_12         0\n",
       "T_ENTERTAINMENT_6          0\n",
       "R_ENTERTAINMENT            0\n",
       "R_ENTERTAINMENT_INCOME     0\n",
       "R_ENTERTAINMENT_SAVINGS    0\n",
       "R_ENTERTAINMENT_DEBT       0\n",
       "T_FINES_12                 0\n",
       "T_FINES_6                  0\n",
       "R_FINES                    0\n",
       "R_FINES_INCOME             0\n",
       "R_FINES_SAVINGS            0\n",
       "R_FINES_DEBT               0\n",
       "T_GAMBLING_12              0\n",
       "T_GAMBLING_6               0\n",
       "R_GAMBLING                 0\n",
       "R_GAMBLING_INCOME          0\n",
       "R_GAMBLING_SAVINGS         0\n",
       "R_GAMBLING_DEBT            0\n",
       "T_GROCERIES_12             0\n",
       "T_GROCERIES_6              0\n",
       "R_GROCERIES                0\n",
       "R_GROCERIES_INCOME         0\n",
       "R_GROCERIES_SAVINGS        0\n",
       "R_GROCERIES_DEBT           0\n",
       "T_HEALTH_12                0\n",
       "T_HEALTH_6                 0\n",
       "R_HEALTH                   0\n",
       "R_HEALTH_INCOME            0\n",
       "R_HEALTH_SAVINGS           0\n",
       "R_HEALTH_DEBT              0\n",
       "T_HOUSING_12               0\n",
       "T_HOUSING_6                0\n",
       "R_HOUSING                  0\n",
       "R_HOUSING_INCOME           0\n",
       "R_HOUSING_SAVINGS          0\n",
       "R_HOUSING_DEBT             0\n",
       "T_TAX_12                   0\n",
       "T_TAX_6                    0\n",
       "R_TAX                      0\n",
       "R_TAX_INCOME               0\n",
       "R_TAX_SAVINGS              0\n",
       "R_TAX_DEBT                 0\n",
       "T_TRAVEL_12                0\n",
       "T_TRAVEL_6                 0\n",
       "R_TRAVEL                   0\n",
       "R_TRAVEL_INCOME            0\n",
       "R_TRAVEL_SAVINGS           0\n",
       "R_TRAVEL_DEBT              0\n",
       "T_UTILITIES_12             0\n",
       "T_UTILITIES_6              0\n",
       "R_UTILITIES                0\n",
       "R_UTILITIES_INCOME         0\n",
       "R_UTILITIES_SAVINGS        0\n",
       "R_UTILITIES_DEBT           0\n",
       "T_EXPENDITURE_12           0\n",
       "T_EXPENDITURE_6            0\n",
       "R_EXPENDITURE              0\n",
       "R_EXPENDITURE_INCOME       0\n",
       "R_EXPENDITURE_SAVINGS      0\n",
       "R_EXPENDITURE_DEBT         0\n",
       "CAT_GAMBLING               0\n",
       "CAT_DEBT                   0\n",
       "CAT_CREDIT_CARD            0\n",
       "CAT_MORTGAGE               0\n",
       "CAT_SAVINGS_ACCOUNT        0\n",
       "CAT_DEPENDENTS             0\n",
       "CREDIT_SCORE               0\n",
       "DEFAULT                    0\n",
       "dtype: int64"
      ]
     },
     "execution_count": 9,
     "metadata": {},
     "output_type": "execute_result"
    }
   ],
   "source": [
    "df.isnull().sum()"
   ]
  },
  {
   "cell_type": "markdown",
   "id": "1c27a4a9",
   "metadata": {},
   "source": [
    "There are no  missing value"
   ]
  },
  {
   "cell_type": "markdown",
   "id": "a61ab658",
   "metadata": {},
   "source": [
    "##### check duplicates"
   ]
  },
  {
   "cell_type": "code",
   "execution_count": 10,
   "id": "c9ff5b39",
   "metadata": {},
   "outputs": [
    {
     "data": {
      "text/plain": [
       "np.int64(0)"
      ]
     },
     "execution_count": 10,
     "metadata": {},
     "output_type": "execute_result"
    }
   ],
   "source": [
    "df.duplicated().sum()"
   ]
  },
  {
   "cell_type": "markdown",
   "id": "54762338",
   "metadata": {},
   "source": [
    "There is no  Duplicate value"
   ]
  },
  {
   "cell_type": "markdown",
   "id": "01cdfcb7",
   "metadata": {},
   "source": [
    "##### check datatypes"
   ]
  },
  {
   "cell_type": "code",
   "execution_count": 11,
   "id": "03d22377",
   "metadata": {},
   "outputs": [
    {
     "name": "stdout",
     "output_type": "stream",
     "text": [
      "<class 'pandas.core.frame.DataFrame'>\n",
      "RangeIndex: 1000 entries, 0 to 999\n",
      "Data columns (total 87 columns):\n",
      " #   Column                   Non-Null Count  Dtype  \n",
      "---  ------                   --------------  -----  \n",
      " 0   CUST_ID                  1000 non-null   object \n",
      " 1   INCOME                   1000 non-null   int64  \n",
      " 2   SAVINGS                  1000 non-null   int64  \n",
      " 3   DEBT                     1000 non-null   int64  \n",
      " 4   R_SAVINGS_INCOME         1000 non-null   float64\n",
      " 5   R_DEBT_INCOME            1000 non-null   float64\n",
      " 6   R_DEBT_SAVINGS           1000 non-null   float64\n",
      " 7   T_CLOTHING_12            1000 non-null   int64  \n",
      " 8   T_CLOTHING_6             1000 non-null   int64  \n",
      " 9   R_CLOTHING               1000 non-null   float64\n",
      " 10  R_CLOTHING_INCOME        1000 non-null   float64\n",
      " 11  R_CLOTHING_SAVINGS       1000 non-null   float64\n",
      " 12  R_CLOTHING_DEBT          1000 non-null   float64\n",
      " 13  T_EDUCATION_12           1000 non-null   int64  \n",
      " 14  T_EDUCATION_6            1000 non-null   int64  \n",
      " 15  R_EDUCATION              1000 non-null   float64\n",
      " 16  R_EDUCATION_INCOME       1000 non-null   float64\n",
      " 17  R_EDUCATION_SAVINGS      1000 non-null   float64\n",
      " 18  R_EDUCATION_DEBT         1000 non-null   float64\n",
      " 19  T_ENTERTAINMENT_12       1000 non-null   int64  \n",
      " 20  T_ENTERTAINMENT_6        1000 non-null   int64  \n",
      " 21  R_ENTERTAINMENT          1000 non-null   float64\n",
      " 22  R_ENTERTAINMENT_INCOME   1000 non-null   float64\n",
      " 23  R_ENTERTAINMENT_SAVINGS  1000 non-null   float64\n",
      " 24  R_ENTERTAINMENT_DEBT     1000 non-null   float64\n",
      " 25  T_FINES_12               1000 non-null   int64  \n",
      " 26  T_FINES_6                1000 non-null   int64  \n",
      " 27  R_FINES                  1000 non-null   float64\n",
      " 28  R_FINES_INCOME           1000 non-null   float64\n",
      " 29  R_FINES_SAVINGS          1000 non-null   float64\n",
      " 30  R_FINES_DEBT             1000 non-null   float64\n",
      " 31  T_GAMBLING_12            1000 non-null   int64  \n",
      " 32  T_GAMBLING_6             1000 non-null   int64  \n",
      " 33  R_GAMBLING               1000 non-null   float64\n",
      " 34  R_GAMBLING_INCOME        1000 non-null   float64\n",
      " 35  R_GAMBLING_SAVINGS       1000 non-null   float64\n",
      " 36  R_GAMBLING_DEBT          1000 non-null   float64\n",
      " 37  T_GROCERIES_12           1000 non-null   int64  \n",
      " 38  T_GROCERIES_6            1000 non-null   int64  \n",
      " 39  R_GROCERIES              1000 non-null   float64\n",
      " 40  R_GROCERIES_INCOME       1000 non-null   float64\n",
      " 41  R_GROCERIES_SAVINGS      1000 non-null   float64\n",
      " 42  R_GROCERIES_DEBT         1000 non-null   float64\n",
      " 43  T_HEALTH_12              1000 non-null   int64  \n",
      " 44  T_HEALTH_6               1000 non-null   int64  \n",
      " 45  R_HEALTH                 1000 non-null   float64\n",
      " 46  R_HEALTH_INCOME          1000 non-null   float64\n",
      " 47  R_HEALTH_SAVINGS         1000 non-null   float64\n",
      " 48  R_HEALTH_DEBT            1000 non-null   float64\n",
      " 49  T_HOUSING_12             1000 non-null   int64  \n",
      " 50  T_HOUSING_6              1000 non-null   int64  \n",
      " 51  R_HOUSING                1000 non-null   float64\n",
      " 52  R_HOUSING_INCOME         1000 non-null   float64\n",
      " 53  R_HOUSING_SAVINGS        1000 non-null   float64\n",
      " 54  R_HOUSING_DEBT           1000 non-null   float64\n",
      " 55  T_TAX_12                 1000 non-null   int64  \n",
      " 56  T_TAX_6                  1000 non-null   int64  \n",
      " 57  R_TAX                    1000 non-null   float64\n",
      " 58  R_TAX_INCOME             1000 non-null   float64\n",
      " 59  R_TAX_SAVINGS            1000 non-null   float64\n",
      " 60  R_TAX_DEBT               1000 non-null   float64\n",
      " 61  T_TRAVEL_12              1000 non-null   int64  \n",
      " 62  T_TRAVEL_6               1000 non-null   int64  \n",
      " 63  R_TRAVEL                 1000 non-null   float64\n",
      " 64  R_TRAVEL_INCOME          1000 non-null   float64\n",
      " 65  R_TRAVEL_SAVINGS         1000 non-null   float64\n",
      " 66  R_TRAVEL_DEBT            1000 non-null   float64\n",
      " 67  T_UTILITIES_12           1000 non-null   int64  \n",
      " 68  T_UTILITIES_6            1000 non-null   int64  \n",
      " 69  R_UTILITIES              1000 non-null   float64\n",
      " 70  R_UTILITIES_INCOME       1000 non-null   float64\n",
      " 71  R_UTILITIES_SAVINGS      1000 non-null   float64\n",
      " 72  R_UTILITIES_DEBT         1000 non-null   float64\n",
      " 73  T_EXPENDITURE_12         1000 non-null   int64  \n",
      " 74  T_EXPENDITURE_6          1000 non-null   int64  \n",
      " 75  R_EXPENDITURE            1000 non-null   float64\n",
      " 76  R_EXPENDITURE_INCOME     1000 non-null   float64\n",
      " 77  R_EXPENDITURE_SAVINGS    1000 non-null   float64\n",
      " 78  R_EXPENDITURE_DEBT       1000 non-null   float64\n",
      " 79  CAT_GAMBLING             1000 non-null   object \n",
      " 80  CAT_DEBT                 1000 non-null   int64  \n",
      " 81  CAT_CREDIT_CARD          1000 non-null   int64  \n",
      " 82  CAT_MORTGAGE             1000 non-null   int64  \n",
      " 83  CAT_SAVINGS_ACCOUNT      1000 non-null   int64  \n",
      " 84  CAT_DEPENDENTS           1000 non-null   int64  \n",
      " 85  CREDIT_SCORE             1000 non-null   int64  \n",
      " 86  DEFAULT                  1000 non-null   int64  \n",
      "dtypes: float64(51), int64(34), object(2)\n",
      "memory usage: 679.8+ KB\n"
     ]
    }
   ],
   "source": [
    "#check datatype and info \n",
    "df.info()"
   ]
  },
  {
   "cell_type": "markdown",
   "id": "4023e8c7",
   "metadata": {},
   "source": [
    "##### check the number of unique values of each columns "
   ]
  },
  {
   "cell_type": "code",
   "execution_count": 12,
   "id": "10f581ab",
   "metadata": {},
   "outputs": [
    {
     "data": {
      "text/plain": [
       "CUST_ID                    1000\n",
       "INCOME                      951\n",
       "SAVINGS                     992\n",
       "DEBT                        943\n",
       "R_SAVINGS_INCOME            463\n",
       "R_DEBT_INCOME               545\n",
       "R_DEBT_SAVINGS              840\n",
       "T_CLOTHING_12               916\n",
       "T_CLOTHING_6                848\n",
       "R_CLOTHING                  927\n",
       "R_CLOTHING_INCOME           649\n",
       "R_CLOTHING_SAVINGS          545\n",
       "R_CLOTHING_DEBT             445\n",
       "T_EDUCATION_12              383\n",
       "T_EDUCATION_6               375\n",
       "R_EDUCATION                 102\n",
       "R_EDUCATION_INCOME          365\n",
       "R_EDUCATION_SAVINGS         324\n",
       "R_EDUCATION_DEBT            234\n",
       "T_ENTERTAINMENT_12          934\n",
       "T_ENTERTAINMENT_6           932\n",
       "R_ENTERTAINMENT             462\n",
       "R_ENTERTAINMENT_INCOME      854\n",
       "R_ENTERTAINMENT_SAVINGS     716\n",
       "R_ENTERTAINMENT_DEBT        632\n",
       "T_FINES_12                   71\n",
       "T_FINES_6                    48\n",
       "R_FINES                     924\n",
       "R_FINES_INCOME               51\n",
       "R_FINES_SAVINGS              45\n",
       "R_FINES_DEBT                 24\n",
       "T_GAMBLING_12               377\n",
       "T_GAMBLING_6                361\n",
       "R_GAMBLING                  770\n",
       "R_GAMBLING_INCOME           304\n",
       "R_GAMBLING_SAVINGS          257\n",
       "R_GAMBLING_DEBT             228\n",
       "T_GROCERIES_12              986\n",
       "T_GROCERIES_6               968\n",
       "R_GROCERIES                 635\n",
       "R_GROCERIES_INCOME          841\n",
       "R_GROCERIES_SAVINGS         712\n",
       "R_GROCERIES_DEBT            615\n",
       "T_HEALTH_12                 912\n",
       "T_HEALTH_6                  847\n",
       "R_HEALTH                    903\n",
       "R_HEALTH_INCOME             635\n",
       "R_HEALTH_SAVINGS            425\n",
       "R_HEALTH_DEBT               443\n",
       "T_HOUSING_12                458\n",
       "T_HOUSING_6                 454\n",
       "R_HOUSING                    14\n",
       "R_HOUSING_INCOME            440\n",
       "R_HOUSING_SAVINGS           392\n",
       "R_HOUSING_DEBT              418\n",
       "T_TAX_12                    691\n",
       "T_TAX_6                     639\n",
       "R_TAX                       257\n",
       "R_TAX_INCOME                431\n",
       "R_TAX_SAVINGS               351\n",
       "R_TAX_DEBT                  253\n",
       "T_TRAVEL_12                 790\n",
       "T_TRAVEL_6                  785\n",
       "R_TRAVEL                    909\n",
       "R_TRAVEL_INCOME             722\n",
       "R_TRAVEL_SAVINGS            706\n",
       "R_TRAVEL_DEBT               658\n",
       "T_UTILITIES_12              915\n",
       "T_UTILITIES_6               877\n",
       "R_UTILITIES                 102\n",
       "R_UTILITIES_INCOME          555\n",
       "R_UTILITIES_SAVINGS         485\n",
       "R_UTILITIES_DEBT            448\n",
       "T_EXPENDITURE_12            999\n",
       "T_EXPENDITURE_6             993\n",
       "R_EXPENDITURE               863\n",
       "R_EXPENDITURE_INCOME         72\n",
       "R_EXPENDITURE_SAVINGS       210\n",
       "R_EXPENDITURE_DEBT          280\n",
       "CAT_GAMBLING                  3\n",
       "CAT_DEBT                      2\n",
       "CAT_CREDIT_CARD               2\n",
       "CAT_MORTGAGE                  2\n",
       "CAT_SAVINGS_ACCOUNT           2\n",
       "CAT_DEPENDENTS                2\n",
       "CREDIT_SCORE                259\n",
       "DEFAULT                       2\n",
       "dtype: int64"
      ]
     },
     "execution_count": 12,
     "metadata": {},
     "output_type": "execute_result"
    }
   ],
   "source": [
    "df.nunique()"
   ]
  },
  {
   "cell_type": "markdown",
   "id": "12be7825",
   "metadata": {},
   "source": [
    "##### check statistics of dataset "
   ]
  },
  {
   "cell_type": "code",
   "execution_count": 13,
   "id": "4abd8b49",
   "metadata": {},
   "outputs": [
    {
     "data": {
      "text/html": [
       "<div>\n",
       "<style scoped>\n",
       "    .dataframe tbody tr th:only-of-type {\n",
       "        vertical-align: middle;\n",
       "    }\n",
       "\n",
       "    .dataframe tbody tr th {\n",
       "        vertical-align: top;\n",
       "    }\n",
       "\n",
       "    .dataframe thead th {\n",
       "        text-align: right;\n",
       "    }\n",
       "</style>\n",
       "<table border=\"1\" class=\"dataframe\">\n",
       "  <thead>\n",
       "    <tr style=\"text-align: right;\">\n",
       "      <th></th>\n",
       "      <th>INCOME</th>\n",
       "      <th>SAVINGS</th>\n",
       "      <th>DEBT</th>\n",
       "      <th>R_SAVINGS_INCOME</th>\n",
       "      <th>R_DEBT_INCOME</th>\n",
       "      <th>R_DEBT_SAVINGS</th>\n",
       "      <th>T_CLOTHING_12</th>\n",
       "      <th>T_CLOTHING_6</th>\n",
       "      <th>R_CLOTHING</th>\n",
       "      <th>R_CLOTHING_INCOME</th>\n",
       "      <th>R_CLOTHING_SAVINGS</th>\n",
       "      <th>R_CLOTHING_DEBT</th>\n",
       "      <th>T_EDUCATION_12</th>\n",
       "      <th>T_EDUCATION_6</th>\n",
       "      <th>R_EDUCATION</th>\n",
       "      <th>R_EDUCATION_INCOME</th>\n",
       "      <th>R_EDUCATION_SAVINGS</th>\n",
       "      <th>R_EDUCATION_DEBT</th>\n",
       "      <th>T_ENTERTAINMENT_12</th>\n",
       "      <th>T_ENTERTAINMENT_6</th>\n",
       "      <th>R_ENTERTAINMENT</th>\n",
       "      <th>R_ENTERTAINMENT_INCOME</th>\n",
       "      <th>R_ENTERTAINMENT_SAVINGS</th>\n",
       "      <th>R_ENTERTAINMENT_DEBT</th>\n",
       "      <th>T_FINES_12</th>\n",
       "      <th>T_FINES_6</th>\n",
       "      <th>R_FINES</th>\n",
       "      <th>R_FINES_INCOME</th>\n",
       "      <th>R_FINES_SAVINGS</th>\n",
       "      <th>R_FINES_DEBT</th>\n",
       "      <th>T_GAMBLING_12</th>\n",
       "      <th>T_GAMBLING_6</th>\n",
       "      <th>R_GAMBLING</th>\n",
       "      <th>R_GAMBLING_INCOME</th>\n",
       "      <th>R_GAMBLING_SAVINGS</th>\n",
       "      <th>R_GAMBLING_DEBT</th>\n",
       "      <th>T_GROCERIES_12</th>\n",
       "      <th>T_GROCERIES_6</th>\n",
       "      <th>R_GROCERIES</th>\n",
       "      <th>R_GROCERIES_INCOME</th>\n",
       "      <th>R_GROCERIES_SAVINGS</th>\n",
       "      <th>R_GROCERIES_DEBT</th>\n",
       "      <th>T_HEALTH_12</th>\n",
       "      <th>T_HEALTH_6</th>\n",
       "      <th>R_HEALTH</th>\n",
       "      <th>R_HEALTH_INCOME</th>\n",
       "      <th>R_HEALTH_SAVINGS</th>\n",
       "      <th>R_HEALTH_DEBT</th>\n",
       "      <th>T_HOUSING_12</th>\n",
       "      <th>T_HOUSING_6</th>\n",
       "      <th>R_HOUSING</th>\n",
       "      <th>R_HOUSING_INCOME</th>\n",
       "      <th>R_HOUSING_SAVINGS</th>\n",
       "      <th>R_HOUSING_DEBT</th>\n",
       "      <th>T_TAX_12</th>\n",
       "      <th>T_TAX_6</th>\n",
       "      <th>R_TAX</th>\n",
       "      <th>R_TAX_INCOME</th>\n",
       "      <th>R_TAX_SAVINGS</th>\n",
       "      <th>R_TAX_DEBT</th>\n",
       "      <th>T_TRAVEL_12</th>\n",
       "      <th>T_TRAVEL_6</th>\n",
       "      <th>R_TRAVEL</th>\n",
       "      <th>R_TRAVEL_INCOME</th>\n",
       "      <th>R_TRAVEL_SAVINGS</th>\n",
       "      <th>R_TRAVEL_DEBT</th>\n",
       "      <th>T_UTILITIES_12</th>\n",
       "      <th>T_UTILITIES_6</th>\n",
       "      <th>R_UTILITIES</th>\n",
       "      <th>R_UTILITIES_INCOME</th>\n",
       "      <th>R_UTILITIES_SAVINGS</th>\n",
       "      <th>R_UTILITIES_DEBT</th>\n",
       "      <th>T_EXPENDITURE_12</th>\n",
       "      <th>T_EXPENDITURE_6</th>\n",
       "      <th>R_EXPENDITURE</th>\n",
       "      <th>R_EXPENDITURE_INCOME</th>\n",
       "      <th>R_EXPENDITURE_SAVINGS</th>\n",
       "      <th>R_EXPENDITURE_DEBT</th>\n",
       "      <th>CAT_DEBT</th>\n",
       "      <th>CAT_CREDIT_CARD</th>\n",
       "      <th>CAT_MORTGAGE</th>\n",
       "      <th>CAT_SAVINGS_ACCOUNT</th>\n",
       "      <th>CAT_DEPENDENTS</th>\n",
       "      <th>CREDIT_SCORE</th>\n",
       "      <th>DEFAULT</th>\n",
       "    </tr>\n",
       "  </thead>\n",
       "  <tbody>\n",
       "    <tr>\n",
       "      <th>count</th>\n",
       "      <td>1000.000000</td>\n",
       "      <td>1.000000e+03</td>\n",
       "      <td>1.000000e+03</td>\n",
       "      <td>1000.000000</td>\n",
       "      <td>1000.000000</td>\n",
       "      <td>1000.000000</td>\n",
       "      <td>1000.000000</td>\n",
       "      <td>1000.000000</td>\n",
       "      <td>1000.000000</td>\n",
       "      <td>1000.000000</td>\n",
       "      <td>1000.000000</td>\n",
       "      <td>1000.000000</td>\n",
       "      <td>1000.00000</td>\n",
       "      <td>1000.000000</td>\n",
       "      <td>1000.000000</td>\n",
       "      <td>1000.000000</td>\n",
       "      <td>1000.000000</td>\n",
       "      <td>1000.000000</td>\n",
       "      <td>1000.000000</td>\n",
       "      <td>1000.000000</td>\n",
       "      <td>1000.000000</td>\n",
       "      <td>1000.000000</td>\n",
       "      <td>1000.000000</td>\n",
       "      <td>1000.000000</td>\n",
       "      <td>1000.000000</td>\n",
       "      <td>1000.000000</td>\n",
       "      <td>1000.000000</td>\n",
       "      <td>1000.000000</td>\n",
       "      <td>1000.000000</td>\n",
       "      <td>1000.000000</td>\n",
       "      <td>1000.00000</td>\n",
       "      <td>1000.000000</td>\n",
       "      <td>1000.000000</td>\n",
       "      <td>1000.000000</td>\n",
       "      <td>1000.000000</td>\n",
       "      <td>1000.000000</td>\n",
       "      <td>1000.000000</td>\n",
       "      <td>1000.00000</td>\n",
       "      <td>1000.000000</td>\n",
       "      <td>1000.000000</td>\n",
       "      <td>1000.000000</td>\n",
       "      <td>1000.000000</td>\n",
       "      <td>1000.000000</td>\n",
       "      <td>1000.000000</td>\n",
       "      <td>1000.000000</td>\n",
       "      <td>1000.000000</td>\n",
       "      <td>1000.000000</td>\n",
       "      <td>1000.000000</td>\n",
       "      <td>1000.000000</td>\n",
       "      <td>1000.000000</td>\n",
       "      <td>1000.000000</td>\n",
       "      <td>1000.000000</td>\n",
       "      <td>1000.000000</td>\n",
       "      <td>1000.000000</td>\n",
       "      <td>1000.000000</td>\n",
       "      <td>1000.000000</td>\n",
       "      <td>1000.000000</td>\n",
       "      <td>1000.000000</td>\n",
       "      <td>1000.000000</td>\n",
       "      <td>1000.000000</td>\n",
       "      <td>1000.00000</td>\n",
       "      <td>1000.000000</td>\n",
       "      <td>1000.000000</td>\n",
       "      <td>1000.000000</td>\n",
       "      <td>1000.000000</td>\n",
       "      <td>1000.000000</td>\n",
       "      <td>1000.000000</td>\n",
       "      <td>1000.000000</td>\n",
       "      <td>1000.000000</td>\n",
       "      <td>1000.000000</td>\n",
       "      <td>1000.000000</td>\n",
       "      <td>1000.000000</td>\n",
       "      <td>1000.000000</td>\n",
       "      <td>1000.000000</td>\n",
       "      <td>1000.000000</td>\n",
       "      <td>1000.000000</td>\n",
       "      <td>1000.000000</td>\n",
       "      <td>1000.000000</td>\n",
       "      <td>1000.000000</td>\n",
       "      <td>1000.000000</td>\n",
       "      <td>1000.000000</td>\n",
       "      <td>1000.000000</td>\n",
       "      <td>1000.00000</td>\n",
       "      <td>1000.000000</td>\n",
       "      <td>1000.000000</td>\n",
       "    </tr>\n",
       "    <tr>\n",
       "      <th>mean</th>\n",
       "      <td>121610.019000</td>\n",
       "      <td>4.131896e+05</td>\n",
       "      <td>7.907180e+05</td>\n",
       "      <td>4.063477</td>\n",
       "      <td>6.068449</td>\n",
       "      <td>5.867252</td>\n",
       "      <td>6822.401000</td>\n",
       "      <td>3466.320000</td>\n",
       "      <td>0.454848</td>\n",
       "      <td>0.055557</td>\n",
       "      <td>0.048057</td>\n",
       "      <td>0.030536</td>\n",
       "      <td>3604.26000</td>\n",
       "      <td>1811.460000</td>\n",
       "      <td>0.502418</td>\n",
       "      <td>0.038695</td>\n",
       "      <td>0.054301</td>\n",
       "      <td>0.011843</td>\n",
       "      <td>14261.255000</td>\n",
       "      <td>7945.307000</td>\n",
       "      <td>0.546432</td>\n",
       "      <td>0.167514</td>\n",
       "      <td>0.219330</td>\n",
       "      <td>0.094456</td>\n",
       "      <td>26.504000</td>\n",
       "      <td>14.460000</td>\n",
       "      <td>0.760875</td>\n",
       "      <td>0.000291</td>\n",
       "      <td>0.000400</td>\n",
       "      <td>0.000098</td>\n",
       "      <td>2433.58700</td>\n",
       "      <td>1241.625000</td>\n",
       "      <td>0.515578</td>\n",
       "      <td>0.018471</td>\n",
       "      <td>0.018333</td>\n",
       "      <td>0.006730</td>\n",
       "      <td>18027.602000</td>\n",
       "      <td>9327.58900</td>\n",
       "      <td>0.509240</td>\n",
       "      <td>0.156475</td>\n",
       "      <td>0.112795</td>\n",
       "      <td>0.096222</td>\n",
       "      <td>5379.650000</td>\n",
       "      <td>2657.589000</td>\n",
       "      <td>0.465418</td>\n",
       "      <td>0.052300</td>\n",
       "      <td>0.024068</td>\n",
       "      <td>0.050076</td>\n",
       "      <td>11146.711000</td>\n",
       "      <td>5641.330000</td>\n",
       "      <td>0.506100</td>\n",
       "      <td>0.092608</td>\n",
       "      <td>0.056445</td>\n",
       "      <td>0.073870</td>\n",
       "      <td>4110.759000</td>\n",
       "      <td>2072.056000</td>\n",
       "      <td>0.502023</td>\n",
       "      <td>0.025089</td>\n",
       "      <td>0.014386</td>\n",
       "      <td>0.009917</td>\n",
       "      <td>31762.33000</td>\n",
       "      <td>16675.370000</td>\n",
       "      <td>0.488455</td>\n",
       "      <td>0.282834</td>\n",
       "      <td>0.331022</td>\n",
       "      <td>0.182340</td>\n",
       "      <td>6755.765000</td>\n",
       "      <td>3394.665000</td>\n",
       "      <td>0.502487</td>\n",
       "      <td>0.054655</td>\n",
       "      <td>0.033229</td>\n",
       "      <td>0.036638</td>\n",
       "      <td>104330.824000</td>\n",
       "      <td>54247.771000</td>\n",
       "      <td>0.512560</td>\n",
       "      <td>0.943607</td>\n",
       "      <td>0.913340</td>\n",
       "      <td>0.605276</td>\n",
       "      <td>0.944000</td>\n",
       "      <td>0.236000</td>\n",
       "      <td>0.173000</td>\n",
       "      <td>0.993000</td>\n",
       "      <td>0.15000</td>\n",
       "      <td>586.712000</td>\n",
       "      <td>0.284000</td>\n",
       "    </tr>\n",
       "    <tr>\n",
       "      <th>std</th>\n",
       "      <td>113716.699591</td>\n",
       "      <td>4.429160e+05</td>\n",
       "      <td>9.817904e+05</td>\n",
       "      <td>3.968097</td>\n",
       "      <td>5.847878</td>\n",
       "      <td>16.788356</td>\n",
       "      <td>7486.225932</td>\n",
       "      <td>5118.942977</td>\n",
       "      <td>0.236036</td>\n",
       "      <td>0.037568</td>\n",
       "      <td>0.097712</td>\n",
       "      <td>0.084469</td>\n",
       "      <td>7065.70035</td>\n",
       "      <td>3551.440702</td>\n",
       "      <td>0.001910</td>\n",
       "      <td>0.074037</td>\n",
       "      <td>0.242352</td>\n",
       "      <td>0.059634</td>\n",
       "      <td>12388.187688</td>\n",
       "      <td>7374.463757</td>\n",
       "      <td>0.062581</td>\n",
       "      <td>0.136778</td>\n",
       "      <td>0.577628</td>\n",
       "      <td>0.237148</td>\n",
       "      <td>136.171755</td>\n",
       "      <td>88.509176</td>\n",
       "      <td>0.286043</td>\n",
       "      <td>0.001390</td>\n",
       "      <td>0.003359</td>\n",
       "      <td>0.000783</td>\n",
       "      <td>5007.15757</td>\n",
       "      <td>2570.476975</td>\n",
       "      <td>0.052257</td>\n",
       "      <td>0.032843</td>\n",
       "      <td>0.063437</td>\n",
       "      <td>0.017247</td>\n",
       "      <td>19207.309541</td>\n",
       "      <td>10313.29888</td>\n",
       "      <td>0.057203</td>\n",
       "      <td>0.088929</td>\n",
       "      <td>0.227134</td>\n",
       "      <td>0.222194</td>\n",
       "      <td>5316.800612</td>\n",
       "      <td>3386.038271</td>\n",
       "      <td>0.212398</td>\n",
       "      <td>0.045199</td>\n",
       "      <td>0.044281</td>\n",
       "      <td>0.141497</td>\n",
       "      <td>17892.426895</td>\n",
       "      <td>9055.316562</td>\n",
       "      <td>0.000115</td>\n",
       "      <td>0.110893</td>\n",
       "      <td>0.140885</td>\n",
       "      <td>0.236318</td>\n",
       "      <td>4642.793109</td>\n",
       "      <td>2355.615151</td>\n",
       "      <td>0.036988</td>\n",
       "      <td>0.019101</td>\n",
       "      <td>0.021287</td>\n",
       "      <td>0.022221</td>\n",
       "      <td>35822.00011</td>\n",
       "      <td>22305.675848</td>\n",
       "      <td>0.179431</td>\n",
       "      <td>0.196954</td>\n",
       "      <td>0.787567</td>\n",
       "      <td>0.494932</td>\n",
       "      <td>6313.708805</td>\n",
       "      <td>3172.759148</td>\n",
       "      <td>0.001859</td>\n",
       "      <td>0.025812</td>\n",
       "      <td>0.052815</td>\n",
       "      <td>0.080381</td>\n",
       "      <td>89250.193047</td>\n",
       "      <td>49853.939283</td>\n",
       "      <td>0.079740</td>\n",
       "      <td>0.168989</td>\n",
       "      <td>1.625278</td>\n",
       "      <td>1.299382</td>\n",
       "      <td>0.230037</td>\n",
       "      <td>0.424835</td>\n",
       "      <td>0.378437</td>\n",
       "      <td>0.083414</td>\n",
       "      <td>0.35725</td>\n",
       "      <td>63.413882</td>\n",
       "      <td>0.451162</td>\n",
       "    </tr>\n",
       "    <tr>\n",
       "      <th>min</th>\n",
       "      <td>0.000000</td>\n",
       "      <td>0.000000e+00</td>\n",
       "      <td>0.000000e+00</td>\n",
       "      <td>0.000000</td>\n",
       "      <td>0.000000</td>\n",
       "      <td>0.000000</td>\n",
       "      <td>0.000000</td>\n",
       "      <td>0.000000</td>\n",
       "      <td>0.000000</td>\n",
       "      <td>0.003400</td>\n",
       "      <td>0.000000</td>\n",
       "      <td>0.000000</td>\n",
       "      <td>0.00000</td>\n",
       "      <td>0.000000</td>\n",
       "      <td>0.492600</td>\n",
       "      <td>0.000000</td>\n",
       "      <td>0.000000</td>\n",
       "      <td>0.000000</td>\n",
       "      <td>0.000000</td>\n",
       "      <td>0.000000</td>\n",
       "      <td>0.389800</td>\n",
       "      <td>0.000000</td>\n",
       "      <td>0.000000</td>\n",
       "      <td>0.000000</td>\n",
       "      <td>0.000000</td>\n",
       "      <td>0.000000</td>\n",
       "      <td>0.000000</td>\n",
       "      <td>0.000000</td>\n",
       "      <td>0.000000</td>\n",
       "      <td>0.000000</td>\n",
       "      <td>0.00000</td>\n",
       "      <td>0.000000</td>\n",
       "      <td>0.334200</td>\n",
       "      <td>0.000000</td>\n",
       "      <td>0.000000</td>\n",
       "      <td>0.000000</td>\n",
       "      <td>208.000000</td>\n",
       "      <td>74.00000</td>\n",
       "      <td>0.267300</td>\n",
       "      <td>0.000000</td>\n",
       "      <td>0.000000</td>\n",
       "      <td>0.000000</td>\n",
       "      <td>0.000000</td>\n",
       "      <td>0.000000</td>\n",
       "      <td>0.000000</td>\n",
       "      <td>0.000000</td>\n",
       "      <td>0.000000</td>\n",
       "      <td>0.000000</td>\n",
       "      <td>0.000000</td>\n",
       "      <td>0.000000</td>\n",
       "      <td>0.505100</td>\n",
       "      <td>0.000000</td>\n",
       "      <td>0.000000</td>\n",
       "      <td>0.000000</td>\n",
       "      <td>0.000000</td>\n",
       "      <td>0.000000</td>\n",
       "      <td>0.333900</td>\n",
       "      <td>0.000000</td>\n",
       "      <td>0.000000</td>\n",
       "      <td>0.000000</td>\n",
       "      <td>0.00000</td>\n",
       "      <td>0.000000</td>\n",
       "      <td>0.000000</td>\n",
       "      <td>0.000000</td>\n",
       "      <td>0.000000</td>\n",
       "      <td>0.000000</td>\n",
       "      <td>0.000000</td>\n",
       "      <td>0.000000</td>\n",
       "      <td>0.493800</td>\n",
       "      <td>0.000000</td>\n",
       "      <td>0.000000</td>\n",
       "      <td>0.000000</td>\n",
       "      <td>1177.000000</td>\n",
       "      <td>620.000000</td>\n",
       "      <td>0.176900</td>\n",
       "      <td>0.666700</td>\n",
       "      <td>0.000000</td>\n",
       "      <td>0.000000</td>\n",
       "      <td>0.000000</td>\n",
       "      <td>0.000000</td>\n",
       "      <td>0.000000</td>\n",
       "      <td>0.000000</td>\n",
       "      <td>0.00000</td>\n",
       "      <td>300.000000</td>\n",
       "      <td>0.000000</td>\n",
       "    </tr>\n",
       "    <tr>\n",
       "      <th>25%</th>\n",
       "      <td>30450.250000</td>\n",
       "      <td>5.971975e+04</td>\n",
       "      <td>5.396675e+04</td>\n",
       "      <td>1.000000</td>\n",
       "      <td>1.454500</td>\n",
       "      <td>0.206200</td>\n",
       "      <td>1084.500000</td>\n",
       "      <td>319.500000</td>\n",
       "      <td>0.263950</td>\n",
       "      <td>0.029700</td>\n",
       "      <td>0.005000</td>\n",
       "      <td>0.004100</td>\n",
       "      <td>0.00000</td>\n",
       "      <td>0.000000</td>\n",
       "      <td>0.501200</td>\n",
       "      <td>0.000000</td>\n",
       "      <td>0.000000</td>\n",
       "      <td>0.000000</td>\n",
       "      <td>4248.750000</td>\n",
       "      <td>2289.000000</td>\n",
       "      <td>0.507875</td>\n",
       "      <td>0.092975</td>\n",
       "      <td>0.012900</td>\n",
       "      <td>0.009675</td>\n",
       "      <td>0.000000</td>\n",
       "      <td>0.000000</td>\n",
       "      <td>0.568200</td>\n",
       "      <td>0.000000</td>\n",
       "      <td>0.000000</td>\n",
       "      <td>0.000000</td>\n",
       "      <td>0.00000</td>\n",
       "      <td>0.000000</td>\n",
       "      <td>0.482150</td>\n",
       "      <td>0.000000</td>\n",
       "      <td>0.000000</td>\n",
       "      <td>0.000000</td>\n",
       "      <td>4334.750000</td>\n",
       "      <td>2178.00000</td>\n",
       "      <td>0.480100</td>\n",
       "      <td>0.093175</td>\n",
       "      <td>0.030200</td>\n",
       "      <td>0.013100</td>\n",
       "      <td>1217.000000</td>\n",
       "      <td>361.750000</td>\n",
       "      <td>0.326900</td>\n",
       "      <td>0.024175</td>\n",
       "      <td>0.008500</td>\n",
       "      <td>0.003400</td>\n",
       "      <td>0.000000</td>\n",
       "      <td>0.000000</td>\n",
       "      <td>0.506100</td>\n",
       "      <td>0.000000</td>\n",
       "      <td>0.000000</td>\n",
       "      <td>0.000000</td>\n",
       "      <td>210.000000</td>\n",
       "      <td>107.250000</td>\n",
       "      <td>0.499450</td>\n",
       "      <td>0.007000</td>\n",
       "      <td>0.000600</td>\n",
       "      <td>0.002900</td>\n",
       "      <td>5258.25000</td>\n",
       "      <td>1395.000000</td>\n",
       "      <td>0.390375</td>\n",
       "      <td>0.171100</td>\n",
       "      <td>0.025675</td>\n",
       "      <td>0.013500</td>\n",
       "      <td>1511.500000</td>\n",
       "      <td>760.500000</td>\n",
       "      <td>0.501300</td>\n",
       "      <td>0.038100</td>\n",
       "      <td>0.009100</td>\n",
       "      <td>0.005500</td>\n",
       "      <td>30216.750000</td>\n",
       "      <td>15768.500000</td>\n",
       "      <td>0.469675</td>\n",
       "      <td>0.833300</td>\n",
       "      <td>0.158700</td>\n",
       "      <td>0.100000</td>\n",
       "      <td>1.000000</td>\n",
       "      <td>0.000000</td>\n",
       "      <td>0.000000</td>\n",
       "      <td>1.000000</td>\n",
       "      <td>0.00000</td>\n",
       "      <td>554.750000</td>\n",
       "      <td>0.000000</td>\n",
       "    </tr>\n",
       "    <tr>\n",
       "      <th>50%</th>\n",
       "      <td>85090.000000</td>\n",
       "      <td>2.738505e+05</td>\n",
       "      <td>3.950955e+05</td>\n",
       "      <td>2.545450</td>\n",
       "      <td>4.911550</td>\n",
       "      <td>2.000000</td>\n",
       "      <td>4494.000000</td>\n",
       "      <td>1304.000000</td>\n",
       "      <td>0.468850</td>\n",
       "      <td>0.046800</td>\n",
       "      <td>0.017600</td>\n",
       "      <td>0.011700</td>\n",
       "      <td>0.00000</td>\n",
       "      <td>0.000000</td>\n",
       "      <td>0.502500</td>\n",
       "      <td>0.000000</td>\n",
       "      <td>0.000000</td>\n",
       "      <td>0.000000</td>\n",
       "      <td>9401.000000</td>\n",
       "      <td>5003.500000</td>\n",
       "      <td>0.511900</td>\n",
       "      <td>0.138050</td>\n",
       "      <td>0.040850</td>\n",
       "      <td>0.026800</td>\n",
       "      <td>0.000000</td>\n",
       "      <td>0.000000</td>\n",
       "      <td>0.772850</td>\n",
       "      <td>0.000000</td>\n",
       "      <td>0.000000</td>\n",
       "      <td>0.000000</td>\n",
       "      <td>0.00000</td>\n",
       "      <td>0.000000</td>\n",
       "      <td>0.516950</td>\n",
       "      <td>0.000000</td>\n",
       "      <td>0.000000</td>\n",
       "      <td>0.000000</td>\n",
       "      <td>9510.500000</td>\n",
       "      <td>4876.50000</td>\n",
       "      <td>0.516250</td>\n",
       "      <td>0.133000</td>\n",
       "      <td>0.047800</td>\n",
       "      <td>0.024750</td>\n",
       "      <td>3986.500000</td>\n",
       "      <td>1399.000000</td>\n",
       "      <td>0.478650</td>\n",
       "      <td>0.038100</td>\n",
       "      <td>0.013800</td>\n",
       "      <td>0.006800</td>\n",
       "      <td>0.000000</td>\n",
       "      <td>0.000000</td>\n",
       "      <td>0.506100</td>\n",
       "      <td>0.000000</td>\n",
       "      <td>0.000000</td>\n",
       "      <td>0.000000</td>\n",
       "      <td>2598.000000</td>\n",
       "      <td>1293.000000</td>\n",
       "      <td>0.500600</td>\n",
       "      <td>0.024800</td>\n",
       "      <td>0.008500</td>\n",
       "      <td>0.005200</td>\n",
       "      <td>19417.50000</td>\n",
       "      <td>8408.000000</td>\n",
       "      <td>0.525800</td>\n",
       "      <td>0.297700</td>\n",
       "      <td>0.077450</td>\n",
       "      <td>0.048250</td>\n",
       "      <td>4090.500000</td>\n",
       "      <td>2053.500000</td>\n",
       "      <td>0.502400</td>\n",
       "      <td>0.052550</td>\n",
       "      <td>0.019200</td>\n",
       "      <td>0.010100</td>\n",
       "      <td>80639.000000</td>\n",
       "      <td>40898.000000</td>\n",
       "      <td>0.519900</td>\n",
       "      <td>0.909100</td>\n",
       "      <td>0.327950</td>\n",
       "      <td>0.178600</td>\n",
       "      <td>1.000000</td>\n",
       "      <td>0.000000</td>\n",
       "      <td>0.000000</td>\n",
       "      <td>1.000000</td>\n",
       "      <td>0.00000</td>\n",
       "      <td>596.000000</td>\n",
       "      <td>0.000000</td>\n",
       "    </tr>\n",
       "    <tr>\n",
       "      <th>75%</th>\n",
       "      <td>181217.500000</td>\n",
       "      <td>6.222600e+05</td>\n",
       "      <td>1.193230e+06</td>\n",
       "      <td>6.307100</td>\n",
       "      <td>8.587475</td>\n",
       "      <td>4.509600</td>\n",
       "      <td>10148.500000</td>\n",
       "      <td>4555.500000</td>\n",
       "      <td>0.626300</td>\n",
       "      <td>0.069400</td>\n",
       "      <td>0.054225</td>\n",
       "      <td>0.026925</td>\n",
       "      <td>5189.25000</td>\n",
       "      <td>2611.000000</td>\n",
       "      <td>0.503700</td>\n",
       "      <td>0.045900</td>\n",
       "      <td>0.021100</td>\n",
       "      <td>0.008500</td>\n",
       "      <td>22892.500000</td>\n",
       "      <td>12304.750000</td>\n",
       "      <td>0.590800</td>\n",
       "      <td>0.205050</td>\n",
       "      <td>0.160775</td>\n",
       "      <td>0.084250</td>\n",
       "      <td>0.000000</td>\n",
       "      <td>0.000000</td>\n",
       "      <td>0.964300</td>\n",
       "      <td>0.000000</td>\n",
       "      <td>0.000000</td>\n",
       "      <td>0.000000</td>\n",
       "      <td>1314.25000</td>\n",
       "      <td>665.000000</td>\n",
       "      <td>0.550075</td>\n",
       "      <td>0.019325</td>\n",
       "      <td>0.003725</td>\n",
       "      <td>0.007025</td>\n",
       "      <td>28125.500000</td>\n",
       "      <td>14224.00000</td>\n",
       "      <td>0.543525</td>\n",
       "      <td>0.198625</td>\n",
       "      <td>0.102025</td>\n",
       "      <td>0.090350</td>\n",
       "      <td>7939.000000</td>\n",
       "      <td>3832.500000</td>\n",
       "      <td>0.610600</td>\n",
       "      <td>0.067075</td>\n",
       "      <td>0.024075</td>\n",
       "      <td>0.033050</td>\n",
       "      <td>17312.500000</td>\n",
       "      <td>8762.000000</td>\n",
       "      <td>0.506100</td>\n",
       "      <td>0.185900</td>\n",
       "      <td>0.052425</td>\n",
       "      <td>0.041325</td>\n",
       "      <td>6742.750000</td>\n",
       "      <td>3355.500000</td>\n",
       "      <td>0.515625</td>\n",
       "      <td>0.037900</td>\n",
       "      <td>0.018800</td>\n",
       "      <td>0.010000</td>\n",
       "      <td>48629.00000</td>\n",
       "      <td>23954.000000</td>\n",
       "      <td>0.608425</td>\n",
       "      <td>0.387750</td>\n",
       "      <td>0.264725</td>\n",
       "      <td>0.153750</td>\n",
       "      <td>11387.750000</td>\n",
       "      <td>5736.500000</td>\n",
       "      <td>0.503600</td>\n",
       "      <td>0.069425</td>\n",
       "      <td>0.035825</td>\n",
       "      <td>0.034550</td>\n",
       "      <td>155325.000000</td>\n",
       "      <td>78459.000000</td>\n",
       "      <td>0.561150</td>\n",
       "      <td>1.000000</td>\n",
       "      <td>0.833300</td>\n",
       "      <td>0.588200</td>\n",
       "      <td>1.000000</td>\n",
       "      <td>0.000000</td>\n",
       "      <td>0.000000</td>\n",
       "      <td>1.000000</td>\n",
       "      <td>0.00000</td>\n",
       "      <td>630.000000</td>\n",
       "      <td>1.000000</td>\n",
       "    </tr>\n",
       "    <tr>\n",
       "      <th>max</th>\n",
       "      <td>662094.000000</td>\n",
       "      <td>2.911863e+06</td>\n",
       "      <td>5.968620e+06</td>\n",
       "      <td>16.111200</td>\n",
       "      <td>37.000600</td>\n",
       "      <td>292.842100</td>\n",
       "      <td>43255.000000</td>\n",
       "      <td>39918.000000</td>\n",
       "      <td>1.058300</td>\n",
       "      <td>0.251700</td>\n",
       "      <td>1.676600</td>\n",
       "      <td>1.267400</td>\n",
       "      <td>38229.00000</td>\n",
       "      <td>19327.000000</td>\n",
       "      <td>0.510700</td>\n",
       "      <td>0.530200</td>\n",
       "      <td>4.338000</td>\n",
       "      <td>1.479300</td>\n",
       "      <td>62529.000000</td>\n",
       "      <td>44066.000000</td>\n",
       "      <td>0.787600</td>\n",
       "      <td>1.397400</td>\n",
       "      <td>7.931000</td>\n",
       "      <td>3.114100</td>\n",
       "      <td>1421.000000</td>\n",
       "      <td>1082.000000</td>\n",
       "      <td>1.573100</td>\n",
       "      <td>0.025600</td>\n",
       "      <td>0.064100</td>\n",
       "      <td>0.022800</td>\n",
       "      <td>22099.00000</td>\n",
       "      <td>11780.000000</td>\n",
       "      <td>0.690500</td>\n",
       "      <td>0.205800</td>\n",
       "      <td>0.897400</td>\n",
       "      <td>0.169100</td>\n",
       "      <td>94250.000000</td>\n",
       "      <td>56455.00000</td>\n",
       "      <td>0.655900</td>\n",
       "      <td>0.563500</td>\n",
       "      <td>3.557800</td>\n",
       "      <td>3.050000</td>\n",
       "      <td>45428.000000</td>\n",
       "      <td>33967.000000</td>\n",
       "      <td>1.000000</td>\n",
       "      <td>0.397000</td>\n",
       "      <td>0.939000</td>\n",
       "      <td>2.031600</td>\n",
       "      <td>83269.000000</td>\n",
       "      <td>42143.000000</td>\n",
       "      <td>0.506800</td>\n",
       "      <td>0.428600</td>\n",
       "      <td>1.500500</td>\n",
       "      <td>3.391800</td>\n",
       "      <td>17013.000000</td>\n",
       "      <td>8517.000000</td>\n",
       "      <td>0.667100</td>\n",
       "      <td>0.089600</td>\n",
       "      <td>0.204100</td>\n",
       "      <td>0.389000</td>\n",
       "      <td>216557.00000</td>\n",
       "      <td>158788.000000</td>\n",
       "      <td>1.043200</td>\n",
       "      <td>1.396700</td>\n",
       "      <td>6.626400</td>\n",
       "      <td>7.337700</td>\n",
       "      <td>20504.000000</td>\n",
       "      <td>10316.000000</td>\n",
       "      <td>0.520300</td>\n",
       "      <td>0.156400</td>\n",
       "      <td>0.687000</td>\n",
       "      <td>0.990200</td>\n",
       "      <td>472924.000000</td>\n",
       "      <td>286987.000000</td>\n",
       "      <td>0.742700</td>\n",
       "      <td>2.000200</td>\n",
       "      <td>10.009900</td>\n",
       "      <td>10.005300</td>\n",
       "      <td>1.000000</td>\n",
       "      <td>1.000000</td>\n",
       "      <td>1.000000</td>\n",
       "      <td>1.000000</td>\n",
       "      <td>1.00000</td>\n",
       "      <td>800.000000</td>\n",
       "      <td>1.000000</td>\n",
       "    </tr>\n",
       "  </tbody>\n",
       "</table>\n",
       "</div>"
      ],
      "text/plain": [
       "              INCOME       SAVINGS          DEBT  R_SAVINGS_INCOME  \\\n",
       "count    1000.000000  1.000000e+03  1.000000e+03       1000.000000   \n",
       "mean   121610.019000  4.131896e+05  7.907180e+05          4.063477   \n",
       "std    113716.699591  4.429160e+05  9.817904e+05          3.968097   \n",
       "min         0.000000  0.000000e+00  0.000000e+00          0.000000   \n",
       "25%     30450.250000  5.971975e+04  5.396675e+04          1.000000   \n",
       "50%     85090.000000  2.738505e+05  3.950955e+05          2.545450   \n",
       "75%    181217.500000  6.222600e+05  1.193230e+06          6.307100   \n",
       "max    662094.000000  2.911863e+06  5.968620e+06         16.111200   \n",
       "\n",
       "       R_DEBT_INCOME  R_DEBT_SAVINGS  T_CLOTHING_12  T_CLOTHING_6  \\\n",
       "count    1000.000000     1000.000000    1000.000000   1000.000000   \n",
       "mean        6.068449        5.867252    6822.401000   3466.320000   \n",
       "std         5.847878       16.788356    7486.225932   5118.942977   \n",
       "min         0.000000        0.000000       0.000000      0.000000   \n",
       "25%         1.454500        0.206200    1084.500000    319.500000   \n",
       "50%         4.911550        2.000000    4494.000000   1304.000000   \n",
       "75%         8.587475        4.509600   10148.500000   4555.500000   \n",
       "max        37.000600      292.842100   43255.000000  39918.000000   \n",
       "\n",
       "        R_CLOTHING  R_CLOTHING_INCOME  R_CLOTHING_SAVINGS  R_CLOTHING_DEBT  \\\n",
       "count  1000.000000        1000.000000         1000.000000      1000.000000   \n",
       "mean      0.454848           0.055557            0.048057         0.030536   \n",
       "std       0.236036           0.037568            0.097712         0.084469   \n",
       "min       0.000000           0.003400            0.000000         0.000000   \n",
       "25%       0.263950           0.029700            0.005000         0.004100   \n",
       "50%       0.468850           0.046800            0.017600         0.011700   \n",
       "75%       0.626300           0.069400            0.054225         0.026925   \n",
       "max       1.058300           0.251700            1.676600         1.267400   \n",
       "\n",
       "       T_EDUCATION_12  T_EDUCATION_6  R_EDUCATION  R_EDUCATION_INCOME  \\\n",
       "count      1000.00000    1000.000000  1000.000000         1000.000000   \n",
       "mean       3604.26000    1811.460000     0.502418            0.038695   \n",
       "std        7065.70035    3551.440702     0.001910            0.074037   \n",
       "min           0.00000       0.000000     0.492600            0.000000   \n",
       "25%           0.00000       0.000000     0.501200            0.000000   \n",
       "50%           0.00000       0.000000     0.502500            0.000000   \n",
       "75%        5189.25000    2611.000000     0.503700            0.045900   \n",
       "max       38229.00000   19327.000000     0.510700            0.530200   \n",
       "\n",
       "       R_EDUCATION_SAVINGS  R_EDUCATION_DEBT  T_ENTERTAINMENT_12  \\\n",
       "count          1000.000000       1000.000000         1000.000000   \n",
       "mean              0.054301          0.011843        14261.255000   \n",
       "std               0.242352          0.059634        12388.187688   \n",
       "min               0.000000          0.000000            0.000000   \n",
       "25%               0.000000          0.000000         4248.750000   \n",
       "50%               0.000000          0.000000         9401.000000   \n",
       "75%               0.021100          0.008500        22892.500000   \n",
       "max               4.338000          1.479300        62529.000000   \n",
       "\n",
       "       T_ENTERTAINMENT_6  R_ENTERTAINMENT  R_ENTERTAINMENT_INCOME  \\\n",
       "count        1000.000000      1000.000000             1000.000000   \n",
       "mean         7945.307000         0.546432                0.167514   \n",
       "std          7374.463757         0.062581                0.136778   \n",
       "min             0.000000         0.389800                0.000000   \n",
       "25%          2289.000000         0.507875                0.092975   \n",
       "50%          5003.500000         0.511900                0.138050   \n",
       "75%         12304.750000         0.590800                0.205050   \n",
       "max         44066.000000         0.787600                1.397400   \n",
       "\n",
       "       R_ENTERTAINMENT_SAVINGS  R_ENTERTAINMENT_DEBT   T_FINES_12  \\\n",
       "count              1000.000000           1000.000000  1000.000000   \n",
       "mean                  0.219330              0.094456    26.504000   \n",
       "std                   0.577628              0.237148   136.171755   \n",
       "min                   0.000000              0.000000     0.000000   \n",
       "25%                   0.012900              0.009675     0.000000   \n",
       "50%                   0.040850              0.026800     0.000000   \n",
       "75%                   0.160775              0.084250     0.000000   \n",
       "max                   7.931000              3.114100  1421.000000   \n",
       "\n",
       "         T_FINES_6      R_FINES  R_FINES_INCOME  R_FINES_SAVINGS  \\\n",
       "count  1000.000000  1000.000000     1000.000000      1000.000000   \n",
       "mean     14.460000     0.760875        0.000291         0.000400   \n",
       "std      88.509176     0.286043        0.001390         0.003359   \n",
       "min       0.000000     0.000000        0.000000         0.000000   \n",
       "25%       0.000000     0.568200        0.000000         0.000000   \n",
       "50%       0.000000     0.772850        0.000000         0.000000   \n",
       "75%       0.000000     0.964300        0.000000         0.000000   \n",
       "max    1082.000000     1.573100        0.025600         0.064100   \n",
       "\n",
       "       R_FINES_DEBT  T_GAMBLING_12  T_GAMBLING_6   R_GAMBLING  \\\n",
       "count   1000.000000     1000.00000   1000.000000  1000.000000   \n",
       "mean       0.000098     2433.58700   1241.625000     0.515578   \n",
       "std        0.000783     5007.15757   2570.476975     0.052257   \n",
       "min        0.000000        0.00000      0.000000     0.334200   \n",
       "25%        0.000000        0.00000      0.000000     0.482150   \n",
       "50%        0.000000        0.00000      0.000000     0.516950   \n",
       "75%        0.000000     1314.25000    665.000000     0.550075   \n",
       "max        0.022800    22099.00000  11780.000000     0.690500   \n",
       "\n",
       "       R_GAMBLING_INCOME  R_GAMBLING_SAVINGS  R_GAMBLING_DEBT  T_GROCERIES_12  \\\n",
       "count        1000.000000         1000.000000      1000.000000     1000.000000   \n",
       "mean            0.018471            0.018333         0.006730    18027.602000   \n",
       "std             0.032843            0.063437         0.017247    19207.309541   \n",
       "min             0.000000            0.000000         0.000000      208.000000   \n",
       "25%             0.000000            0.000000         0.000000     4334.750000   \n",
       "50%             0.000000            0.000000         0.000000     9510.500000   \n",
       "75%             0.019325            0.003725         0.007025    28125.500000   \n",
       "max             0.205800            0.897400         0.169100    94250.000000   \n",
       "\n",
       "       T_GROCERIES_6  R_GROCERIES  R_GROCERIES_INCOME  R_GROCERIES_SAVINGS  \\\n",
       "count     1000.00000  1000.000000         1000.000000          1000.000000   \n",
       "mean      9327.58900     0.509240            0.156475             0.112795   \n",
       "std      10313.29888     0.057203            0.088929             0.227134   \n",
       "min         74.00000     0.267300            0.000000             0.000000   \n",
       "25%       2178.00000     0.480100            0.093175             0.030200   \n",
       "50%       4876.50000     0.516250            0.133000             0.047800   \n",
       "75%      14224.00000     0.543525            0.198625             0.102025   \n",
       "max      56455.00000     0.655900            0.563500             3.557800   \n",
       "\n",
       "       R_GROCERIES_DEBT   T_HEALTH_12    T_HEALTH_6     R_HEALTH  \\\n",
       "count       1000.000000   1000.000000   1000.000000  1000.000000   \n",
       "mean           0.096222   5379.650000   2657.589000     0.465418   \n",
       "std            0.222194   5316.800612   3386.038271     0.212398   \n",
       "min            0.000000      0.000000      0.000000     0.000000   \n",
       "25%            0.013100   1217.000000    361.750000     0.326900   \n",
       "50%            0.024750   3986.500000   1399.000000     0.478650   \n",
       "75%            0.090350   7939.000000   3832.500000     0.610600   \n",
       "max            3.050000  45428.000000  33967.000000     1.000000   \n",
       "\n",
       "       R_HEALTH_INCOME  R_HEALTH_SAVINGS  R_HEALTH_DEBT  T_HOUSING_12  \\\n",
       "count      1000.000000       1000.000000    1000.000000   1000.000000   \n",
       "mean          0.052300          0.024068       0.050076  11146.711000   \n",
       "std           0.045199          0.044281       0.141497  17892.426895   \n",
       "min           0.000000          0.000000       0.000000      0.000000   \n",
       "25%           0.024175          0.008500       0.003400      0.000000   \n",
       "50%           0.038100          0.013800       0.006800      0.000000   \n",
       "75%           0.067075          0.024075       0.033050  17312.500000   \n",
       "max           0.397000          0.939000       2.031600  83269.000000   \n",
       "\n",
       "        T_HOUSING_6    R_HOUSING  R_HOUSING_INCOME  R_HOUSING_SAVINGS  \\\n",
       "count   1000.000000  1000.000000       1000.000000        1000.000000   \n",
       "mean    5641.330000     0.506100          0.092608           0.056445   \n",
       "std     9055.316562     0.000115          0.110893           0.140885   \n",
       "min        0.000000     0.505100          0.000000           0.000000   \n",
       "25%        0.000000     0.506100          0.000000           0.000000   \n",
       "50%        0.000000     0.506100          0.000000           0.000000   \n",
       "75%     8762.000000     0.506100          0.185900           0.052425   \n",
       "max    42143.000000     0.506800          0.428600           1.500500   \n",
       "\n",
       "       R_HOUSING_DEBT      T_TAX_12      T_TAX_6        R_TAX  R_TAX_INCOME  \\\n",
       "count     1000.000000   1000.000000  1000.000000  1000.000000   1000.000000   \n",
       "mean         0.073870   4110.759000  2072.056000     0.502023      0.025089   \n",
       "std          0.236318   4642.793109  2355.615151     0.036988      0.019101   \n",
       "min          0.000000      0.000000     0.000000     0.333900      0.000000   \n",
       "25%          0.000000    210.000000   107.250000     0.499450      0.007000   \n",
       "50%          0.000000   2598.000000  1293.000000     0.500600      0.024800   \n",
       "75%          0.041325   6742.750000  3355.500000     0.515625      0.037900   \n",
       "max          3.391800  17013.000000  8517.000000     0.667100      0.089600   \n",
       "\n",
       "       R_TAX_SAVINGS   R_TAX_DEBT   T_TRAVEL_12     T_TRAVEL_6     R_TRAVEL  \\\n",
       "count    1000.000000  1000.000000    1000.00000    1000.000000  1000.000000   \n",
       "mean        0.014386     0.009917   31762.33000   16675.370000     0.488455   \n",
       "std         0.021287     0.022221   35822.00011   22305.675848     0.179431   \n",
       "min         0.000000     0.000000       0.00000       0.000000     0.000000   \n",
       "25%         0.000600     0.002900    5258.25000    1395.000000     0.390375   \n",
       "50%         0.008500     0.005200   19417.50000    8408.000000     0.525800   \n",
       "75%         0.018800     0.010000   48629.00000   23954.000000     0.608425   \n",
       "max         0.204100     0.389000  216557.00000  158788.000000     1.043200   \n",
       "\n",
       "       R_TRAVEL_INCOME  R_TRAVEL_SAVINGS  R_TRAVEL_DEBT  T_UTILITIES_12  \\\n",
       "count      1000.000000       1000.000000    1000.000000     1000.000000   \n",
       "mean          0.282834          0.331022       0.182340     6755.765000   \n",
       "std           0.196954          0.787567       0.494932     6313.708805   \n",
       "min           0.000000          0.000000       0.000000        0.000000   \n",
       "25%           0.171100          0.025675       0.013500     1511.500000   \n",
       "50%           0.297700          0.077450       0.048250     4090.500000   \n",
       "75%           0.387750          0.264725       0.153750    11387.750000   \n",
       "max           1.396700          6.626400       7.337700    20504.000000   \n",
       "\n",
       "       T_UTILITIES_6  R_UTILITIES  R_UTILITIES_INCOME  R_UTILITIES_SAVINGS  \\\n",
       "count    1000.000000  1000.000000         1000.000000          1000.000000   \n",
       "mean     3394.665000     0.502487            0.054655             0.033229   \n",
       "std      3172.759148     0.001859            0.025812             0.052815   \n",
       "min         0.000000     0.493800            0.000000             0.000000   \n",
       "25%       760.500000     0.501300            0.038100             0.009100   \n",
       "50%      2053.500000     0.502400            0.052550             0.019200   \n",
       "75%      5736.500000     0.503600            0.069425             0.035825   \n",
       "max     10316.000000     0.520300            0.156400             0.687000   \n",
       "\n",
       "       R_UTILITIES_DEBT  T_EXPENDITURE_12  T_EXPENDITURE_6  R_EXPENDITURE  \\\n",
       "count       1000.000000       1000.000000      1000.000000    1000.000000   \n",
       "mean           0.036638     104330.824000     54247.771000       0.512560   \n",
       "std            0.080381      89250.193047     49853.939283       0.079740   \n",
       "min            0.000000       1177.000000       620.000000       0.176900   \n",
       "25%            0.005500      30216.750000     15768.500000       0.469675   \n",
       "50%            0.010100      80639.000000     40898.000000       0.519900   \n",
       "75%            0.034550     155325.000000     78459.000000       0.561150   \n",
       "max            0.990200     472924.000000    286987.000000       0.742700   \n",
       "\n",
       "       R_EXPENDITURE_INCOME  R_EXPENDITURE_SAVINGS  R_EXPENDITURE_DEBT  \\\n",
       "count           1000.000000            1000.000000         1000.000000   \n",
       "mean               0.943607               0.913340            0.605276   \n",
       "std                0.168989               1.625278            1.299382   \n",
       "min                0.666700               0.000000            0.000000   \n",
       "25%                0.833300               0.158700            0.100000   \n",
       "50%                0.909100               0.327950            0.178600   \n",
       "75%                1.000000               0.833300            0.588200   \n",
       "max                2.000200              10.009900           10.005300   \n",
       "\n",
       "          CAT_DEBT  CAT_CREDIT_CARD  CAT_MORTGAGE  CAT_SAVINGS_ACCOUNT  \\\n",
       "count  1000.000000      1000.000000   1000.000000          1000.000000   \n",
       "mean      0.944000         0.236000      0.173000             0.993000   \n",
       "std       0.230037         0.424835      0.378437             0.083414   \n",
       "min       0.000000         0.000000      0.000000             0.000000   \n",
       "25%       1.000000         0.000000      0.000000             1.000000   \n",
       "50%       1.000000         0.000000      0.000000             1.000000   \n",
       "75%       1.000000         0.000000      0.000000             1.000000   \n",
       "max       1.000000         1.000000      1.000000             1.000000   \n",
       "\n",
       "       CAT_DEPENDENTS  CREDIT_SCORE      DEFAULT  \n",
       "count      1000.00000   1000.000000  1000.000000  \n",
       "mean          0.15000    586.712000     0.284000  \n",
       "std           0.35725     63.413882     0.451162  \n",
       "min           0.00000    300.000000     0.000000  \n",
       "25%           0.00000    554.750000     0.000000  \n",
       "50%           0.00000    596.000000     0.000000  \n",
       "75%           0.00000    630.000000     1.000000  \n",
       "max           1.00000    800.000000     1.000000  "
      ]
     },
     "execution_count": 13,
     "metadata": {},
     "output_type": "execute_result"
    }
   ],
   "source": [
    "df.describe()"
   ]
  },
  {
   "cell_type": "code",
   "execution_count": 14,
   "id": "3dcdf325",
   "metadata": {},
   "outputs": [
    {
     "data": {
      "text/plain": [
       "Index(['CUST_ID', 'INCOME', 'SAVINGS', 'DEBT', 'R_SAVINGS_INCOME',\n",
       "       'R_DEBT_INCOME', 'R_DEBT_SAVINGS', 'T_CLOTHING_12', 'T_CLOTHING_6',\n",
       "       'R_CLOTHING', 'R_CLOTHING_INCOME', 'R_CLOTHING_SAVINGS',\n",
       "       'R_CLOTHING_DEBT', 'T_EDUCATION_12', 'T_EDUCATION_6', 'R_EDUCATION',\n",
       "       'R_EDUCATION_INCOME', 'R_EDUCATION_SAVINGS', 'R_EDUCATION_DEBT',\n",
       "       'T_ENTERTAINMENT_12', 'T_ENTERTAINMENT_6', 'R_ENTERTAINMENT',\n",
       "       'R_ENTERTAINMENT_INCOME', 'R_ENTERTAINMENT_SAVINGS',\n",
       "       'R_ENTERTAINMENT_DEBT', 'T_FINES_12', 'T_FINES_6', 'R_FINES',\n",
       "       'R_FINES_INCOME', 'R_FINES_SAVINGS', 'R_FINES_DEBT', 'T_GAMBLING_12',\n",
       "       'T_GAMBLING_6', 'R_GAMBLING', 'R_GAMBLING_INCOME', 'R_GAMBLING_SAVINGS',\n",
       "       'R_GAMBLING_DEBT', 'T_GROCERIES_12', 'T_GROCERIES_6', 'R_GROCERIES',\n",
       "       'R_GROCERIES_INCOME', 'R_GROCERIES_SAVINGS', 'R_GROCERIES_DEBT',\n",
       "       'T_HEALTH_12', 'T_HEALTH_6', 'R_HEALTH', 'R_HEALTH_INCOME',\n",
       "       'R_HEALTH_SAVINGS', 'R_HEALTH_DEBT', 'T_HOUSING_12', 'T_HOUSING_6',\n",
       "       'R_HOUSING', 'R_HOUSING_INCOME', 'R_HOUSING_SAVINGS', 'R_HOUSING_DEBT',\n",
       "       'T_TAX_12', 'T_TAX_6', 'R_TAX', 'R_TAX_INCOME', 'R_TAX_SAVINGS',\n",
       "       'R_TAX_DEBT', 'T_TRAVEL_12', 'T_TRAVEL_6', 'R_TRAVEL',\n",
       "       'R_TRAVEL_INCOME', 'R_TRAVEL_SAVINGS', 'R_TRAVEL_DEBT',\n",
       "       'T_UTILITIES_12', 'T_UTILITIES_6', 'R_UTILITIES', 'R_UTILITIES_INCOME',\n",
       "       'R_UTILITIES_SAVINGS', 'R_UTILITIES_DEBT', 'T_EXPENDITURE_12',\n",
       "       'T_EXPENDITURE_6', 'R_EXPENDITURE', 'R_EXPENDITURE_INCOME',\n",
       "       'R_EXPENDITURE_SAVINGS', 'R_EXPENDITURE_DEBT', 'CAT_GAMBLING',\n",
       "       'CAT_DEBT', 'CAT_CREDIT_CARD', 'CAT_MORTGAGE', 'CAT_SAVINGS_ACCOUNT',\n",
       "       'CAT_DEPENDENTS', 'CREDIT_SCORE', 'DEFAULT'],\n",
       "      dtype='object')"
      ]
     },
     "execution_count": 14,
     "metadata": {},
     "output_type": "execute_result"
    }
   ],
   "source": [
    "df.columns"
   ]
  },
  {
   "cell_type": "markdown",
   "id": "a058f9a2",
   "metadata": {},
   "source": [
    "# important columns of dataset\n",
    "['INCOME', 'SAVINGS', 'DEBT', 'R_SAVINGS_INCOME','R_DEBT_INCOME', 'R_DEBT_SAVINGS', 'CAT_GAMBLING','CAT_DEBT', 'CAT_CREDIT_CARD', 'CAT_MORTGAGE', 'CAT_SAVINGS_ACCOUNT','CAT_DEPENDENTS', 'CREDIT_SCORE', 'DEFAULT]"
   ]
  },
  {
   "cell_type": "markdown",
   "id": "57eb9a70",
   "metadata": {},
   "source": [
    "### making dataset of important columns"
   ]
  },
  {
   "cell_type": "code",
   "execution_count": 5,
   "id": "c09fe12b",
   "metadata": {},
   "outputs": [],
   "source": [
    "data=df[['INCOME', 'SAVINGS', 'DEBT', 'R_SAVINGS_INCOME','R_DEBT_INCOME', 'R_DEBT_SAVINGS', 'CAT_GAMBLING','CAT_DEBT',\n",
    "          'CAT_CREDIT_CARD', 'CAT_MORTGAGE', 'CAT_SAVINGS_ACCOUNT','CAT_DEPENDENTS', 'CREDIT_SCORE', 'DEFAULT']]"
   ]
  },
  {
   "cell_type": "code",
   "execution_count": 6,
   "id": "71249de4",
   "metadata": {},
   "outputs": [
    {
     "data": {
      "text/html": [
       "<div>\n",
       "<style scoped>\n",
       "    .dataframe tbody tr th:only-of-type {\n",
       "        vertical-align: middle;\n",
       "    }\n",
       "\n",
       "    .dataframe tbody tr th {\n",
       "        vertical-align: top;\n",
       "    }\n",
       "\n",
       "    .dataframe thead th {\n",
       "        text-align: right;\n",
       "    }\n",
       "</style>\n",
       "<table border=\"1\" class=\"dataframe\">\n",
       "  <thead>\n",
       "    <tr style=\"text-align: right;\">\n",
       "      <th></th>\n",
       "      <th>INCOME</th>\n",
       "      <th>SAVINGS</th>\n",
       "      <th>DEBT</th>\n",
       "      <th>R_SAVINGS_INCOME</th>\n",
       "      <th>R_DEBT_INCOME</th>\n",
       "      <th>R_DEBT_SAVINGS</th>\n",
       "      <th>CAT_GAMBLING</th>\n",
       "      <th>CAT_DEBT</th>\n",
       "      <th>CAT_CREDIT_CARD</th>\n",
       "      <th>CAT_MORTGAGE</th>\n",
       "      <th>CAT_SAVINGS_ACCOUNT</th>\n",
       "      <th>CAT_DEPENDENTS</th>\n",
       "      <th>CREDIT_SCORE</th>\n",
       "      <th>DEFAULT</th>\n",
       "    </tr>\n",
       "  </thead>\n",
       "  <tbody>\n",
       "    <tr>\n",
       "      <th>0</th>\n",
       "      <td>33269</td>\n",
       "      <td>0</td>\n",
       "      <td>532304</td>\n",
       "      <td>0.0000</td>\n",
       "      <td>16.0000</td>\n",
       "      <td>1.2000</td>\n",
       "      <td>High</td>\n",
       "      <td>1</td>\n",
       "      <td>0</td>\n",
       "      <td>0</td>\n",
       "      <td>0</td>\n",
       "      <td>0</td>\n",
       "      <td>444</td>\n",
       "      <td>1</td>\n",
       "    </tr>\n",
       "    <tr>\n",
       "      <th>1</th>\n",
       "      <td>77158</td>\n",
       "      <td>91187</td>\n",
       "      <td>315648</td>\n",
       "      <td>1.1818</td>\n",
       "      <td>4.0909</td>\n",
       "      <td>3.4615</td>\n",
       "      <td>No</td>\n",
       "      <td>1</td>\n",
       "      <td>0</td>\n",
       "      <td>0</td>\n",
       "      <td>1</td>\n",
       "      <td>0</td>\n",
       "      <td>625</td>\n",
       "      <td>0</td>\n",
       "    </tr>\n",
       "    <tr>\n",
       "      <th>2</th>\n",
       "      <td>30917</td>\n",
       "      <td>21642</td>\n",
       "      <td>534864</td>\n",
       "      <td>0.7000</td>\n",
       "      <td>17.3000</td>\n",
       "      <td>24.7142</td>\n",
       "      <td>High</td>\n",
       "      <td>1</td>\n",
       "      <td>0</td>\n",
       "      <td>0</td>\n",
       "      <td>1</td>\n",
       "      <td>0</td>\n",
       "      <td>469</td>\n",
       "      <td>1</td>\n",
       "    </tr>\n",
       "    <tr>\n",
       "      <th>3</th>\n",
       "      <td>80657</td>\n",
       "      <td>64526</td>\n",
       "      <td>629125</td>\n",
       "      <td>0.8000</td>\n",
       "      <td>7.8000</td>\n",
       "      <td>9.7499</td>\n",
       "      <td>High</td>\n",
       "      <td>1</td>\n",
       "      <td>0</td>\n",
       "      <td>0</td>\n",
       "      <td>1</td>\n",
       "      <td>0</td>\n",
       "      <td>559</td>\n",
       "      <td>0</td>\n",
       "    </tr>\n",
       "    <tr>\n",
       "      <th>4</th>\n",
       "      <td>149971</td>\n",
       "      <td>1172498</td>\n",
       "      <td>2399531</td>\n",
       "      <td>7.8182</td>\n",
       "      <td>16.0000</td>\n",
       "      <td>2.0465</td>\n",
       "      <td>High</td>\n",
       "      <td>1</td>\n",
       "      <td>1</td>\n",
       "      <td>1</td>\n",
       "      <td>1</td>\n",
       "      <td>1</td>\n",
       "      <td>473</td>\n",
       "      <td>0</td>\n",
       "    </tr>\n",
       "  </tbody>\n",
       "</table>\n",
       "</div>"
      ],
      "text/plain": [
       "   INCOME  SAVINGS     DEBT  R_SAVINGS_INCOME  R_DEBT_INCOME  R_DEBT_SAVINGS  \\\n",
       "0   33269        0   532304            0.0000        16.0000          1.2000   \n",
       "1   77158    91187   315648            1.1818         4.0909          3.4615   \n",
       "2   30917    21642   534864            0.7000        17.3000         24.7142   \n",
       "3   80657    64526   629125            0.8000         7.8000          9.7499   \n",
       "4  149971  1172498  2399531            7.8182        16.0000          2.0465   \n",
       "\n",
       "  CAT_GAMBLING  CAT_DEBT  CAT_CREDIT_CARD  CAT_MORTGAGE  CAT_SAVINGS_ACCOUNT  \\\n",
       "0         High         1                0             0                    0   \n",
       "1           No         1                0             0                    1   \n",
       "2         High         1                0             0                    1   \n",
       "3         High         1                0             0                    1   \n",
       "4         High         1                1             1                    1   \n",
       "\n",
       "   CAT_DEPENDENTS  CREDIT_SCORE  DEFAULT  \n",
       "0               0           444        1  \n",
       "1               0           625        0  \n",
       "2               0           469        1  \n",
       "3               0           559        0  \n",
       "4               1           473        0  "
      ]
     },
     "execution_count": 6,
     "metadata": {},
     "output_type": "execute_result"
    }
   ],
   "source": [
    "data.head()"
   ]
  },
  {
   "cell_type": "markdown",
   "id": "a0df3fad",
   "metadata": {},
   "source": [
    "These are the column on which we perform our whole machine learning project"
   ]
  },
  {
   "cell_type": "markdown",
   "id": "514cd521",
   "metadata": {},
   "source": [
    "## Exploring data "
   ]
  },
  {
   "cell_type": "code",
   "execution_count": 7,
   "id": "9a2a4817",
   "metadata": {},
   "outputs": [
    {
     "name": "stdout",
     "output_type": "stream",
     "text": [
      "catagories in  Cat_Gampling ['High' 'No' 'Low']\n"
     ]
    }
   ],
   "source": [
    "print(\"catagories in  Cat_Gampling\",end=\" \")\n",
    "print(data[\"CAT_GAMBLING\"].unique())\n"
   ]
  },
  {
   "cell_type": "code",
   "execution_count": null,
   "id": "bf0a3005",
   "metadata": {},
   "outputs": [
    {
     "name": "stdout",
     "output_type": "stream",
     "text": [
      " categories for CAT_GAMBLING\n"
     ]
    },
    {
     "data": {
      "text/plain": [
       "{'CAT_GAMBLING': ['High', 'No', 'Low']}"
      ]
     },
     "execution_count": 8,
     "metadata": {},
     "output_type": "execute_result"
    }
   ],
   "source": [
    "import pandas as pd\n",
    "\n",
    "def show_categories(df):\n",
    "    \"\"\"\"parameter:\n",
    "    This function will get data frame . extract catagorical columns in data frame\n",
    "    return:\n",
    "    find  catagories return the list of those catagories\"\"\"\n",
    "\n",
    "\n",
    "    cat_cols = df.select_dtypes(include=['object', 'category']).columns  #  just categorical columns\n",
    "    categories = {}\n",
    "\n",
    "    for col in cat_cols:\n",
    "        categories[col] = df[col].unique().tolist()  # unique categories of each column\n",
    "        print(f\" categories for {col}\")\n",
    "\n",
    "    return categories\n",
    "show_categories(data)\n"
   ]
  },
  {
   "cell_type": "markdown",
   "id": "c8e56878",
   "metadata": {},
   "source": [
    "### changing datatypes\n",
    " ['CAT_DEBT', 'CAT_CREDIT_CARD', 'CAT_MORTGAGE','CAT_SAVINGS_ACCOUNT', 'CAT_DEPENDENTS', 'DEFAULT']\n",
    " these are the column having categorical data but data type is int  so as i have to perform data visuallization on these columns so it will be possible when their  data type is category \n"
   ]
  },
  {
   "cell_type": "code",
   "execution_count": 34,
   "id": "1cfb3bb5",
   "metadata": {},
   "outputs": [],
   "source": [
    "cat_cols= ['CAT_DEBT', 'CAT_CREDIT_CARD', 'CAT_MORTGAGE','CAT_SAVINGS_ACCOUNT', 'CAT_DEPENDENTS', 'DEFAULT']\n",
    "data[cat_cols] = data[cat_cols].astype(\"category\")\n"
   ]
  },
  {
   "cell_type": "code",
   "execution_count": 37,
   "id": "ff1076bc",
   "metadata": {},
   "outputs": [
    {
     "name": "stdout",
     "output_type": "stream",
     "text": [
      "we have  13  numerical feature ['INCOME', 'SAVINGS', 'DEBT', 'R_SAVINGS_INCOME', 'R_DEBT_INCOME', 'R_DEBT_SAVINGS', 'CAT_DEBT', 'CAT_CREDIT_CARD', 'CAT_MORTGAGE', 'CAT_SAVINGS_ACCOUNT', 'CAT_DEPENDENTS', 'CREDIT_SCORE', 'DEFAULT']\n",
      "we have  1  numerical feature ['CAT_GAMBLING']\n"
     ]
    }
   ],
   "source": [
    "#define numerical and categorical features\n",
    "numeric_features=[feature for feature in data.columns if data[feature].dtype!=\"O\"]\n",
    "categorical_features=[feature for feature in data.columns if data[feature].dtype==\"O\"]\n",
    "\n",
    "print(f\"we have  {len(numeric_features)}  numerical feature {numeric_features}\")\n",
    "print(f\"we have  {len(categorical_features)}  numerical feature {categorical_features}\")"
   ]
  },
  {
   "cell_type": "markdown",
   "id": "780975ae",
   "metadata": {},
   "source": [
    "### Bar chart for CAT_GAMBLING"
   ]
  },
  {
   "cell_type": "code",
   "execution_count": 38,
   "id": "85b97e18",
   "metadata": {},
   "outputs": [
    {
     "data": {
      "application/vnd.plotly.v1+json": {
       "config": {
        "plotlyServerURL": "https://plot.ly"
       },
       "data": [
        {
         "hovertemplate": "Gambling Categories=%{x}<br>Count=%{text}<extra></extra>",
         "legendgroup": "No",
         "marker": {
          "color": "rgb(127, 60, 141)",
          "pattern": {
           "shape": ""
          }
         },
         "name": "No",
         "orientation": "v",
         "showlegend": true,
         "text": {
          "bdata": "AAAAAABgg0A=",
          "dtype": "f8"
         },
         "textposition": "outside",
         "type": "bar",
         "x": [
          "No"
         ],
         "xaxis": "x",
         "y": {
          "bdata": "bAI=",
          "dtype": "i2"
         },
         "yaxis": "y"
        },
        {
         "hovertemplate": "Gambling Categories=%{x}<br>Count=%{text}<extra></extra>",
         "legendgroup": "High",
         "marker": {
          "color": "rgb(17, 165, 121)",
          "pattern": {
           "shape": ""
          }
         },
         "name": "High",
         "orientation": "v",
         "showlegend": true,
         "text": {
          "bdata": "AAAAAACAcEA=",
          "dtype": "f8"
         },
         "textposition": "outside",
         "type": "bar",
         "x": [
          "High"
         ],
         "xaxis": "x",
         "y": {
          "bdata": "CAE=",
          "dtype": "i2"
         },
         "yaxis": "y"
        },
        {
         "hovertemplate": "Gambling Categories=%{x}<br>Count=%{text}<extra></extra>",
         "legendgroup": "Low",
         "marker": {
          "color": "rgb(57, 105, 172)",
          "pattern": {
           "shape": ""
          }
         },
         "name": "Low",
         "orientation": "v",
         "showlegend": true,
         "text": {
          "bdata": "AAAAAAAAXUA=",
          "dtype": "f8"
         },
         "textposition": "outside",
         "type": "bar",
         "x": [
          "Low"
         ],
         "xaxis": "x",
         "y": {
          "bdata": "dA==",
          "dtype": "i1"
         },
         "yaxis": "y"
        }
       ],
       "layout": {
        "barmode": "relative",
        "legend": {
         "title": {
          "text": "Gambling Categories"
         },
         "tracegroupgap": 0
        },
        "template": {
         "data": {
          "bar": [
           {
            "error_x": {
             "color": "#2a3f5f"
            },
            "error_y": {
             "color": "#2a3f5f"
            },
            "marker": {
             "line": {
              "color": "white",
              "width": 0.5
             },
             "pattern": {
              "fillmode": "overlay",
              "size": 10,
              "solidity": 0.2
             }
            },
            "type": "bar"
           }
          ],
          "barpolar": [
           {
            "marker": {
             "line": {
              "color": "white",
              "width": 0.5
             },
             "pattern": {
              "fillmode": "overlay",
              "size": 10,
              "solidity": 0.2
             }
            },
            "type": "barpolar"
           }
          ],
          "carpet": [
           {
            "aaxis": {
             "endlinecolor": "#2a3f5f",
             "gridcolor": "#C8D4E3",
             "linecolor": "#C8D4E3",
             "minorgridcolor": "#C8D4E3",
             "startlinecolor": "#2a3f5f"
            },
            "baxis": {
             "endlinecolor": "#2a3f5f",
             "gridcolor": "#C8D4E3",
             "linecolor": "#C8D4E3",
             "minorgridcolor": "#C8D4E3",
             "startlinecolor": "#2a3f5f"
            },
            "type": "carpet"
           }
          ],
          "choropleth": [
           {
            "colorbar": {
             "outlinewidth": 0,
             "ticks": ""
            },
            "type": "choropleth"
           }
          ],
          "contour": [
           {
            "colorbar": {
             "outlinewidth": 0,
             "ticks": ""
            },
            "colorscale": [
             [
              0,
              "#0d0887"
             ],
             [
              0.1111111111111111,
              "#46039f"
             ],
             [
              0.2222222222222222,
              "#7201a8"
             ],
             [
              0.3333333333333333,
              "#9c179e"
             ],
             [
              0.4444444444444444,
              "#bd3786"
             ],
             [
              0.5555555555555556,
              "#d8576b"
             ],
             [
              0.6666666666666666,
              "#ed7953"
             ],
             [
              0.7777777777777778,
              "#fb9f3a"
             ],
             [
              0.8888888888888888,
              "#fdca26"
             ],
             [
              1,
              "#f0f921"
             ]
            ],
            "type": "contour"
           }
          ],
          "contourcarpet": [
           {
            "colorbar": {
             "outlinewidth": 0,
             "ticks": ""
            },
            "type": "contourcarpet"
           }
          ],
          "heatmap": [
           {
            "colorbar": {
             "outlinewidth": 0,
             "ticks": ""
            },
            "colorscale": [
             [
              0,
              "#0d0887"
             ],
             [
              0.1111111111111111,
              "#46039f"
             ],
             [
              0.2222222222222222,
              "#7201a8"
             ],
             [
              0.3333333333333333,
              "#9c179e"
             ],
             [
              0.4444444444444444,
              "#bd3786"
             ],
             [
              0.5555555555555556,
              "#d8576b"
             ],
             [
              0.6666666666666666,
              "#ed7953"
             ],
             [
              0.7777777777777778,
              "#fb9f3a"
             ],
             [
              0.8888888888888888,
              "#fdca26"
             ],
             [
              1,
              "#f0f921"
             ]
            ],
            "type": "heatmap"
           }
          ],
          "histogram": [
           {
            "marker": {
             "pattern": {
              "fillmode": "overlay",
              "size": 10,
              "solidity": 0.2
             }
            },
            "type": "histogram"
           }
          ],
          "histogram2d": [
           {
            "colorbar": {
             "outlinewidth": 0,
             "ticks": ""
            },
            "colorscale": [
             [
              0,
              "#0d0887"
             ],
             [
              0.1111111111111111,
              "#46039f"
             ],
             [
              0.2222222222222222,
              "#7201a8"
             ],
             [
              0.3333333333333333,
              "#9c179e"
             ],
             [
              0.4444444444444444,
              "#bd3786"
             ],
             [
              0.5555555555555556,
              "#d8576b"
             ],
             [
              0.6666666666666666,
              "#ed7953"
             ],
             [
              0.7777777777777778,
              "#fb9f3a"
             ],
             [
              0.8888888888888888,
              "#fdca26"
             ],
             [
              1,
              "#f0f921"
             ]
            ],
            "type": "histogram2d"
           }
          ],
          "histogram2dcontour": [
           {
            "colorbar": {
             "outlinewidth": 0,
             "ticks": ""
            },
            "colorscale": [
             [
              0,
              "#0d0887"
             ],
             [
              0.1111111111111111,
              "#46039f"
             ],
             [
              0.2222222222222222,
              "#7201a8"
             ],
             [
              0.3333333333333333,
              "#9c179e"
             ],
             [
              0.4444444444444444,
              "#bd3786"
             ],
             [
              0.5555555555555556,
              "#d8576b"
             ],
             [
              0.6666666666666666,
              "#ed7953"
             ],
             [
              0.7777777777777778,
              "#fb9f3a"
             ],
             [
              0.8888888888888888,
              "#fdca26"
             ],
             [
              1,
              "#f0f921"
             ]
            ],
            "type": "histogram2dcontour"
           }
          ],
          "mesh3d": [
           {
            "colorbar": {
             "outlinewidth": 0,
             "ticks": ""
            },
            "type": "mesh3d"
           }
          ],
          "parcoords": [
           {
            "line": {
             "colorbar": {
              "outlinewidth": 0,
              "ticks": ""
             }
            },
            "type": "parcoords"
           }
          ],
          "pie": [
           {
            "automargin": true,
            "type": "pie"
           }
          ],
          "scatter": [
           {
            "fillpattern": {
             "fillmode": "overlay",
             "size": 10,
             "solidity": 0.2
            },
            "type": "scatter"
           }
          ],
          "scatter3d": [
           {
            "line": {
             "colorbar": {
              "outlinewidth": 0,
              "ticks": ""
             }
            },
            "marker": {
             "colorbar": {
              "outlinewidth": 0,
              "ticks": ""
             }
            },
            "type": "scatter3d"
           }
          ],
          "scattercarpet": [
           {
            "marker": {
             "colorbar": {
              "outlinewidth": 0,
              "ticks": ""
             }
            },
            "type": "scattercarpet"
           }
          ],
          "scattergeo": [
           {
            "marker": {
             "colorbar": {
              "outlinewidth": 0,
              "ticks": ""
             }
            },
            "type": "scattergeo"
           }
          ],
          "scattergl": [
           {
            "marker": {
             "colorbar": {
              "outlinewidth": 0,
              "ticks": ""
             }
            },
            "type": "scattergl"
           }
          ],
          "scattermap": [
           {
            "marker": {
             "colorbar": {
              "outlinewidth": 0,
              "ticks": ""
             }
            },
            "type": "scattermap"
           }
          ],
          "scattermapbox": [
           {
            "marker": {
             "colorbar": {
              "outlinewidth": 0,
              "ticks": ""
             }
            },
            "type": "scattermapbox"
           }
          ],
          "scatterpolar": [
           {
            "marker": {
             "colorbar": {
              "outlinewidth": 0,
              "ticks": ""
             }
            },
            "type": "scatterpolar"
           }
          ],
          "scatterpolargl": [
           {
            "marker": {
             "colorbar": {
              "outlinewidth": 0,
              "ticks": ""
             }
            },
            "type": "scatterpolargl"
           }
          ],
          "scatterternary": [
           {
            "marker": {
             "colorbar": {
              "outlinewidth": 0,
              "ticks": ""
             }
            },
            "type": "scatterternary"
           }
          ],
          "surface": [
           {
            "colorbar": {
             "outlinewidth": 0,
             "ticks": ""
            },
            "colorscale": [
             [
              0,
              "#0d0887"
             ],
             [
              0.1111111111111111,
              "#46039f"
             ],
             [
              0.2222222222222222,
              "#7201a8"
             ],
             [
              0.3333333333333333,
              "#9c179e"
             ],
             [
              0.4444444444444444,
              "#bd3786"
             ],
             [
              0.5555555555555556,
              "#d8576b"
             ],
             [
              0.6666666666666666,
              "#ed7953"
             ],
             [
              0.7777777777777778,
              "#fb9f3a"
             ],
             [
              0.8888888888888888,
              "#fdca26"
             ],
             [
              1,
              "#f0f921"
             ]
            ],
            "type": "surface"
           }
          ],
          "table": [
           {
            "cells": {
             "fill": {
              "color": "#EBF0F8"
             },
             "line": {
              "color": "white"
             }
            },
            "header": {
             "fill": {
              "color": "#C8D4E3"
             },
             "line": {
              "color": "white"
             }
            },
            "type": "table"
           }
          ]
         },
         "layout": {
          "annotationdefaults": {
           "arrowcolor": "#2a3f5f",
           "arrowhead": 0,
           "arrowwidth": 1
          },
          "autotypenumbers": "strict",
          "coloraxis": {
           "colorbar": {
            "outlinewidth": 0,
            "ticks": ""
           }
          },
          "colorscale": {
           "diverging": [
            [
             0,
             "#8e0152"
            ],
            [
             0.1,
             "#c51b7d"
            ],
            [
             0.2,
             "#de77ae"
            ],
            [
             0.3,
             "#f1b6da"
            ],
            [
             0.4,
             "#fde0ef"
            ],
            [
             0.5,
             "#f7f7f7"
            ],
            [
             0.6,
             "#e6f5d0"
            ],
            [
             0.7,
             "#b8e186"
            ],
            [
             0.8,
             "#7fbc41"
            ],
            [
             0.9,
             "#4d9221"
            ],
            [
             1,
             "#276419"
            ]
           ],
           "sequential": [
            [
             0,
             "#0d0887"
            ],
            [
             0.1111111111111111,
             "#46039f"
            ],
            [
             0.2222222222222222,
             "#7201a8"
            ],
            [
             0.3333333333333333,
             "#9c179e"
            ],
            [
             0.4444444444444444,
             "#bd3786"
            ],
            [
             0.5555555555555556,
             "#d8576b"
            ],
            [
             0.6666666666666666,
             "#ed7953"
            ],
            [
             0.7777777777777778,
             "#fb9f3a"
            ],
            [
             0.8888888888888888,
             "#fdca26"
            ],
            [
             1,
             "#f0f921"
            ]
           ],
           "sequentialminus": [
            [
             0,
             "#0d0887"
            ],
            [
             0.1111111111111111,
             "#46039f"
            ],
            [
             0.2222222222222222,
             "#7201a8"
            ],
            [
             0.3333333333333333,
             "#9c179e"
            ],
            [
             0.4444444444444444,
             "#bd3786"
            ],
            [
             0.5555555555555556,
             "#d8576b"
            ],
            [
             0.6666666666666666,
             "#ed7953"
            ],
            [
             0.7777777777777778,
             "#fb9f3a"
            ],
            [
             0.8888888888888888,
             "#fdca26"
            ],
            [
             1,
             "#f0f921"
            ]
           ]
          },
          "colorway": [
           "#636efa",
           "#EF553B",
           "#00cc96",
           "#ab63fa",
           "#FFA15A",
           "#19d3f3",
           "#FF6692",
           "#B6E880",
           "#FF97FF",
           "#FECB52"
          ],
          "font": {
           "color": "#2a3f5f"
          },
          "geo": {
           "bgcolor": "white",
           "lakecolor": "white",
           "landcolor": "white",
           "showlakes": true,
           "showland": true,
           "subunitcolor": "#C8D4E3"
          },
          "hoverlabel": {
           "align": "left"
          },
          "hovermode": "closest",
          "mapbox": {
           "style": "light"
          },
          "paper_bgcolor": "white",
          "plot_bgcolor": "white",
          "polar": {
           "angularaxis": {
            "gridcolor": "#EBF0F8",
            "linecolor": "#EBF0F8",
            "ticks": ""
           },
           "bgcolor": "white",
           "radialaxis": {
            "gridcolor": "#EBF0F8",
            "linecolor": "#EBF0F8",
            "ticks": ""
           }
          },
          "scene": {
           "xaxis": {
            "backgroundcolor": "white",
            "gridcolor": "#DFE8F3",
            "gridwidth": 2,
            "linecolor": "#EBF0F8",
            "showbackground": true,
            "ticks": "",
            "zerolinecolor": "#EBF0F8"
           },
           "yaxis": {
            "backgroundcolor": "white",
            "gridcolor": "#DFE8F3",
            "gridwidth": 2,
            "linecolor": "#EBF0F8",
            "showbackground": true,
            "ticks": "",
            "zerolinecolor": "#EBF0F8"
           },
           "zaxis": {
            "backgroundcolor": "white",
            "gridcolor": "#DFE8F3",
            "gridwidth": 2,
            "linecolor": "#EBF0F8",
            "showbackground": true,
            "ticks": "",
            "zerolinecolor": "#EBF0F8"
           }
          },
          "shapedefaults": {
           "line": {
            "color": "#2a3f5f"
           }
          },
          "ternary": {
           "aaxis": {
            "gridcolor": "#DFE8F3",
            "linecolor": "#A2B1C6",
            "ticks": ""
           },
           "baxis": {
            "gridcolor": "#DFE8F3",
            "linecolor": "#A2B1C6",
            "ticks": ""
           },
           "bgcolor": "white",
           "caxis": {
            "gridcolor": "#DFE8F3",
            "linecolor": "#A2B1C6",
            "ticks": ""
           }
          },
          "title": {
           "x": 0.05
          },
          "xaxis": {
           "automargin": true,
           "gridcolor": "#EBF0F8",
           "linecolor": "#EBF0F8",
           "ticks": "",
           "title": {
            "standoff": 15
           },
           "zerolinecolor": "#EBF0F8",
           "zerolinewidth": 2
          },
          "yaxis": {
           "automargin": true,
           "gridcolor": "#EBF0F8",
           "linecolor": "#EBF0F8",
           "ticks": "",
           "title": {
            "standoff": 15
           },
           "zerolinecolor": "#EBF0F8",
           "zerolinewidth": 2
          }
         }
        },
        "title": {
         "text": "People Count Involved in Gambling",
         "x": 0.5
        },
        "xaxis": {
         "anchor": "y",
         "categoryarray": [
          "No",
          "High",
          "Low"
         ],
         "categoryorder": "array",
         "domain": [
          0,
          1
         ],
         "title": {
          "text": "Gambling Categories"
         }
        },
        "yaxis": {
         "anchor": "x",
         "domain": [
          0,
          1
         ],
         "title": {
          "text": "Total Count"
         }
        }
       }
      }
     },
     "metadata": {},
     "output_type": "display_data"
    }
   ],
   "source": [
    "import plotly.express as px\n",
    "\n",
    "# Step 1: Count categories properly\n",
    "cat_gambling_df = data[\"CAT_GAMBLING\"].value_counts().reset_index()\n",
    "cat_gambling_df.columns = [\"Gambling Categories\", \"Count\"]\n",
    "\n",
    "# Step 2: Plot with refinements\n",
    "fig = px.bar(\n",
    "    cat_gambling_df,\n",
    "    x=\"Gambling Categories\",\n",
    "    y=\"Count\",\n",
    "    color=\"Gambling Categories\",\n",
    "    text=\"Count\",   # bar ke upar count show hoga\n",
    "    color_discrete_sequence=px.colors.qualitative.Bold,\n",
    "    template=\"plotly_white\",\n",
    "    title=\"People Count Involved in Gambling\"\n",
    ")\n",
    "\n",
    "# Step 3: Layout improvements\n",
    "fig.update_traces(\n",
    "    textposition=\"outside\",  # display text on outside of bar)\n",
    ")\n",
    "\n",
    "fig.update_layout(\n",
    "    xaxis_title=\"Gambling Categories\",\n",
    "    yaxis_title=\"Total Count\",\n",
    "    title_x=0.5,   # title center\n",
    ")\n",
    "\n",
    "fig.show()\n",
    "\n"
   ]
  },
  {
   "cell_type": "code",
   "execution_count": 50,
   "id": "105ef3d4",
   "metadata": {},
   "outputs": [
    {
     "data": {
      "application/vnd.plotly.v1+json": {
       "config": {
        "plotlyServerURL": "https://plot.ly"
       },
       "data": [
        {
         "hovertemplate": "Debt Categories=%{x}<br>Count=%{text}<extra></extra>",
         "legendgroup": "1",
         "marker": {
          "color": "rgb(127, 60, 141)",
          "pattern": {
           "shape": ""
          }
         },
         "name": "1",
         "orientation": "v",
         "showlegend": true,
         "text": {
          "bdata": "AAAAAACAjUA=",
          "dtype": "f8"
         },
         "textposition": "outside",
         "type": "bar",
         "x": {
          "bdata": "AQ==",
          "dtype": "i1"
         },
         "xaxis": "x",
         "y": {
          "bdata": "sAM=",
          "dtype": "i2"
         },
         "yaxis": "y"
        },
        {
         "hovertemplate": "Debt Categories=%{x}<br>Count=%{text}<extra></extra>",
         "legendgroup": "0",
         "marker": {
          "color": "rgb(17, 165, 121)",
          "pattern": {
           "shape": ""
          }
         },
         "name": "0",
         "orientation": "v",
         "showlegend": true,
         "text": {
          "bdata": "AAAAAAAATEA=",
          "dtype": "f8"
         },
         "textposition": "outside",
         "type": "bar",
         "x": {
          "bdata": "AA==",
          "dtype": "i1"
         },
         "xaxis": "x",
         "y": {
          "bdata": "OA==",
          "dtype": "i1"
         },
         "yaxis": "y"
        }
       ],
       "layout": {
        "barmode": "relative",
        "font": {
         "size": 14
        },
        "legend": {
         "title": {
          "text": "Debt Categories"
         },
         "tracegroupgap": 0
        },
        "template": {
         "data": {
          "bar": [
           {
            "error_x": {
             "color": "#2a3f5f"
            },
            "error_y": {
             "color": "#2a3f5f"
            },
            "marker": {
             "line": {
              "color": "white",
              "width": 0.5
             },
             "pattern": {
              "fillmode": "overlay",
              "size": 10,
              "solidity": 0.2
             }
            },
            "type": "bar"
           }
          ],
          "barpolar": [
           {
            "marker": {
             "line": {
              "color": "white",
              "width": 0.5
             },
             "pattern": {
              "fillmode": "overlay",
              "size": 10,
              "solidity": 0.2
             }
            },
            "type": "barpolar"
           }
          ],
          "carpet": [
           {
            "aaxis": {
             "endlinecolor": "#2a3f5f",
             "gridcolor": "#C8D4E3",
             "linecolor": "#C8D4E3",
             "minorgridcolor": "#C8D4E3",
             "startlinecolor": "#2a3f5f"
            },
            "baxis": {
             "endlinecolor": "#2a3f5f",
             "gridcolor": "#C8D4E3",
             "linecolor": "#C8D4E3",
             "minorgridcolor": "#C8D4E3",
             "startlinecolor": "#2a3f5f"
            },
            "type": "carpet"
           }
          ],
          "choropleth": [
           {
            "colorbar": {
             "outlinewidth": 0,
             "ticks": ""
            },
            "type": "choropleth"
           }
          ],
          "contour": [
           {
            "colorbar": {
             "outlinewidth": 0,
             "ticks": ""
            },
            "colorscale": [
             [
              0,
              "#0d0887"
             ],
             [
              0.1111111111111111,
              "#46039f"
             ],
             [
              0.2222222222222222,
              "#7201a8"
             ],
             [
              0.3333333333333333,
              "#9c179e"
             ],
             [
              0.4444444444444444,
              "#bd3786"
             ],
             [
              0.5555555555555556,
              "#d8576b"
             ],
             [
              0.6666666666666666,
              "#ed7953"
             ],
             [
              0.7777777777777778,
              "#fb9f3a"
             ],
             [
              0.8888888888888888,
              "#fdca26"
             ],
             [
              1,
              "#f0f921"
             ]
            ],
            "type": "contour"
           }
          ],
          "contourcarpet": [
           {
            "colorbar": {
             "outlinewidth": 0,
             "ticks": ""
            },
            "type": "contourcarpet"
           }
          ],
          "heatmap": [
           {
            "colorbar": {
             "outlinewidth": 0,
             "ticks": ""
            },
            "colorscale": [
             [
              0,
              "#0d0887"
             ],
             [
              0.1111111111111111,
              "#46039f"
             ],
             [
              0.2222222222222222,
              "#7201a8"
             ],
             [
              0.3333333333333333,
              "#9c179e"
             ],
             [
              0.4444444444444444,
              "#bd3786"
             ],
             [
              0.5555555555555556,
              "#d8576b"
             ],
             [
              0.6666666666666666,
              "#ed7953"
             ],
             [
              0.7777777777777778,
              "#fb9f3a"
             ],
             [
              0.8888888888888888,
              "#fdca26"
             ],
             [
              1,
              "#f0f921"
             ]
            ],
            "type": "heatmap"
           }
          ],
          "histogram": [
           {
            "marker": {
             "pattern": {
              "fillmode": "overlay",
              "size": 10,
              "solidity": 0.2
             }
            },
            "type": "histogram"
           }
          ],
          "histogram2d": [
           {
            "colorbar": {
             "outlinewidth": 0,
             "ticks": ""
            },
            "colorscale": [
             [
              0,
              "#0d0887"
             ],
             [
              0.1111111111111111,
              "#46039f"
             ],
             [
              0.2222222222222222,
              "#7201a8"
             ],
             [
              0.3333333333333333,
              "#9c179e"
             ],
             [
              0.4444444444444444,
              "#bd3786"
             ],
             [
              0.5555555555555556,
              "#d8576b"
             ],
             [
              0.6666666666666666,
              "#ed7953"
             ],
             [
              0.7777777777777778,
              "#fb9f3a"
             ],
             [
              0.8888888888888888,
              "#fdca26"
             ],
             [
              1,
              "#f0f921"
             ]
            ],
            "type": "histogram2d"
           }
          ],
          "histogram2dcontour": [
           {
            "colorbar": {
             "outlinewidth": 0,
             "ticks": ""
            },
            "colorscale": [
             [
              0,
              "#0d0887"
             ],
             [
              0.1111111111111111,
              "#46039f"
             ],
             [
              0.2222222222222222,
              "#7201a8"
             ],
             [
              0.3333333333333333,
              "#9c179e"
             ],
             [
              0.4444444444444444,
              "#bd3786"
             ],
             [
              0.5555555555555556,
              "#d8576b"
             ],
             [
              0.6666666666666666,
              "#ed7953"
             ],
             [
              0.7777777777777778,
              "#fb9f3a"
             ],
             [
              0.8888888888888888,
              "#fdca26"
             ],
             [
              1,
              "#f0f921"
             ]
            ],
            "type": "histogram2dcontour"
           }
          ],
          "mesh3d": [
           {
            "colorbar": {
             "outlinewidth": 0,
             "ticks": ""
            },
            "type": "mesh3d"
           }
          ],
          "parcoords": [
           {
            "line": {
             "colorbar": {
              "outlinewidth": 0,
              "ticks": ""
             }
            },
            "type": "parcoords"
           }
          ],
          "pie": [
           {
            "automargin": true,
            "type": "pie"
           }
          ],
          "scatter": [
           {
            "fillpattern": {
             "fillmode": "overlay",
             "size": 10,
             "solidity": 0.2
            },
            "type": "scatter"
           }
          ],
          "scatter3d": [
           {
            "line": {
             "colorbar": {
              "outlinewidth": 0,
              "ticks": ""
             }
            },
            "marker": {
             "colorbar": {
              "outlinewidth": 0,
              "ticks": ""
             }
            },
            "type": "scatter3d"
           }
          ],
          "scattercarpet": [
           {
            "marker": {
             "colorbar": {
              "outlinewidth": 0,
              "ticks": ""
             }
            },
            "type": "scattercarpet"
           }
          ],
          "scattergeo": [
           {
            "marker": {
             "colorbar": {
              "outlinewidth": 0,
              "ticks": ""
             }
            },
            "type": "scattergeo"
           }
          ],
          "scattergl": [
           {
            "marker": {
             "colorbar": {
              "outlinewidth": 0,
              "ticks": ""
             }
            },
            "type": "scattergl"
           }
          ],
          "scattermap": [
           {
            "marker": {
             "colorbar": {
              "outlinewidth": 0,
              "ticks": ""
             }
            },
            "type": "scattermap"
           }
          ],
          "scattermapbox": [
           {
            "marker": {
             "colorbar": {
              "outlinewidth": 0,
              "ticks": ""
             }
            },
            "type": "scattermapbox"
           }
          ],
          "scatterpolar": [
           {
            "marker": {
             "colorbar": {
              "outlinewidth": 0,
              "ticks": ""
             }
            },
            "type": "scatterpolar"
           }
          ],
          "scatterpolargl": [
           {
            "marker": {
             "colorbar": {
              "outlinewidth": 0,
              "ticks": ""
             }
            },
            "type": "scatterpolargl"
           }
          ],
          "scatterternary": [
           {
            "marker": {
             "colorbar": {
              "outlinewidth": 0,
              "ticks": ""
             }
            },
            "type": "scatterternary"
           }
          ],
          "surface": [
           {
            "colorbar": {
             "outlinewidth": 0,
             "ticks": ""
            },
            "colorscale": [
             [
              0,
              "#0d0887"
             ],
             [
              0.1111111111111111,
              "#46039f"
             ],
             [
              0.2222222222222222,
              "#7201a8"
             ],
             [
              0.3333333333333333,
              "#9c179e"
             ],
             [
              0.4444444444444444,
              "#bd3786"
             ],
             [
              0.5555555555555556,
              "#d8576b"
             ],
             [
              0.6666666666666666,
              "#ed7953"
             ],
             [
              0.7777777777777778,
              "#fb9f3a"
             ],
             [
              0.8888888888888888,
              "#fdca26"
             ],
             [
              1,
              "#f0f921"
             ]
            ],
            "type": "surface"
           }
          ],
          "table": [
           {
            "cells": {
             "fill": {
              "color": "#EBF0F8"
             },
             "line": {
              "color": "white"
             }
            },
            "header": {
             "fill": {
              "color": "#C8D4E3"
             },
             "line": {
              "color": "white"
             }
            },
            "type": "table"
           }
          ]
         },
         "layout": {
          "annotationdefaults": {
           "arrowcolor": "#2a3f5f",
           "arrowhead": 0,
           "arrowwidth": 1
          },
          "autotypenumbers": "strict",
          "coloraxis": {
           "colorbar": {
            "outlinewidth": 0,
            "ticks": ""
           }
          },
          "colorscale": {
           "diverging": [
            [
             0,
             "#8e0152"
            ],
            [
             0.1,
             "#c51b7d"
            ],
            [
             0.2,
             "#de77ae"
            ],
            [
             0.3,
             "#f1b6da"
            ],
            [
             0.4,
             "#fde0ef"
            ],
            [
             0.5,
             "#f7f7f7"
            ],
            [
             0.6,
             "#e6f5d0"
            ],
            [
             0.7,
             "#b8e186"
            ],
            [
             0.8,
             "#7fbc41"
            ],
            [
             0.9,
             "#4d9221"
            ],
            [
             1,
             "#276419"
            ]
           ],
           "sequential": [
            [
             0,
             "#0d0887"
            ],
            [
             0.1111111111111111,
             "#46039f"
            ],
            [
             0.2222222222222222,
             "#7201a8"
            ],
            [
             0.3333333333333333,
             "#9c179e"
            ],
            [
             0.4444444444444444,
             "#bd3786"
            ],
            [
             0.5555555555555556,
             "#d8576b"
            ],
            [
             0.6666666666666666,
             "#ed7953"
            ],
            [
             0.7777777777777778,
             "#fb9f3a"
            ],
            [
             0.8888888888888888,
             "#fdca26"
            ],
            [
             1,
             "#f0f921"
            ]
           ],
           "sequentialminus": [
            [
             0,
             "#0d0887"
            ],
            [
             0.1111111111111111,
             "#46039f"
            ],
            [
             0.2222222222222222,
             "#7201a8"
            ],
            [
             0.3333333333333333,
             "#9c179e"
            ],
            [
             0.4444444444444444,
             "#bd3786"
            ],
            [
             0.5555555555555556,
             "#d8576b"
            ],
            [
             0.6666666666666666,
             "#ed7953"
            ],
            [
             0.7777777777777778,
             "#fb9f3a"
            ],
            [
             0.8888888888888888,
             "#fdca26"
            ],
            [
             1,
             "#f0f921"
            ]
           ]
          },
          "colorway": [
           "#636efa",
           "#EF553B",
           "#00cc96",
           "#ab63fa",
           "#FFA15A",
           "#19d3f3",
           "#FF6692",
           "#B6E880",
           "#FF97FF",
           "#FECB52"
          ],
          "font": {
           "color": "#2a3f5f"
          },
          "geo": {
           "bgcolor": "white",
           "lakecolor": "white",
           "landcolor": "white",
           "showlakes": true,
           "showland": true,
           "subunitcolor": "#C8D4E3"
          },
          "hoverlabel": {
           "align": "left"
          },
          "hovermode": "closest",
          "mapbox": {
           "style": "light"
          },
          "paper_bgcolor": "white",
          "plot_bgcolor": "white",
          "polar": {
           "angularaxis": {
            "gridcolor": "#EBF0F8",
            "linecolor": "#EBF0F8",
            "ticks": ""
           },
           "bgcolor": "white",
           "radialaxis": {
            "gridcolor": "#EBF0F8",
            "linecolor": "#EBF0F8",
            "ticks": ""
           }
          },
          "scene": {
           "xaxis": {
            "backgroundcolor": "white",
            "gridcolor": "#DFE8F3",
            "gridwidth": 2,
            "linecolor": "#EBF0F8",
            "showbackground": true,
            "ticks": "",
            "zerolinecolor": "#EBF0F8"
           },
           "yaxis": {
            "backgroundcolor": "white",
            "gridcolor": "#DFE8F3",
            "gridwidth": 2,
            "linecolor": "#EBF0F8",
            "showbackground": true,
            "ticks": "",
            "zerolinecolor": "#EBF0F8"
           },
           "zaxis": {
            "backgroundcolor": "white",
            "gridcolor": "#DFE8F3",
            "gridwidth": 2,
            "linecolor": "#EBF0F8",
            "showbackground": true,
            "ticks": "",
            "zerolinecolor": "#EBF0F8"
           }
          },
          "shapedefaults": {
           "line": {
            "color": "#2a3f5f"
           }
          },
          "ternary": {
           "aaxis": {
            "gridcolor": "#DFE8F3",
            "linecolor": "#A2B1C6",
            "ticks": ""
           },
           "baxis": {
            "gridcolor": "#DFE8F3",
            "linecolor": "#A2B1C6",
            "ticks": ""
           },
           "bgcolor": "white",
           "caxis": {
            "gridcolor": "#DFE8F3",
            "linecolor": "#A2B1C6",
            "ticks": ""
           }
          },
          "title": {
           "x": 0.05
          },
          "xaxis": {
           "automargin": true,
           "gridcolor": "#EBF0F8",
           "linecolor": "#EBF0F8",
           "ticks": "",
           "title": {
            "standoff": 15
           },
           "zerolinecolor": "#EBF0F8",
           "zerolinewidth": 2
          },
          "yaxis": {
           "automargin": true,
           "gridcolor": "#EBF0F8",
           "linecolor": "#EBF0F8",
           "ticks": "",
           "title": {
            "standoff": 15
           },
           "zerolinecolor": "#EBF0F8",
           "zerolinewidth": 2
          }
         }
        },
        "title": {
         "text": "count of dept peoples",
         "x": 0.5
        },
        "xaxis": {
         "anchor": "y",
         "categoryarray": [
          1,
          0
         ],
         "categoryorder": "array",
         "domain": [
          0,
          1
         ],
         "title": {
          "text": "dept Categories"
         }
        },
        "yaxis": {
         "anchor": "x",
         "domain": [
          0,
          1
         ],
         "title": {
          "text": "Total Count"
         }
        }
       }
      }
     },
     "metadata": {},
     "output_type": "display_data"
    }
   ],
   "source": [
    "\n",
    "# Step 1: Count categories properly\n",
    "cat_dept_df = data[\"CAT_DEBT\"].value_counts().reset_index()\n",
    "cat_dept_df.columns = [\"Debt Categories\", \"Count\"]\n",
    "\n",
    "# Step 2: Plot with refinements\n",
    "fig = px.bar(\n",
    "    cat_dept_df ,\n",
    "    x=\"Debt Categories\",\n",
    "    y=\"Count\",\n",
    "    color=\"Debt Categories\",\n",
    "    text=\"Count\",   # bar ke upar count show hoga\n",
    "    color_discrete_sequence=px.colors.qualitative.Bold,\n",
    "    template=\"plotly_white\",\n",
    "    title=\"count of dept peoples\"\n",
    ")\n",
    "\n",
    "# Step 3: Layout improvements\n",
    "fig.update_traces(\n",
    "    textposition=\"outside\",  # display text on outside of bar)\n",
    ")\n",
    "\n",
    "fig.update_layout(\n",
    "    xaxis_title=\"dept Categories\",\n",
    "    yaxis_title=\"Total Count\",\n",
    "    title_x=0.5,   # title center\n",
    "    font=dict(size=14) \n",
    ")\n",
    "\n",
    "fig.show()"
   ]
  },
  {
   "cell_type": "code",
   "execution_count": 51,
   "id": "22f7920e",
   "metadata": {},
   "outputs": [
    {
     "data": {
      "application/vnd.plotly.v1+json": {
       "config": {
        "plotlyServerURL": "https://plot.ly"
       },
       "data": [
        {
         "hovertemplate": "loan_ability=%{x}<br>Count=%{text}<extra></extra>",
         "legendgroup": "0",
         "marker": {
          "color": "rgb(127, 60, 141)",
          "pattern": {
           "shape": ""
          }
         },
         "name": "0",
         "orientation": "v",
         "showlegend": true,
         "text": {
          "bdata": "AAAAAABghkA=",
          "dtype": "f8"
         },
         "textposition": "outside",
         "type": "bar",
         "x": {
          "bdata": "AA==",
          "dtype": "i1"
         },
         "xaxis": "x",
         "y": {
          "bdata": "zAI=",
          "dtype": "i2"
         },
         "yaxis": "y"
        },
        {
         "hovertemplate": "loan_ability=%{x}<br>Count=%{text}<extra></extra>",
         "legendgroup": "1",
         "marker": {
          "color": "rgb(17, 165, 121)",
          "pattern": {
           "shape": ""
          }
         },
         "name": "1",
         "orientation": "v",
         "showlegend": true,
         "text": {
          "bdata": "AAAAAADAcUA=",
          "dtype": "f8"
         },
         "textposition": "outside",
         "type": "bar",
         "x": {
          "bdata": "AQ==",
          "dtype": "i1"
         },
         "xaxis": "x",
         "y": {
          "bdata": "HAE=",
          "dtype": "i2"
         },
         "yaxis": "y"
        }
       ],
       "layout": {
        "barmode": "relative",
        "font": {
         "size": 14
        },
        "legend": {
         "title": {
          "text": "loan_ability"
         },
         "tracegroupgap": 0
        },
        "template": {
         "data": {
          "bar": [
           {
            "error_x": {
             "color": "#2a3f5f"
            },
            "error_y": {
             "color": "#2a3f5f"
            },
            "marker": {
             "line": {
              "color": "white",
              "width": 0.5
             },
             "pattern": {
              "fillmode": "overlay",
              "size": 10,
              "solidity": 0.2
             }
            },
            "type": "bar"
           }
          ],
          "barpolar": [
           {
            "marker": {
             "line": {
              "color": "white",
              "width": 0.5
             },
             "pattern": {
              "fillmode": "overlay",
              "size": 10,
              "solidity": 0.2
             }
            },
            "type": "barpolar"
           }
          ],
          "carpet": [
           {
            "aaxis": {
             "endlinecolor": "#2a3f5f",
             "gridcolor": "#C8D4E3",
             "linecolor": "#C8D4E3",
             "minorgridcolor": "#C8D4E3",
             "startlinecolor": "#2a3f5f"
            },
            "baxis": {
             "endlinecolor": "#2a3f5f",
             "gridcolor": "#C8D4E3",
             "linecolor": "#C8D4E3",
             "minorgridcolor": "#C8D4E3",
             "startlinecolor": "#2a3f5f"
            },
            "type": "carpet"
           }
          ],
          "choropleth": [
           {
            "colorbar": {
             "outlinewidth": 0,
             "ticks": ""
            },
            "type": "choropleth"
           }
          ],
          "contour": [
           {
            "colorbar": {
             "outlinewidth": 0,
             "ticks": ""
            },
            "colorscale": [
             [
              0,
              "#0d0887"
             ],
             [
              0.1111111111111111,
              "#46039f"
             ],
             [
              0.2222222222222222,
              "#7201a8"
             ],
             [
              0.3333333333333333,
              "#9c179e"
             ],
             [
              0.4444444444444444,
              "#bd3786"
             ],
             [
              0.5555555555555556,
              "#d8576b"
             ],
             [
              0.6666666666666666,
              "#ed7953"
             ],
             [
              0.7777777777777778,
              "#fb9f3a"
             ],
             [
              0.8888888888888888,
              "#fdca26"
             ],
             [
              1,
              "#f0f921"
             ]
            ],
            "type": "contour"
           }
          ],
          "contourcarpet": [
           {
            "colorbar": {
             "outlinewidth": 0,
             "ticks": ""
            },
            "type": "contourcarpet"
           }
          ],
          "heatmap": [
           {
            "colorbar": {
             "outlinewidth": 0,
             "ticks": ""
            },
            "colorscale": [
             [
              0,
              "#0d0887"
             ],
             [
              0.1111111111111111,
              "#46039f"
             ],
             [
              0.2222222222222222,
              "#7201a8"
             ],
             [
              0.3333333333333333,
              "#9c179e"
             ],
             [
              0.4444444444444444,
              "#bd3786"
             ],
             [
              0.5555555555555556,
              "#d8576b"
             ],
             [
              0.6666666666666666,
              "#ed7953"
             ],
             [
              0.7777777777777778,
              "#fb9f3a"
             ],
             [
              0.8888888888888888,
              "#fdca26"
             ],
             [
              1,
              "#f0f921"
             ]
            ],
            "type": "heatmap"
           }
          ],
          "histogram": [
           {
            "marker": {
             "pattern": {
              "fillmode": "overlay",
              "size": 10,
              "solidity": 0.2
             }
            },
            "type": "histogram"
           }
          ],
          "histogram2d": [
           {
            "colorbar": {
             "outlinewidth": 0,
             "ticks": ""
            },
            "colorscale": [
             [
              0,
              "#0d0887"
             ],
             [
              0.1111111111111111,
              "#46039f"
             ],
             [
              0.2222222222222222,
              "#7201a8"
             ],
             [
              0.3333333333333333,
              "#9c179e"
             ],
             [
              0.4444444444444444,
              "#bd3786"
             ],
             [
              0.5555555555555556,
              "#d8576b"
             ],
             [
              0.6666666666666666,
              "#ed7953"
             ],
             [
              0.7777777777777778,
              "#fb9f3a"
             ],
             [
              0.8888888888888888,
              "#fdca26"
             ],
             [
              1,
              "#f0f921"
             ]
            ],
            "type": "histogram2d"
           }
          ],
          "histogram2dcontour": [
           {
            "colorbar": {
             "outlinewidth": 0,
             "ticks": ""
            },
            "colorscale": [
             [
              0,
              "#0d0887"
             ],
             [
              0.1111111111111111,
              "#46039f"
             ],
             [
              0.2222222222222222,
              "#7201a8"
             ],
             [
              0.3333333333333333,
              "#9c179e"
             ],
             [
              0.4444444444444444,
              "#bd3786"
             ],
             [
              0.5555555555555556,
              "#d8576b"
             ],
             [
              0.6666666666666666,
              "#ed7953"
             ],
             [
              0.7777777777777778,
              "#fb9f3a"
             ],
             [
              0.8888888888888888,
              "#fdca26"
             ],
             [
              1,
              "#f0f921"
             ]
            ],
            "type": "histogram2dcontour"
           }
          ],
          "mesh3d": [
           {
            "colorbar": {
             "outlinewidth": 0,
             "ticks": ""
            },
            "type": "mesh3d"
           }
          ],
          "parcoords": [
           {
            "line": {
             "colorbar": {
              "outlinewidth": 0,
              "ticks": ""
             }
            },
            "type": "parcoords"
           }
          ],
          "pie": [
           {
            "automargin": true,
            "type": "pie"
           }
          ],
          "scatter": [
           {
            "fillpattern": {
             "fillmode": "overlay",
             "size": 10,
             "solidity": 0.2
            },
            "type": "scatter"
           }
          ],
          "scatter3d": [
           {
            "line": {
             "colorbar": {
              "outlinewidth": 0,
              "ticks": ""
             }
            },
            "marker": {
             "colorbar": {
              "outlinewidth": 0,
              "ticks": ""
             }
            },
            "type": "scatter3d"
           }
          ],
          "scattercarpet": [
           {
            "marker": {
             "colorbar": {
              "outlinewidth": 0,
              "ticks": ""
             }
            },
            "type": "scattercarpet"
           }
          ],
          "scattergeo": [
           {
            "marker": {
             "colorbar": {
              "outlinewidth": 0,
              "ticks": ""
             }
            },
            "type": "scattergeo"
           }
          ],
          "scattergl": [
           {
            "marker": {
             "colorbar": {
              "outlinewidth": 0,
              "ticks": ""
             }
            },
            "type": "scattergl"
           }
          ],
          "scattermap": [
           {
            "marker": {
             "colorbar": {
              "outlinewidth": 0,
              "ticks": ""
             }
            },
            "type": "scattermap"
           }
          ],
          "scattermapbox": [
           {
            "marker": {
             "colorbar": {
              "outlinewidth": 0,
              "ticks": ""
             }
            },
            "type": "scattermapbox"
           }
          ],
          "scatterpolar": [
           {
            "marker": {
             "colorbar": {
              "outlinewidth": 0,
              "ticks": ""
             }
            },
            "type": "scatterpolar"
           }
          ],
          "scatterpolargl": [
           {
            "marker": {
             "colorbar": {
              "outlinewidth": 0,
              "ticks": ""
             }
            },
            "type": "scatterpolargl"
           }
          ],
          "scatterternary": [
           {
            "marker": {
             "colorbar": {
              "outlinewidth": 0,
              "ticks": ""
             }
            },
            "type": "scatterternary"
           }
          ],
          "surface": [
           {
            "colorbar": {
             "outlinewidth": 0,
             "ticks": ""
            },
            "colorscale": [
             [
              0,
              "#0d0887"
             ],
             [
              0.1111111111111111,
              "#46039f"
             ],
             [
              0.2222222222222222,
              "#7201a8"
             ],
             [
              0.3333333333333333,
              "#9c179e"
             ],
             [
              0.4444444444444444,
              "#bd3786"
             ],
             [
              0.5555555555555556,
              "#d8576b"
             ],
             [
              0.6666666666666666,
              "#ed7953"
             ],
             [
              0.7777777777777778,
              "#fb9f3a"
             ],
             [
              0.8888888888888888,
              "#fdca26"
             ],
             [
              1,
              "#f0f921"
             ]
            ],
            "type": "surface"
           }
          ],
          "table": [
           {
            "cells": {
             "fill": {
              "color": "#EBF0F8"
             },
             "line": {
              "color": "white"
             }
            },
            "header": {
             "fill": {
              "color": "#C8D4E3"
             },
             "line": {
              "color": "white"
             }
            },
            "type": "table"
           }
          ]
         },
         "layout": {
          "annotationdefaults": {
           "arrowcolor": "#2a3f5f",
           "arrowhead": 0,
           "arrowwidth": 1
          },
          "autotypenumbers": "strict",
          "coloraxis": {
           "colorbar": {
            "outlinewidth": 0,
            "ticks": ""
           }
          },
          "colorscale": {
           "diverging": [
            [
             0,
             "#8e0152"
            ],
            [
             0.1,
             "#c51b7d"
            ],
            [
             0.2,
             "#de77ae"
            ],
            [
             0.3,
             "#f1b6da"
            ],
            [
             0.4,
             "#fde0ef"
            ],
            [
             0.5,
             "#f7f7f7"
            ],
            [
             0.6,
             "#e6f5d0"
            ],
            [
             0.7,
             "#b8e186"
            ],
            [
             0.8,
             "#7fbc41"
            ],
            [
             0.9,
             "#4d9221"
            ],
            [
             1,
             "#276419"
            ]
           ],
           "sequential": [
            [
             0,
             "#0d0887"
            ],
            [
             0.1111111111111111,
             "#46039f"
            ],
            [
             0.2222222222222222,
             "#7201a8"
            ],
            [
             0.3333333333333333,
             "#9c179e"
            ],
            [
             0.4444444444444444,
             "#bd3786"
            ],
            [
             0.5555555555555556,
             "#d8576b"
            ],
            [
             0.6666666666666666,
             "#ed7953"
            ],
            [
             0.7777777777777778,
             "#fb9f3a"
            ],
            [
             0.8888888888888888,
             "#fdca26"
            ],
            [
             1,
             "#f0f921"
            ]
           ],
           "sequentialminus": [
            [
             0,
             "#0d0887"
            ],
            [
             0.1111111111111111,
             "#46039f"
            ],
            [
             0.2222222222222222,
             "#7201a8"
            ],
            [
             0.3333333333333333,
             "#9c179e"
            ],
            [
             0.4444444444444444,
             "#bd3786"
            ],
            [
             0.5555555555555556,
             "#d8576b"
            ],
            [
             0.6666666666666666,
             "#ed7953"
            ],
            [
             0.7777777777777778,
             "#fb9f3a"
            ],
            [
             0.8888888888888888,
             "#fdca26"
            ],
            [
             1,
             "#f0f921"
            ]
           ]
          },
          "colorway": [
           "#636efa",
           "#EF553B",
           "#00cc96",
           "#ab63fa",
           "#FFA15A",
           "#19d3f3",
           "#FF6692",
           "#B6E880",
           "#FF97FF",
           "#FECB52"
          ],
          "font": {
           "color": "#2a3f5f"
          },
          "geo": {
           "bgcolor": "white",
           "lakecolor": "white",
           "landcolor": "white",
           "showlakes": true,
           "showland": true,
           "subunitcolor": "#C8D4E3"
          },
          "hoverlabel": {
           "align": "left"
          },
          "hovermode": "closest",
          "mapbox": {
           "style": "light"
          },
          "paper_bgcolor": "white",
          "plot_bgcolor": "white",
          "polar": {
           "angularaxis": {
            "gridcolor": "#EBF0F8",
            "linecolor": "#EBF0F8",
            "ticks": ""
           },
           "bgcolor": "white",
           "radialaxis": {
            "gridcolor": "#EBF0F8",
            "linecolor": "#EBF0F8",
            "ticks": ""
           }
          },
          "scene": {
           "xaxis": {
            "backgroundcolor": "white",
            "gridcolor": "#DFE8F3",
            "gridwidth": 2,
            "linecolor": "#EBF0F8",
            "showbackground": true,
            "ticks": "",
            "zerolinecolor": "#EBF0F8"
           },
           "yaxis": {
            "backgroundcolor": "white",
            "gridcolor": "#DFE8F3",
            "gridwidth": 2,
            "linecolor": "#EBF0F8",
            "showbackground": true,
            "ticks": "",
            "zerolinecolor": "#EBF0F8"
           },
           "zaxis": {
            "backgroundcolor": "white",
            "gridcolor": "#DFE8F3",
            "gridwidth": 2,
            "linecolor": "#EBF0F8",
            "showbackground": true,
            "ticks": "",
            "zerolinecolor": "#EBF0F8"
           }
          },
          "shapedefaults": {
           "line": {
            "color": "#2a3f5f"
           }
          },
          "ternary": {
           "aaxis": {
            "gridcolor": "#DFE8F3",
            "linecolor": "#A2B1C6",
            "ticks": ""
           },
           "baxis": {
            "gridcolor": "#DFE8F3",
            "linecolor": "#A2B1C6",
            "ticks": ""
           },
           "bgcolor": "white",
           "caxis": {
            "gridcolor": "#DFE8F3",
            "linecolor": "#A2B1C6",
            "ticks": ""
           }
          },
          "title": {
           "x": 0.05
          },
          "xaxis": {
           "automargin": true,
           "gridcolor": "#EBF0F8",
           "linecolor": "#EBF0F8",
           "ticks": "",
           "title": {
            "standoff": 15
           },
           "zerolinecolor": "#EBF0F8",
           "zerolinewidth": 2
          },
          "yaxis": {
           "automargin": true,
           "gridcolor": "#EBF0F8",
           "linecolor": "#EBF0F8",
           "ticks": "",
           "title": {
            "standoff": 15
           },
           "zerolinecolor": "#EBF0F8",
           "zerolinewidth": 2
          }
         }
        },
        "title": {
         "text": "loan ables people count",
         "x": 0.5
        },
        "xaxis": {
         "anchor": "y",
         "categoryarray": [
          0,
          1
         ],
         "categoryorder": "array",
         "domain": [
          0,
          1
         ],
         "title": {
          "text": "loan_ability"
         }
        },
        "yaxis": {
         "anchor": "x",
         "domain": [
          0,
          1
         ],
         "title": {
          "text": "Total Count"
         }
        }
       }
      }
     },
     "metadata": {},
     "output_type": "display_data"
    }
   ],
   "source": [
    "\n",
    "\n",
    "# Step 1: Count categories properly\n",
    "loan_ability_df = data[\"DEFAULT\"].value_counts().reset_index()\n",
    "loan_ability_df.columns = [\"loan_ability\", \"Count\"]\n",
    "\n",
    "# Step 2: Plot with refinements\n",
    "fig = px.bar(\n",
    "    loan_ability_df,\n",
    "    x=\"loan_ability\",\n",
    "    y=\"Count\",\n",
    "    color=\"loan_ability\",\n",
    "    text=\"Count\",   # bar ke upar count show hoga\n",
    "    color_discrete_sequence=px.colors.qualitative.Bold,\n",
    "    template=\"plotly_white\",\n",
    "    title=\"loan ables people count\"\n",
    ")\n",
    "\n",
    "# Step 3: Layout improvements\n",
    "fig.update_traces(\n",
    "    textposition=\"outside\",  # display text on outside of bar)\n",
    ")\n",
    "\n",
    "fig.update_layout(\n",
    "    xaxis_title=\"loan_ability\",\n",
    "    yaxis_title=\"Total Count\",\n",
    "    title_x=0.5,   # title center\n",
    "    font=dict(size=14) \n",
    ")\n",
    "\n",
    "fig.show()"
   ]
  },
  {
   "cell_type": "markdown",
   "id": "1e486c36",
   "metadata": {},
   "source": [
    "### Insights From Bar Chart\n",
    "\n",
    "1. mostly people are not involve in gambling but  \n",
    "2. there are mostly have any kind of dept to pay\n",
    "3. that why its look like most of the people 716/1000 are not eligible for loan \n",
    "4. As we can see our data is imbalance  so it will effect our model performance"
   ]
  },
  {
   "cell_type": "markdown",
   "id": "ee3dd358",
   "metadata": {},
   "source": [
    "## Histogram\n",
    "we will see the distribution of values of  Income ,saving and debt"
   ]
  },
  {
   "cell_type": "code",
   "execution_count": 54,
   "id": "f4754e2c",
   "metadata": {},
   "outputs": [
    {
     "data": {
      "application/vnd.plotly.v1+json": {
       "config": {
        "plotlyServerURL": "https://plot.ly"
       },
       "data": [
        {
         "bingroup": "x",
         "hovertemplate": "Income=%{x}<br>count=%{y}<extra></extra>",
         "legendgroup": "",
         "marker": {
          "color": "blue",
          "pattern": {
           "shape": ""
          }
         },
         "name": "",
         "nbinsx": 20,
         "orientation": "v",
         "showlegend": false,
         "type": "histogram",
         "x": {
          "bdata": "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",
          "dtype": "i4"
         },
         "xaxis": "x",
         "yaxis": "y"
        },
        {
         "hovertemplate": "Income=%{x}<extra></extra>",
         "legendgroup": "",
         "marker": {
          "color": "blue"
         },
         "name": "",
         "notched": true,
         "showlegend": false,
         "type": "box",
         "x": {
          "bdata": "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",
          "dtype": "i4"
         },
         "xaxis": "x2",
         "yaxis": "y2"
        }
       ],
       "layout": {
        "barmode": "relative",
        "font": {
         "size": 14
        },
        "legend": {
         "tracegroupgap": 0
        },
        "template": {
         "data": {
          "bar": [
           {
            "error_x": {
             "color": "#2a3f5f"
            },
            "error_y": {
             "color": "#2a3f5f"
            },
            "marker": {
             "line": {
              "color": "white",
              "width": 0.5
             },
             "pattern": {
              "fillmode": "overlay",
              "size": 10,
              "solidity": 0.2
             }
            },
            "type": "bar"
           }
          ],
          "barpolar": [
           {
            "marker": {
             "line": {
              "color": "white",
              "width": 0.5
             },
             "pattern": {
              "fillmode": "overlay",
              "size": 10,
              "solidity": 0.2
             }
            },
            "type": "barpolar"
           }
          ],
          "carpet": [
           {
            "aaxis": {
             "endlinecolor": "#2a3f5f",
             "gridcolor": "#C8D4E3",
             "linecolor": "#C8D4E3",
             "minorgridcolor": "#C8D4E3",
             "startlinecolor": "#2a3f5f"
            },
            "baxis": {
             "endlinecolor": "#2a3f5f",
             "gridcolor": "#C8D4E3",
             "linecolor": "#C8D4E3",
             "minorgridcolor": "#C8D4E3",
             "startlinecolor": "#2a3f5f"
            },
            "type": "carpet"
           }
          ],
          "choropleth": [
           {
            "colorbar": {
             "outlinewidth": 0,
             "ticks": ""
            },
            "type": "choropleth"
           }
          ],
          "contour": [
           {
            "colorbar": {
             "outlinewidth": 0,
             "ticks": ""
            },
            "colorscale": [
             [
              0,
              "#0d0887"
             ],
             [
              0.1111111111111111,
              "#46039f"
             ],
             [
              0.2222222222222222,
              "#7201a8"
             ],
             [
              0.3333333333333333,
              "#9c179e"
             ],
             [
              0.4444444444444444,
              "#bd3786"
             ],
             [
              0.5555555555555556,
              "#d8576b"
             ],
             [
              0.6666666666666666,
              "#ed7953"
             ],
             [
              0.7777777777777778,
              "#fb9f3a"
             ],
             [
              0.8888888888888888,
              "#fdca26"
             ],
             [
              1,
              "#f0f921"
             ]
            ],
            "type": "contour"
           }
          ],
          "contourcarpet": [
           {
            "colorbar": {
             "outlinewidth": 0,
             "ticks": ""
            },
            "type": "contourcarpet"
           }
          ],
          "heatmap": [
           {
            "colorbar": {
             "outlinewidth": 0,
             "ticks": ""
            },
            "colorscale": [
             [
              0,
              "#0d0887"
             ],
             [
              0.1111111111111111,
              "#46039f"
             ],
             [
              0.2222222222222222,
              "#7201a8"
             ],
             [
              0.3333333333333333,
              "#9c179e"
             ],
             [
              0.4444444444444444,
              "#bd3786"
             ],
             [
              0.5555555555555556,
              "#d8576b"
             ],
             [
              0.6666666666666666,
              "#ed7953"
             ],
             [
              0.7777777777777778,
              "#fb9f3a"
             ],
             [
              0.8888888888888888,
              "#fdca26"
             ],
             [
              1,
              "#f0f921"
             ]
            ],
            "type": "heatmap"
           }
          ],
          "histogram": [
           {
            "marker": {
             "pattern": {
              "fillmode": "overlay",
              "size": 10,
              "solidity": 0.2
             }
            },
            "type": "histogram"
           }
          ],
          "histogram2d": [
           {
            "colorbar": {
             "outlinewidth": 0,
             "ticks": ""
            },
            "colorscale": [
             [
              0,
              "#0d0887"
             ],
             [
              0.1111111111111111,
              "#46039f"
             ],
             [
              0.2222222222222222,
              "#7201a8"
             ],
             [
              0.3333333333333333,
              "#9c179e"
             ],
             [
              0.4444444444444444,
              "#bd3786"
             ],
             [
              0.5555555555555556,
              "#d8576b"
             ],
             [
              0.6666666666666666,
              "#ed7953"
             ],
             [
              0.7777777777777778,
              "#fb9f3a"
             ],
             [
              0.8888888888888888,
              "#fdca26"
             ],
             [
              1,
              "#f0f921"
             ]
            ],
            "type": "histogram2d"
           }
          ],
          "histogram2dcontour": [
           {
            "colorbar": {
             "outlinewidth": 0,
             "ticks": ""
            },
            "colorscale": [
             [
              0,
              "#0d0887"
             ],
             [
              0.1111111111111111,
              "#46039f"
             ],
             [
              0.2222222222222222,
              "#7201a8"
             ],
             [
              0.3333333333333333,
              "#9c179e"
             ],
             [
              0.4444444444444444,
              "#bd3786"
             ],
             [
              0.5555555555555556,
              "#d8576b"
             ],
             [
              0.6666666666666666,
              "#ed7953"
             ],
             [
              0.7777777777777778,
              "#fb9f3a"
             ],
             [
              0.8888888888888888,
              "#fdca26"
             ],
             [
              1,
              "#f0f921"
             ]
            ],
            "type": "histogram2dcontour"
           }
          ],
          "mesh3d": [
           {
            "colorbar": {
             "outlinewidth": 0,
             "ticks": ""
            },
            "type": "mesh3d"
           }
          ],
          "parcoords": [
           {
            "line": {
             "colorbar": {
              "outlinewidth": 0,
              "ticks": ""
             }
            },
            "type": "parcoords"
           }
          ],
          "pie": [
           {
            "automargin": true,
            "type": "pie"
           }
          ],
          "scatter": [
           {
            "fillpattern": {
             "fillmode": "overlay",
             "size": 10,
             "solidity": 0.2
            },
            "type": "scatter"
           }
          ],
          "scatter3d": [
           {
            "line": {
             "colorbar": {
              "outlinewidth": 0,
              "ticks": ""
             }
            },
            "marker": {
             "colorbar": {
              "outlinewidth": 0,
              "ticks": ""
             }
            },
            "type": "scatter3d"
           }
          ],
          "scattercarpet": [
           {
            "marker": {
             "colorbar": {
              "outlinewidth": 0,
              "ticks": ""
             }
            },
            "type": "scattercarpet"
           }
          ],
          "scattergeo": [
           {
            "marker": {
             "colorbar": {
              "outlinewidth": 0,
              "ticks": ""
             }
            },
            "type": "scattergeo"
           }
          ],
          "scattergl": [
           {
            "marker": {
             "colorbar": {
              "outlinewidth": 0,
              "ticks": ""
             }
            },
            "type": "scattergl"
           }
          ],
          "scattermap": [
           {
            "marker": {
             "colorbar": {
              "outlinewidth": 0,
              "ticks": ""
             }
            },
            "type": "scattermap"
           }
          ],
          "scattermapbox": [
           {
            "marker": {
             "colorbar": {
              "outlinewidth": 0,
              "ticks": ""
             }
            },
            "type": "scattermapbox"
           }
          ],
          "scatterpolar": [
           {
            "marker": {
             "colorbar": {
              "outlinewidth": 0,
              "ticks": ""
             }
            },
            "type": "scatterpolar"
           }
          ],
          "scatterpolargl": [
           {
            "marker": {
             "colorbar": {
              "outlinewidth": 0,
              "ticks": ""
             }
            },
            "type": "scatterpolargl"
           }
          ],
          "scatterternary": [
           {
            "marker": {
             "colorbar": {
              "outlinewidth": 0,
              "ticks": ""
             }
            },
            "type": "scatterternary"
           }
          ],
          "surface": [
           {
            "colorbar": {
             "outlinewidth": 0,
             "ticks": ""
            },
            "colorscale": [
             [
              0,
              "#0d0887"
             ],
             [
              0.1111111111111111,
              "#46039f"
             ],
             [
              0.2222222222222222,
              "#7201a8"
             ],
             [
              0.3333333333333333,
              "#9c179e"
             ],
             [
              0.4444444444444444,
              "#bd3786"
             ],
             [
              0.5555555555555556,
              "#d8576b"
             ],
             [
              0.6666666666666666,
              "#ed7953"
             ],
             [
              0.7777777777777778,
              "#fb9f3a"
             ],
             [
              0.8888888888888888,
              "#fdca26"
             ],
             [
              1,
              "#f0f921"
             ]
            ],
            "type": "surface"
           }
          ],
          "table": [
           {
            "cells": {
             "fill": {
              "color": "#EBF0F8"
             },
             "line": {
              "color": "white"
             }
            },
            "header": {
             "fill": {
              "color": "#C8D4E3"
             },
             "line": {
              "color": "white"
             }
            },
            "type": "table"
           }
          ]
         },
         "layout": {
          "annotationdefaults": {
           "arrowcolor": "#2a3f5f",
           "arrowhead": 0,
           "arrowwidth": 1
          },
          "autotypenumbers": "strict",
          "coloraxis": {
           "colorbar": {
            "outlinewidth": 0,
            "ticks": ""
           }
          },
          "colorscale": {
           "diverging": [
            [
             0,
             "#8e0152"
            ],
            [
             0.1,
             "#c51b7d"
            ],
            [
             0.2,
             "#de77ae"
            ],
            [
             0.3,
             "#f1b6da"
            ],
            [
             0.4,
             "#fde0ef"
            ],
            [
             0.5,
             "#f7f7f7"
            ],
            [
             0.6,
             "#e6f5d0"
            ],
            [
             0.7,
             "#b8e186"
            ],
            [
             0.8,
             "#7fbc41"
            ],
            [
             0.9,
             "#4d9221"
            ],
            [
             1,
             "#276419"
            ]
           ],
           "sequential": [
            [
             0,
             "#0d0887"
            ],
            [
             0.1111111111111111,
             "#46039f"
            ],
            [
             0.2222222222222222,
             "#7201a8"
            ],
            [
             0.3333333333333333,
             "#9c179e"
            ],
            [
             0.4444444444444444,
             "#bd3786"
            ],
            [
             0.5555555555555556,
             "#d8576b"
            ],
            [
             0.6666666666666666,
             "#ed7953"
            ],
            [
             0.7777777777777778,
             "#fb9f3a"
            ],
            [
             0.8888888888888888,
             "#fdca26"
            ],
            [
             1,
             "#f0f921"
            ]
           ],
           "sequentialminus": [
            [
             0,
             "#0d0887"
            ],
            [
             0.1111111111111111,
             "#46039f"
            ],
            [
             0.2222222222222222,
             "#7201a8"
            ],
            [
             0.3333333333333333,
             "#9c179e"
            ],
            [
             0.4444444444444444,
             "#bd3786"
            ],
            [
             0.5555555555555556,
             "#d8576b"
            ],
            [
             0.6666666666666666,
             "#ed7953"
            ],
            [
             0.7777777777777778,
             "#fb9f3a"
            ],
            [
             0.8888888888888888,
             "#fdca26"
            ],
            [
             1,
             "#f0f921"
            ]
           ]
          },
          "colorway": [
           "#636efa",
           "#EF553B",
           "#00cc96",
           "#ab63fa",
           "#FFA15A",
           "#19d3f3",
           "#FF6692",
           "#B6E880",
           "#FF97FF",
           "#FECB52"
          ],
          "font": {
           "color": "#2a3f5f"
          },
          "geo": {
           "bgcolor": "white",
           "lakecolor": "white",
           "landcolor": "white",
           "showlakes": true,
           "showland": true,
           "subunitcolor": "#C8D4E3"
          },
          "hoverlabel": {
           "align": "left"
          },
          "hovermode": "closest",
          "mapbox": {
           "style": "light"
          },
          "paper_bgcolor": "white",
          "plot_bgcolor": "white",
          "polar": {
           "angularaxis": {
            "gridcolor": "#EBF0F8",
            "linecolor": "#EBF0F8",
            "ticks": ""
           },
           "bgcolor": "white",
           "radialaxis": {
            "gridcolor": "#EBF0F8",
            "linecolor": "#EBF0F8",
            "ticks": ""
           }
          },
          "scene": {
           "xaxis": {
            "backgroundcolor": "white",
            "gridcolor": "#DFE8F3",
            "gridwidth": 2,
            "linecolor": "#EBF0F8",
            "showbackground": true,
            "ticks": "",
            "zerolinecolor": "#EBF0F8"
           },
           "yaxis": {
            "backgroundcolor": "white",
            "gridcolor": "#DFE8F3",
            "gridwidth": 2,
            "linecolor": "#EBF0F8",
            "showbackground": true,
            "ticks": "",
            "zerolinecolor": "#EBF0F8"
           },
           "zaxis": {
            "backgroundcolor": "white",
            "gridcolor": "#DFE8F3",
            "gridwidth": 2,
            "linecolor": "#EBF0F8",
            "showbackground": true,
            "ticks": "",
            "zerolinecolor": "#EBF0F8"
           }
          },
          "shapedefaults": {
           "line": {
            "color": "#2a3f5f"
           }
          },
          "ternary": {
           "aaxis": {
            "gridcolor": "#DFE8F3",
            "linecolor": "#A2B1C6",
            "ticks": ""
           },
           "baxis": {
            "gridcolor": "#DFE8F3",
            "linecolor": "#A2B1C6",
            "ticks": ""
           },
           "bgcolor": "white",
           "caxis": {
            "gridcolor": "#DFE8F3",
            "linecolor": "#A2B1C6",
            "ticks": ""
           }
          },
          "title": {
           "x": 0.05
          },
          "xaxis": {
           "automargin": true,
           "gridcolor": "#EBF0F8",
           "linecolor": "#EBF0F8",
           "ticks": "",
           "title": {
            "standoff": 15
           },
           "zerolinecolor": "#EBF0F8",
           "zerolinewidth": 2
          },
          "yaxis": {
           "automargin": true,
           "gridcolor": "#EBF0F8",
           "linecolor": "#EBF0F8",
           "ticks": "",
           "title": {
            "standoff": 15
           },
           "zerolinecolor": "#EBF0F8",
           "zerolinewidth": 2
          }
         }
        },
        "title": {
         "text": "Distribution of Income",
         "x": 0.5
        },
        "xaxis": {
         "anchor": "y",
         "domain": [
          0,
          1
         ],
         "title": {
          "text": "income"
         }
        },
        "xaxis2": {
         "anchor": "y2",
         "domain": [
          0,
          1
         ],
         "matches": "x",
         "showgrid": true,
         "showticklabels": false
        },
        "yaxis": {
         "anchor": "x",
         "domain": [
          0,
          0.8316
         ],
         "title": {
          "text": "Total Count"
         }
        },
        "yaxis2": {
         "anchor": "x2",
         "domain": [
          0.8416,
          1
         ],
         "matches": "y2",
         "showgrid": false,
         "showline": false,
         "showticklabels": false,
         "ticks": ""
        }
       }
      }
     },
     "metadata": {},
     "output_type": "display_data"
    }
   ],
   "source": [
    "#'INCOME', 'SAVINGS', 'DEBT'\n",
    "fig1=px.histogram(data,x=\"INCOME\",nbins=20,title=\"Distribution of Income\",\n",
    "                 labels={\"INCOME\":\"Income\",\"count\":\"count\"},\n",
    "                 color_discrete_sequence=[\"blue\"],\n",
    "                 marginal=\"box\",template=\"plotly_white\")\n",
    "\n",
    "\n",
    "fig1.update_layout(\n",
    "    xaxis_title=\"income\",\n",
    "    yaxis_title=\"Total Count\",\n",
    "    title_x=0.5,   # title center\n",
    "    font=dict(size=14) \n",
    ")\n",
    "\n",
    "\n",
    "fig1.show()"
   ]
  },
  {
   "cell_type": "code",
   "execution_count": 55,
   "id": "a5f0bfb1",
   "metadata": {},
   "outputs": [
    {
     "data": {
      "application/vnd.plotly.v1+json": {
       "config": {
        "plotlyServerURL": "https://plot.ly"
       },
       "data": [
        {
         "bingroup": "x",
         "hovertemplate": "savings=%{x}<br>count=%{y}<extra></extra>",
         "legendgroup": "",
         "marker": {
          "color": "green",
          "pattern": {
           "shape": ""
          }
         },
         "name": "",
         "nbinsx": 20,
         "orientation": "v",
         "showlegend": false,
         "type": "histogram",
         "x": {
          "bdata": "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",
          "dtype": "i4"
         },
         "xaxis": "x",
         "yaxis": "y"
        },
        {
         "hovertemplate": "savings=%{x}<extra></extra>",
         "legendgroup": "",
         "marker": {
          "color": "green"
         },
         "name": "",
         "notched": true,
         "showlegend": false,
         "type": "box",
         "x": {
          "bdata": "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",
          "dtype": "i4"
         },
         "xaxis": "x2",
         "yaxis": "y2"
        }
       ],
       "layout": {
        "barmode": "relative",
        "font": {
         "size": 14
        },
        "legend": {
         "tracegroupgap": 0
        },
        "template": {
         "data": {
          "bar": [
           {
            "error_x": {
             "color": "#2a3f5f"
            },
            "error_y": {
             "color": "#2a3f5f"
            },
            "marker": {
             "line": {
              "color": "white",
              "width": 0.5
             },
             "pattern": {
              "fillmode": "overlay",
              "size": 10,
              "solidity": 0.2
             }
            },
            "type": "bar"
           }
          ],
          "barpolar": [
           {
            "marker": {
             "line": {
              "color": "white",
              "width": 0.5
             },
             "pattern": {
              "fillmode": "overlay",
              "size": 10,
              "solidity": 0.2
             }
            },
            "type": "barpolar"
           }
          ],
          "carpet": [
           {
            "aaxis": {
             "endlinecolor": "#2a3f5f",
             "gridcolor": "#C8D4E3",
             "linecolor": "#C8D4E3",
             "minorgridcolor": "#C8D4E3",
             "startlinecolor": "#2a3f5f"
            },
            "baxis": {
             "endlinecolor": "#2a3f5f",
             "gridcolor": "#C8D4E3",
             "linecolor": "#C8D4E3",
             "minorgridcolor": "#C8D4E3",
             "startlinecolor": "#2a3f5f"
            },
            "type": "carpet"
           }
          ],
          "choropleth": [
           {
            "colorbar": {
             "outlinewidth": 0,
             "ticks": ""
            },
            "type": "choropleth"
           }
          ],
          "contour": [
           {
            "colorbar": {
             "outlinewidth": 0,
             "ticks": ""
            },
            "colorscale": [
             [
              0,
              "#0d0887"
             ],
             [
              0.1111111111111111,
              "#46039f"
             ],
             [
              0.2222222222222222,
              "#7201a8"
             ],
             [
              0.3333333333333333,
              "#9c179e"
             ],
             [
              0.4444444444444444,
              "#bd3786"
             ],
             [
              0.5555555555555556,
              "#d8576b"
             ],
             [
              0.6666666666666666,
              "#ed7953"
             ],
             [
              0.7777777777777778,
              "#fb9f3a"
             ],
             [
              0.8888888888888888,
              "#fdca26"
             ],
             [
              1,
              "#f0f921"
             ]
            ],
            "type": "contour"
           }
          ],
          "contourcarpet": [
           {
            "colorbar": {
             "outlinewidth": 0,
             "ticks": ""
            },
            "type": "contourcarpet"
           }
          ],
          "heatmap": [
           {
            "colorbar": {
             "outlinewidth": 0,
             "ticks": ""
            },
            "colorscale": [
             [
              0,
              "#0d0887"
             ],
             [
              0.1111111111111111,
              "#46039f"
             ],
             [
              0.2222222222222222,
              "#7201a8"
             ],
             [
              0.3333333333333333,
              "#9c179e"
             ],
             [
              0.4444444444444444,
              "#bd3786"
             ],
             [
              0.5555555555555556,
              "#d8576b"
             ],
             [
              0.6666666666666666,
              "#ed7953"
             ],
             [
              0.7777777777777778,
              "#fb9f3a"
             ],
             [
              0.8888888888888888,
              "#fdca26"
             ],
             [
              1,
              "#f0f921"
             ]
            ],
            "type": "heatmap"
           }
          ],
          "histogram": [
           {
            "marker": {
             "pattern": {
              "fillmode": "overlay",
              "size": 10,
              "solidity": 0.2
             }
            },
            "type": "histogram"
           }
          ],
          "histogram2d": [
           {
            "colorbar": {
             "outlinewidth": 0,
             "ticks": ""
            },
            "colorscale": [
             [
              0,
              "#0d0887"
             ],
             [
              0.1111111111111111,
              "#46039f"
             ],
             [
              0.2222222222222222,
              "#7201a8"
             ],
             [
              0.3333333333333333,
              "#9c179e"
             ],
             [
              0.4444444444444444,
              "#bd3786"
             ],
             [
              0.5555555555555556,
              "#d8576b"
             ],
             [
              0.6666666666666666,
              "#ed7953"
             ],
             [
              0.7777777777777778,
              "#fb9f3a"
             ],
             [
              0.8888888888888888,
              "#fdca26"
             ],
             [
              1,
              "#f0f921"
             ]
            ],
            "type": "histogram2d"
           }
          ],
          "histogram2dcontour": [
           {
            "colorbar": {
             "outlinewidth": 0,
             "ticks": ""
            },
            "colorscale": [
             [
              0,
              "#0d0887"
             ],
             [
              0.1111111111111111,
              "#46039f"
             ],
             [
              0.2222222222222222,
              "#7201a8"
             ],
             [
              0.3333333333333333,
              "#9c179e"
             ],
             [
              0.4444444444444444,
              "#bd3786"
             ],
             [
              0.5555555555555556,
              "#d8576b"
             ],
             [
              0.6666666666666666,
              "#ed7953"
             ],
             [
              0.7777777777777778,
              "#fb9f3a"
             ],
             [
              0.8888888888888888,
              "#fdca26"
             ],
             [
              1,
              "#f0f921"
             ]
            ],
            "type": "histogram2dcontour"
           }
          ],
          "mesh3d": [
           {
            "colorbar": {
             "outlinewidth": 0,
             "ticks": ""
            },
            "type": "mesh3d"
           }
          ],
          "parcoords": [
           {
            "line": {
             "colorbar": {
              "outlinewidth": 0,
              "ticks": ""
             }
            },
            "type": "parcoords"
           }
          ],
          "pie": [
           {
            "automargin": true,
            "type": "pie"
           }
          ],
          "scatter": [
           {
            "fillpattern": {
             "fillmode": "overlay",
             "size": 10,
             "solidity": 0.2
            },
            "type": "scatter"
           }
          ],
          "scatter3d": [
           {
            "line": {
             "colorbar": {
              "outlinewidth": 0,
              "ticks": ""
             }
            },
            "marker": {
             "colorbar": {
              "outlinewidth": 0,
              "ticks": ""
             }
            },
            "type": "scatter3d"
           }
          ],
          "scattercarpet": [
           {
            "marker": {
             "colorbar": {
              "outlinewidth": 0,
              "ticks": ""
             }
            },
            "type": "scattercarpet"
           }
          ],
          "scattergeo": [
           {
            "marker": {
             "colorbar": {
              "outlinewidth": 0,
              "ticks": ""
             }
            },
            "type": "scattergeo"
           }
          ],
          "scattergl": [
           {
            "marker": {
             "colorbar": {
              "outlinewidth": 0,
              "ticks": ""
             }
            },
            "type": "scattergl"
           }
          ],
          "scattermap": [
           {
            "marker": {
             "colorbar": {
              "outlinewidth": 0,
              "ticks": ""
             }
            },
            "type": "scattermap"
           }
          ],
          "scattermapbox": [
           {
            "marker": {
             "colorbar": {
              "outlinewidth": 0,
              "ticks": ""
             }
            },
            "type": "scattermapbox"
           }
          ],
          "scatterpolar": [
           {
            "marker": {
             "colorbar": {
              "outlinewidth": 0,
              "ticks": ""
             }
            },
            "type": "scatterpolar"
           }
          ],
          "scatterpolargl": [
           {
            "marker": {
             "colorbar": {
              "outlinewidth": 0,
              "ticks": ""
             }
            },
            "type": "scatterpolargl"
           }
          ],
          "scatterternary": [
           {
            "marker": {
             "colorbar": {
              "outlinewidth": 0,
              "ticks": ""
             }
            },
            "type": "scatterternary"
           }
          ],
          "surface": [
           {
            "colorbar": {
             "outlinewidth": 0,
             "ticks": ""
            },
            "colorscale": [
             [
              0,
              "#0d0887"
             ],
             [
              0.1111111111111111,
              "#46039f"
             ],
             [
              0.2222222222222222,
              "#7201a8"
             ],
             [
              0.3333333333333333,
              "#9c179e"
             ],
             [
              0.4444444444444444,
              "#bd3786"
             ],
             [
              0.5555555555555556,
              "#d8576b"
             ],
             [
              0.6666666666666666,
              "#ed7953"
             ],
             [
              0.7777777777777778,
              "#fb9f3a"
             ],
             [
              0.8888888888888888,
              "#fdca26"
             ],
             [
              1,
              "#f0f921"
             ]
            ],
            "type": "surface"
           }
          ],
          "table": [
           {
            "cells": {
             "fill": {
              "color": "#EBF0F8"
             },
             "line": {
              "color": "white"
             }
            },
            "header": {
             "fill": {
              "color": "#C8D4E3"
             },
             "line": {
              "color": "white"
             }
            },
            "type": "table"
           }
          ]
         },
         "layout": {
          "annotationdefaults": {
           "arrowcolor": "#2a3f5f",
           "arrowhead": 0,
           "arrowwidth": 1
          },
          "autotypenumbers": "strict",
          "coloraxis": {
           "colorbar": {
            "outlinewidth": 0,
            "ticks": ""
           }
          },
          "colorscale": {
           "diverging": [
            [
             0,
             "#8e0152"
            ],
            [
             0.1,
             "#c51b7d"
            ],
            [
             0.2,
             "#de77ae"
            ],
            [
             0.3,
             "#f1b6da"
            ],
            [
             0.4,
             "#fde0ef"
            ],
            [
             0.5,
             "#f7f7f7"
            ],
            [
             0.6,
             "#e6f5d0"
            ],
            [
             0.7,
             "#b8e186"
            ],
            [
             0.8,
             "#7fbc41"
            ],
            [
             0.9,
             "#4d9221"
            ],
            [
             1,
             "#276419"
            ]
           ],
           "sequential": [
            [
             0,
             "#0d0887"
            ],
            [
             0.1111111111111111,
             "#46039f"
            ],
            [
             0.2222222222222222,
             "#7201a8"
            ],
            [
             0.3333333333333333,
             "#9c179e"
            ],
            [
             0.4444444444444444,
             "#bd3786"
            ],
            [
             0.5555555555555556,
             "#d8576b"
            ],
            [
             0.6666666666666666,
             "#ed7953"
            ],
            [
             0.7777777777777778,
             "#fb9f3a"
            ],
            [
             0.8888888888888888,
             "#fdca26"
            ],
            [
             1,
             "#f0f921"
            ]
           ],
           "sequentialminus": [
            [
             0,
             "#0d0887"
            ],
            [
             0.1111111111111111,
             "#46039f"
            ],
            [
             0.2222222222222222,
             "#7201a8"
            ],
            [
             0.3333333333333333,
             "#9c179e"
            ],
            [
             0.4444444444444444,
             "#bd3786"
            ],
            [
             0.5555555555555556,
             "#d8576b"
            ],
            [
             0.6666666666666666,
             "#ed7953"
            ],
            [
             0.7777777777777778,
             "#fb9f3a"
            ],
            [
             0.8888888888888888,
             "#fdca26"
            ],
            [
             1,
             "#f0f921"
            ]
           ]
          },
          "colorway": [
           "#636efa",
           "#EF553B",
           "#00cc96",
           "#ab63fa",
           "#FFA15A",
           "#19d3f3",
           "#FF6692",
           "#B6E880",
           "#FF97FF",
           "#FECB52"
          ],
          "font": {
           "color": "#2a3f5f"
          },
          "geo": {
           "bgcolor": "white",
           "lakecolor": "white",
           "landcolor": "white",
           "showlakes": true,
           "showland": true,
           "subunitcolor": "#C8D4E3"
          },
          "hoverlabel": {
           "align": "left"
          },
          "hovermode": "closest",
          "mapbox": {
           "style": "light"
          },
          "paper_bgcolor": "white",
          "plot_bgcolor": "white",
          "polar": {
           "angularaxis": {
            "gridcolor": "#EBF0F8",
            "linecolor": "#EBF0F8",
            "ticks": ""
           },
           "bgcolor": "white",
           "radialaxis": {
            "gridcolor": "#EBF0F8",
            "linecolor": "#EBF0F8",
            "ticks": ""
           }
          },
          "scene": {
           "xaxis": {
            "backgroundcolor": "white",
            "gridcolor": "#DFE8F3",
            "gridwidth": 2,
            "linecolor": "#EBF0F8",
            "showbackground": true,
            "ticks": "",
            "zerolinecolor": "#EBF0F8"
           },
           "yaxis": {
            "backgroundcolor": "white",
            "gridcolor": "#DFE8F3",
            "gridwidth": 2,
            "linecolor": "#EBF0F8",
            "showbackground": true,
            "ticks": "",
            "zerolinecolor": "#EBF0F8"
           },
           "zaxis": {
            "backgroundcolor": "white",
            "gridcolor": "#DFE8F3",
            "gridwidth": 2,
            "linecolor": "#EBF0F8",
            "showbackground": true,
            "ticks": "",
            "zerolinecolor": "#EBF0F8"
           }
          },
          "shapedefaults": {
           "line": {
            "color": "#2a3f5f"
           }
          },
          "ternary": {
           "aaxis": {
            "gridcolor": "#DFE8F3",
            "linecolor": "#A2B1C6",
            "ticks": ""
           },
           "baxis": {
            "gridcolor": "#DFE8F3",
            "linecolor": "#A2B1C6",
            "ticks": ""
           },
           "bgcolor": "white",
           "caxis": {
            "gridcolor": "#DFE8F3",
            "linecolor": "#A2B1C6",
            "ticks": ""
           }
          },
          "title": {
           "x": 0.05
          },
          "xaxis": {
           "automargin": true,
           "gridcolor": "#EBF0F8",
           "linecolor": "#EBF0F8",
           "ticks": "",
           "title": {
            "standoff": 15
           },
           "zerolinecolor": "#EBF0F8",
           "zerolinewidth": 2
          },
          "yaxis": {
           "automargin": true,
           "gridcolor": "#EBF0F8",
           "linecolor": "#EBF0F8",
           "ticks": "",
           "title": {
            "standoff": 15
           },
           "zerolinecolor": "#EBF0F8",
           "zerolinewidth": 2
          }
         }
        },
        "title": {
         "text": "Distribution of Saving ",
         "x": 0.5
        },
        "xaxis": {
         "anchor": "y",
         "domain": [
          0,
          1
         ],
         "title": {
          "text": "saving"
         }
        },
        "xaxis2": {
         "anchor": "y2",
         "domain": [
          0,
          1
         ],
         "matches": "x",
         "showgrid": true,
         "showticklabels": false
        },
        "yaxis": {
         "anchor": "x",
         "domain": [
          0,
          0.8316
         ],
         "title": {
          "text": "Total Count"
         }
        },
        "yaxis2": {
         "anchor": "x2",
         "domain": [
          0.8416,
          1
         ],
         "matches": "y2",
         "showgrid": false,
         "showline": false,
         "showticklabels": false,
         "ticks": ""
        }
       }
      }
     },
     "metadata": {},
     "output_type": "display_data"
    }
   ],
   "source": [
    "#'INCOME', 'SAVINGS', 'DEBT'\n",
    "fig1=px.histogram(data,x=\"SAVINGS\",nbins=20,title=\"Distribution of Saving \",\n",
    "                 labels={\"SAVINGS\":\"savings\",\"count\":\"count\"},\n",
    "                 color_discrete_sequence=[\"green\"],\n",
    "                 marginal=\"box\",template=\"plotly_white\")\n",
    "\n",
    "\n",
    "fig1.update_layout(\n",
    "    xaxis_title=\"saving\",\n",
    "    yaxis_title=\"Total Count\",\n",
    "    title_x=0.5,   # title center\n",
    "    font=dict(size=14) \n",
    ")\n",
    "\n",
    "\n",
    "fig1.show()"
   ]
  },
  {
   "cell_type": "code",
   "execution_count": 56,
   "id": "3fdabd75",
   "metadata": {},
   "outputs": [
    {
     "data": {
      "application/vnd.plotly.v1+json": {
       "config": {
        "plotlyServerURL": "https://plot.ly"
       },
       "data": [
        {
         "bingroup": "x",
         "hovertemplate": "savings=%{x}<br>count=%{y}<extra></extra>",
         "legendgroup": "",
         "marker": {
          "color": "red",
          "pattern": {
           "shape": ""
          }
         },
         "name": "",
         "nbinsx": 20,
         "orientation": "v",
         "showlegend": false,
         "type": "histogram",
         "x": {
          "bdata": "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",
          "dtype": "i4"
         },
         "xaxis": "x",
         "yaxis": "y"
        },
        {
         "hovertemplate": "savings=%{x}<extra></extra>",
         "legendgroup": "",
         "marker": {
          "color": "red"
         },
         "name": "",
         "notched": true,
         "showlegend": false,
         "type": "box",
         "x": {
          "bdata": "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",
          "dtype": "i4"
         },
         "xaxis": "x2",
         "yaxis": "y2"
        }
       ],
       "layout": {
        "barmode": "relative",
        "font": {
         "size": 14
        },
        "legend": {
         "tracegroupgap": 0
        },
        "template": {
         "data": {
          "bar": [
           {
            "error_x": {
             "color": "#2a3f5f"
            },
            "error_y": {
             "color": "#2a3f5f"
            },
            "marker": {
             "line": {
              "color": "white",
              "width": 0.5
             },
             "pattern": {
              "fillmode": "overlay",
              "size": 10,
              "solidity": 0.2
             }
            },
            "type": "bar"
           }
          ],
          "barpolar": [
           {
            "marker": {
             "line": {
              "color": "white",
              "width": 0.5
             },
             "pattern": {
              "fillmode": "overlay",
              "size": 10,
              "solidity": 0.2
             }
            },
            "type": "barpolar"
           }
          ],
          "carpet": [
           {
            "aaxis": {
             "endlinecolor": "#2a3f5f",
             "gridcolor": "#C8D4E3",
             "linecolor": "#C8D4E3",
             "minorgridcolor": "#C8D4E3",
             "startlinecolor": "#2a3f5f"
            },
            "baxis": {
             "endlinecolor": "#2a3f5f",
             "gridcolor": "#C8D4E3",
             "linecolor": "#C8D4E3",
             "minorgridcolor": "#C8D4E3",
             "startlinecolor": "#2a3f5f"
            },
            "type": "carpet"
           }
          ],
          "choropleth": [
           {
            "colorbar": {
             "outlinewidth": 0,
             "ticks": ""
            },
            "type": "choropleth"
           }
          ],
          "contour": [
           {
            "colorbar": {
             "outlinewidth": 0,
             "ticks": ""
            },
            "colorscale": [
             [
              0,
              "#0d0887"
             ],
             [
              0.1111111111111111,
              "#46039f"
             ],
             [
              0.2222222222222222,
              "#7201a8"
             ],
             [
              0.3333333333333333,
              "#9c179e"
             ],
             [
              0.4444444444444444,
              "#bd3786"
             ],
             [
              0.5555555555555556,
              "#d8576b"
             ],
             [
              0.6666666666666666,
              "#ed7953"
             ],
             [
              0.7777777777777778,
              "#fb9f3a"
             ],
             [
              0.8888888888888888,
              "#fdca26"
             ],
             [
              1,
              "#f0f921"
             ]
            ],
            "type": "contour"
           }
          ],
          "contourcarpet": [
           {
            "colorbar": {
             "outlinewidth": 0,
             "ticks": ""
            },
            "type": "contourcarpet"
           }
          ],
          "heatmap": [
           {
            "colorbar": {
             "outlinewidth": 0,
             "ticks": ""
            },
            "colorscale": [
             [
              0,
              "#0d0887"
             ],
             [
              0.1111111111111111,
              "#46039f"
             ],
             [
              0.2222222222222222,
              "#7201a8"
             ],
             [
              0.3333333333333333,
              "#9c179e"
             ],
             [
              0.4444444444444444,
              "#bd3786"
             ],
             [
              0.5555555555555556,
              "#d8576b"
             ],
             [
              0.6666666666666666,
              "#ed7953"
             ],
             [
              0.7777777777777778,
              "#fb9f3a"
             ],
             [
              0.8888888888888888,
              "#fdca26"
             ],
             [
              1,
              "#f0f921"
             ]
            ],
            "type": "heatmap"
           }
          ],
          "histogram": [
           {
            "marker": {
             "pattern": {
              "fillmode": "overlay",
              "size": 10,
              "solidity": 0.2
             }
            },
            "type": "histogram"
           }
          ],
          "histogram2d": [
           {
            "colorbar": {
             "outlinewidth": 0,
             "ticks": ""
            },
            "colorscale": [
             [
              0,
              "#0d0887"
             ],
             [
              0.1111111111111111,
              "#46039f"
             ],
             [
              0.2222222222222222,
              "#7201a8"
             ],
             [
              0.3333333333333333,
              "#9c179e"
             ],
             [
              0.4444444444444444,
              "#bd3786"
             ],
             [
              0.5555555555555556,
              "#d8576b"
             ],
             [
              0.6666666666666666,
              "#ed7953"
             ],
             [
              0.7777777777777778,
              "#fb9f3a"
             ],
             [
              0.8888888888888888,
              "#fdca26"
             ],
             [
              1,
              "#f0f921"
             ]
            ],
            "type": "histogram2d"
           }
          ],
          "histogram2dcontour": [
           {
            "colorbar": {
             "outlinewidth": 0,
             "ticks": ""
            },
            "colorscale": [
             [
              0,
              "#0d0887"
             ],
             [
              0.1111111111111111,
              "#46039f"
             ],
             [
              0.2222222222222222,
              "#7201a8"
             ],
             [
              0.3333333333333333,
              "#9c179e"
             ],
             [
              0.4444444444444444,
              "#bd3786"
             ],
             [
              0.5555555555555556,
              "#d8576b"
             ],
             [
              0.6666666666666666,
              "#ed7953"
             ],
             [
              0.7777777777777778,
              "#fb9f3a"
             ],
             [
              0.8888888888888888,
              "#fdca26"
             ],
             [
              1,
              "#f0f921"
             ]
            ],
            "type": "histogram2dcontour"
           }
          ],
          "mesh3d": [
           {
            "colorbar": {
             "outlinewidth": 0,
             "ticks": ""
            },
            "type": "mesh3d"
           }
          ],
          "parcoords": [
           {
            "line": {
             "colorbar": {
              "outlinewidth": 0,
              "ticks": ""
             }
            },
            "type": "parcoords"
           }
          ],
          "pie": [
           {
            "automargin": true,
            "type": "pie"
           }
          ],
          "scatter": [
           {
            "fillpattern": {
             "fillmode": "overlay",
             "size": 10,
             "solidity": 0.2
            },
            "type": "scatter"
           }
          ],
          "scatter3d": [
           {
            "line": {
             "colorbar": {
              "outlinewidth": 0,
              "ticks": ""
             }
            },
            "marker": {
             "colorbar": {
              "outlinewidth": 0,
              "ticks": ""
             }
            },
            "type": "scatter3d"
           }
          ],
          "scattercarpet": [
           {
            "marker": {
             "colorbar": {
              "outlinewidth": 0,
              "ticks": ""
             }
            },
            "type": "scattercarpet"
           }
          ],
          "scattergeo": [
           {
            "marker": {
             "colorbar": {
              "outlinewidth": 0,
              "ticks": ""
             }
            },
            "type": "scattergeo"
           }
          ],
          "scattergl": [
           {
            "marker": {
             "colorbar": {
              "outlinewidth": 0,
              "ticks": ""
             }
            },
            "type": "scattergl"
           }
          ],
          "scattermap": [
           {
            "marker": {
             "colorbar": {
              "outlinewidth": 0,
              "ticks": ""
             }
            },
            "type": "scattermap"
           }
          ],
          "scattermapbox": [
           {
            "marker": {
             "colorbar": {
              "outlinewidth": 0,
              "ticks": ""
             }
            },
            "type": "scattermapbox"
           }
          ],
          "scatterpolar": [
           {
            "marker": {
             "colorbar": {
              "outlinewidth": 0,
              "ticks": ""
             }
            },
            "type": "scatterpolar"
           }
          ],
          "scatterpolargl": [
           {
            "marker": {
             "colorbar": {
              "outlinewidth": 0,
              "ticks": ""
             }
            },
            "type": "scatterpolargl"
           }
          ],
          "scatterternary": [
           {
            "marker": {
             "colorbar": {
              "outlinewidth": 0,
              "ticks": ""
             }
            },
            "type": "scatterternary"
           }
          ],
          "surface": [
           {
            "colorbar": {
             "outlinewidth": 0,
             "ticks": ""
            },
            "colorscale": [
             [
              0,
              "#0d0887"
             ],
             [
              0.1111111111111111,
              "#46039f"
             ],
             [
              0.2222222222222222,
              "#7201a8"
             ],
             [
              0.3333333333333333,
              "#9c179e"
             ],
             [
              0.4444444444444444,
              "#bd3786"
             ],
             [
              0.5555555555555556,
              "#d8576b"
             ],
             [
              0.6666666666666666,
              "#ed7953"
             ],
             [
              0.7777777777777778,
              "#fb9f3a"
             ],
             [
              0.8888888888888888,
              "#fdca26"
             ],
             [
              1,
              "#f0f921"
             ]
            ],
            "type": "surface"
           }
          ],
          "table": [
           {
            "cells": {
             "fill": {
              "color": "#EBF0F8"
             },
             "line": {
              "color": "white"
             }
            },
            "header": {
             "fill": {
              "color": "#C8D4E3"
             },
             "line": {
              "color": "white"
             }
            },
            "type": "table"
           }
          ]
         },
         "layout": {
          "annotationdefaults": {
           "arrowcolor": "#2a3f5f",
           "arrowhead": 0,
           "arrowwidth": 1
          },
          "autotypenumbers": "strict",
          "coloraxis": {
           "colorbar": {
            "outlinewidth": 0,
            "ticks": ""
           }
          },
          "colorscale": {
           "diverging": [
            [
             0,
             "#8e0152"
            ],
            [
             0.1,
             "#c51b7d"
            ],
            [
             0.2,
             "#de77ae"
            ],
            [
             0.3,
             "#f1b6da"
            ],
            [
             0.4,
             "#fde0ef"
            ],
            [
             0.5,
             "#f7f7f7"
            ],
            [
             0.6,
             "#e6f5d0"
            ],
            [
             0.7,
             "#b8e186"
            ],
            [
             0.8,
             "#7fbc41"
            ],
            [
             0.9,
             "#4d9221"
            ],
            [
             1,
             "#276419"
            ]
           ],
           "sequential": [
            [
             0,
             "#0d0887"
            ],
            [
             0.1111111111111111,
             "#46039f"
            ],
            [
             0.2222222222222222,
             "#7201a8"
            ],
            [
             0.3333333333333333,
             "#9c179e"
            ],
            [
             0.4444444444444444,
             "#bd3786"
            ],
            [
             0.5555555555555556,
             "#d8576b"
            ],
            [
             0.6666666666666666,
             "#ed7953"
            ],
            [
             0.7777777777777778,
             "#fb9f3a"
            ],
            [
             0.8888888888888888,
             "#fdca26"
            ],
            [
             1,
             "#f0f921"
            ]
           ],
           "sequentialminus": [
            [
             0,
             "#0d0887"
            ],
            [
             0.1111111111111111,
             "#46039f"
            ],
            [
             0.2222222222222222,
             "#7201a8"
            ],
            [
             0.3333333333333333,
             "#9c179e"
            ],
            [
             0.4444444444444444,
             "#bd3786"
            ],
            [
             0.5555555555555556,
             "#d8576b"
            ],
            [
             0.6666666666666666,
             "#ed7953"
            ],
            [
             0.7777777777777778,
             "#fb9f3a"
            ],
            [
             0.8888888888888888,
             "#fdca26"
            ],
            [
             1,
             "#f0f921"
            ]
           ]
          },
          "colorway": [
           "#636efa",
           "#EF553B",
           "#00cc96",
           "#ab63fa",
           "#FFA15A",
           "#19d3f3",
           "#FF6692",
           "#B6E880",
           "#FF97FF",
           "#FECB52"
          ],
          "font": {
           "color": "#2a3f5f"
          },
          "geo": {
           "bgcolor": "white",
           "lakecolor": "white",
           "landcolor": "white",
           "showlakes": true,
           "showland": true,
           "subunitcolor": "#C8D4E3"
          },
          "hoverlabel": {
           "align": "left"
          },
          "hovermode": "closest",
          "mapbox": {
           "style": "light"
          },
          "paper_bgcolor": "white",
          "plot_bgcolor": "white",
          "polar": {
           "angularaxis": {
            "gridcolor": "#EBF0F8",
            "linecolor": "#EBF0F8",
            "ticks": ""
           },
           "bgcolor": "white",
           "radialaxis": {
            "gridcolor": "#EBF0F8",
            "linecolor": "#EBF0F8",
            "ticks": ""
           }
          },
          "scene": {
           "xaxis": {
            "backgroundcolor": "white",
            "gridcolor": "#DFE8F3",
            "gridwidth": 2,
            "linecolor": "#EBF0F8",
            "showbackground": true,
            "ticks": "",
            "zerolinecolor": "#EBF0F8"
           },
           "yaxis": {
            "backgroundcolor": "white",
            "gridcolor": "#DFE8F3",
            "gridwidth": 2,
            "linecolor": "#EBF0F8",
            "showbackground": true,
            "ticks": "",
            "zerolinecolor": "#EBF0F8"
           },
           "zaxis": {
            "backgroundcolor": "white",
            "gridcolor": "#DFE8F3",
            "gridwidth": 2,
            "linecolor": "#EBF0F8",
            "showbackground": true,
            "ticks": "",
            "zerolinecolor": "#EBF0F8"
           }
          },
          "shapedefaults": {
           "line": {
            "color": "#2a3f5f"
           }
          },
          "ternary": {
           "aaxis": {
            "gridcolor": "#DFE8F3",
            "linecolor": "#A2B1C6",
            "ticks": ""
           },
           "baxis": {
            "gridcolor": "#DFE8F3",
            "linecolor": "#A2B1C6",
            "ticks": ""
           },
           "bgcolor": "white",
           "caxis": {
            "gridcolor": "#DFE8F3",
            "linecolor": "#A2B1C6",
            "ticks": ""
           }
          },
          "title": {
           "x": 0.05
          },
          "xaxis": {
           "automargin": true,
           "gridcolor": "#EBF0F8",
           "linecolor": "#EBF0F8",
           "ticks": "",
           "title": {
            "standoff": 15
           },
           "zerolinecolor": "#EBF0F8",
           "zerolinewidth": 2
          },
          "yaxis": {
           "automargin": true,
           "gridcolor": "#EBF0F8",
           "linecolor": "#EBF0F8",
           "ticks": "",
           "title": {
            "standoff": 15
           },
           "zerolinecolor": "#EBF0F8",
           "zerolinewidth": 2
          }
         }
        },
        "title": {
         "text": "Distribution of Saving ",
         "x": 0.5
        },
        "xaxis": {
         "anchor": "y",
         "domain": [
          0,
          1
         ],
         "title": {
          "text": "Debt"
         }
        },
        "xaxis2": {
         "anchor": "y2",
         "domain": [
          0,
          1
         ],
         "matches": "x",
         "showgrid": true,
         "showticklabels": false
        },
        "yaxis": {
         "anchor": "x",
         "domain": [
          0,
          0.8316
         ],
         "title": {
          "text": "Total Count"
         }
        },
        "yaxis2": {
         "anchor": "x2",
         "domain": [
          0.8416,
          1
         ],
         "matches": "y2",
         "showgrid": false,
         "showline": false,
         "showticklabels": false,
         "ticks": ""
        }
       }
      }
     },
     "metadata": {},
     "output_type": "display_data"
    }
   ],
   "source": [
    "#'INCOME', 'SAVINGS', 'DEBT'\n",
    "fig1=px.histogram(data,x=\"DEBT\",nbins=20,title=\"Distribution of Saving \",\n",
    "                 labels={\"DEBT\":\"savings\",\"count\":\"count\"},\n",
    "                 color_discrete_sequence=[\"red\"],\n",
    "                 marginal=\"box\",template=\"plotly_white\")\n",
    "\n",
    "\n",
    "fig1.update_layout(\n",
    "    xaxis_title=\"Debt\",\n",
    "    yaxis_title=\"Total Count\",\n",
    "    title_x=0.5,   # title center\n",
    "    font=dict(size=14) \n",
    ")\n",
    "\n",
    "\n",
    "fig1.show()"
   ]
  },
  {
   "cell_type": "markdown",
   "id": "c3cade3c",
   "metadata": {},
   "source": [
    "### Insight from Histograms\n",
    "1. There are outliers in these  three historam that should be handle for better results\n",
    "2. people having high Income have high amount of  savings\n",
    "3. it also indicate that there are many people not having high pay may be not having high credit score ."
   ]
  },
  {
   "cell_type": "markdown",
   "id": "c7661704",
   "metadata": {},
   "source": [
    "### Scatter Plot\n",
    "we want to see the relationship beteen ratios of income saving  and dept\n",
    "'R_SAVINGS_INCOME', 'R_DEBT_INCOME', 'R_DEBT_SAVINGS'\n"
   ]
  },
  {
   "cell_type": "code",
   "execution_count": 63,
   "id": "ea95ee59",
   "metadata": {},
   "outputs": [
    {
     "data": {
      "application/vnd.plotly.v1+json": {
       "config": {
        "plotlyServerURL": "https://plot.ly"
       },
       "data": [
        {
         "hovertemplate": "DEFAULT=1<br>Ratio of saving to income=%{x}<br>Ration of Debt to income=%{y}<extra></extra>",
         "legendgroup": "1",
         "marker": {
          "color": "#636efa",
          "symbol": "circle"
         },
         "mode": "markers",
         "name": "1",
         "orientation": "v",
         "showlegend": true,
         "type": "scatter",
         "x": {
          "bdata": "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",
          "dtype": "f8"
         },
         "xaxis": "x",
         "y": {
          "bdata": "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",
          "dtype": "f8"
         },
         "yaxis": "y"
        },
        {
         "hovertemplate": "DEFAULT=0<br>Ratio of saving to income=%{x}<br>Ration of Debt to income=%{y}<extra></extra>",
         "legendgroup": "0",
         "marker": {
          "color": "#EF553B",
          "symbol": "circle"
         },
         "mode": "markers",
         "name": "0",
         "orientation": "v",
         "showlegend": true,
         "type": "scatter",
         "x": {
          "bdata": "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",
          "dtype": "f8"
         },
         "xaxis": "x",
         "y": {
          "bdata": "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",
          "dtype": "f8"
         },
         "yaxis": "y"
        }
       ],
       "layout": {
        "font": {
         "size": 13
        },
        "legend": {
         "title": {
          "text": "DEFAULT"
         },
         "tracegroupgap": 0
        },
        "template": {
         "data": {
          "bar": [
           {
            "error_x": {
             "color": "#2a3f5f"
            },
            "error_y": {
             "color": "#2a3f5f"
            },
            "marker": {
             "line": {
              "color": "white",
              "width": 0.5
             },
             "pattern": {
              "fillmode": "overlay",
              "size": 10,
              "solidity": 0.2
             }
            },
            "type": "bar"
           }
          ],
          "barpolar": [
           {
            "marker": {
             "line": {
              "color": "white",
              "width": 0.5
             },
             "pattern": {
              "fillmode": "overlay",
              "size": 10,
              "solidity": 0.2
             }
            },
            "type": "barpolar"
           }
          ],
          "carpet": [
           {
            "aaxis": {
             "endlinecolor": "#2a3f5f",
             "gridcolor": "#C8D4E3",
             "linecolor": "#C8D4E3",
             "minorgridcolor": "#C8D4E3",
             "startlinecolor": "#2a3f5f"
            },
            "baxis": {
             "endlinecolor": "#2a3f5f",
             "gridcolor": "#C8D4E3",
             "linecolor": "#C8D4E3",
             "minorgridcolor": "#C8D4E3",
             "startlinecolor": "#2a3f5f"
            },
            "type": "carpet"
           }
          ],
          "choropleth": [
           {
            "colorbar": {
             "outlinewidth": 0,
             "ticks": ""
            },
            "type": "choropleth"
           }
          ],
          "contour": [
           {
            "colorbar": {
             "outlinewidth": 0,
             "ticks": ""
            },
            "colorscale": [
             [
              0,
              "#0d0887"
             ],
             [
              0.1111111111111111,
              "#46039f"
             ],
             [
              0.2222222222222222,
              "#7201a8"
             ],
             [
              0.3333333333333333,
              "#9c179e"
             ],
             [
              0.4444444444444444,
              "#bd3786"
             ],
             [
              0.5555555555555556,
              "#d8576b"
             ],
             [
              0.6666666666666666,
              "#ed7953"
             ],
             [
              0.7777777777777778,
              "#fb9f3a"
             ],
             [
              0.8888888888888888,
              "#fdca26"
             ],
             [
              1,
              "#f0f921"
             ]
            ],
            "type": "contour"
           }
          ],
          "contourcarpet": [
           {
            "colorbar": {
             "outlinewidth": 0,
             "ticks": ""
            },
            "type": "contourcarpet"
           }
          ],
          "heatmap": [
           {
            "colorbar": {
             "outlinewidth": 0,
             "ticks": ""
            },
            "colorscale": [
             [
              0,
              "#0d0887"
             ],
             [
              0.1111111111111111,
              "#46039f"
             ],
             [
              0.2222222222222222,
              "#7201a8"
             ],
             [
              0.3333333333333333,
              "#9c179e"
             ],
             [
              0.4444444444444444,
              "#bd3786"
             ],
             [
              0.5555555555555556,
              "#d8576b"
             ],
             [
              0.6666666666666666,
              "#ed7953"
             ],
             [
              0.7777777777777778,
              "#fb9f3a"
             ],
             [
              0.8888888888888888,
              "#fdca26"
             ],
             [
              1,
              "#f0f921"
             ]
            ],
            "type": "heatmap"
           }
          ],
          "histogram": [
           {
            "marker": {
             "pattern": {
              "fillmode": "overlay",
              "size": 10,
              "solidity": 0.2
             }
            },
            "type": "histogram"
           }
          ],
          "histogram2d": [
           {
            "colorbar": {
             "outlinewidth": 0,
             "ticks": ""
            },
            "colorscale": [
             [
              0,
              "#0d0887"
             ],
             [
              0.1111111111111111,
              "#46039f"
             ],
             [
              0.2222222222222222,
              "#7201a8"
             ],
             [
              0.3333333333333333,
              "#9c179e"
             ],
             [
              0.4444444444444444,
              "#bd3786"
             ],
             [
              0.5555555555555556,
              "#d8576b"
             ],
             [
              0.6666666666666666,
              "#ed7953"
             ],
             [
              0.7777777777777778,
              "#fb9f3a"
             ],
             [
              0.8888888888888888,
              "#fdca26"
             ],
             [
              1,
              "#f0f921"
             ]
            ],
            "type": "histogram2d"
           }
          ],
          "histogram2dcontour": [
           {
            "colorbar": {
             "outlinewidth": 0,
             "ticks": ""
            },
            "colorscale": [
             [
              0,
              "#0d0887"
             ],
             [
              0.1111111111111111,
              "#46039f"
             ],
             [
              0.2222222222222222,
              "#7201a8"
             ],
             [
              0.3333333333333333,
              "#9c179e"
             ],
             [
              0.4444444444444444,
              "#bd3786"
             ],
             [
              0.5555555555555556,
              "#d8576b"
             ],
             [
              0.6666666666666666,
              "#ed7953"
             ],
             [
              0.7777777777777778,
              "#fb9f3a"
             ],
             [
              0.8888888888888888,
              "#fdca26"
             ],
             [
              1,
              "#f0f921"
             ]
            ],
            "type": "histogram2dcontour"
           }
          ],
          "mesh3d": [
           {
            "colorbar": {
             "outlinewidth": 0,
             "ticks": ""
            },
            "type": "mesh3d"
           }
          ],
          "parcoords": [
           {
            "line": {
             "colorbar": {
              "outlinewidth": 0,
              "ticks": ""
             }
            },
            "type": "parcoords"
           }
          ],
          "pie": [
           {
            "automargin": true,
            "type": "pie"
           }
          ],
          "scatter": [
           {
            "fillpattern": {
             "fillmode": "overlay",
             "size": 10,
             "solidity": 0.2
            },
            "type": "scatter"
           }
          ],
          "scatter3d": [
           {
            "line": {
             "colorbar": {
              "outlinewidth": 0,
              "ticks": ""
             }
            },
            "marker": {
             "colorbar": {
              "outlinewidth": 0,
              "ticks": ""
             }
            },
            "type": "scatter3d"
           }
          ],
          "scattercarpet": [
           {
            "marker": {
             "colorbar": {
              "outlinewidth": 0,
              "ticks": ""
             }
            },
            "type": "scattercarpet"
           }
          ],
          "scattergeo": [
           {
            "marker": {
             "colorbar": {
              "outlinewidth": 0,
              "ticks": ""
             }
            },
            "type": "scattergeo"
           }
          ],
          "scattergl": [
           {
            "marker": {
             "colorbar": {
              "outlinewidth": 0,
              "ticks": ""
             }
            },
            "type": "scattergl"
           }
          ],
          "scattermap": [
           {
            "marker": {
             "colorbar": {
              "outlinewidth": 0,
              "ticks": ""
             }
            },
            "type": "scattermap"
           }
          ],
          "scattermapbox": [
           {
            "marker": {
             "colorbar": {
              "outlinewidth": 0,
              "ticks": ""
             }
            },
            "type": "scattermapbox"
           }
          ],
          "scatterpolar": [
           {
            "marker": {
             "colorbar": {
              "outlinewidth": 0,
              "ticks": ""
             }
            },
            "type": "scatterpolar"
           }
          ],
          "scatterpolargl": [
           {
            "marker": {
             "colorbar": {
              "outlinewidth": 0,
              "ticks": ""
             }
            },
            "type": "scatterpolargl"
           }
          ],
          "scatterternary": [
           {
            "marker": {
             "colorbar": {
              "outlinewidth": 0,
              "ticks": ""
             }
            },
            "type": "scatterternary"
           }
          ],
          "surface": [
           {
            "colorbar": {
             "outlinewidth": 0,
             "ticks": ""
            },
            "colorscale": [
             [
              0,
              "#0d0887"
             ],
             [
              0.1111111111111111,
              "#46039f"
             ],
             [
              0.2222222222222222,
              "#7201a8"
             ],
             [
              0.3333333333333333,
              "#9c179e"
             ],
             [
              0.4444444444444444,
              "#bd3786"
             ],
             [
              0.5555555555555556,
              "#d8576b"
             ],
             [
              0.6666666666666666,
              "#ed7953"
             ],
             [
              0.7777777777777778,
              "#fb9f3a"
             ],
             [
              0.8888888888888888,
              "#fdca26"
             ],
             [
              1,
              "#f0f921"
             ]
            ],
            "type": "surface"
           }
          ],
          "table": [
           {
            "cells": {
             "fill": {
              "color": "#EBF0F8"
             },
             "line": {
              "color": "white"
             }
            },
            "header": {
             "fill": {
              "color": "#C8D4E3"
             },
             "line": {
              "color": "white"
             }
            },
            "type": "table"
           }
          ]
         },
         "layout": {
          "annotationdefaults": {
           "arrowcolor": "#2a3f5f",
           "arrowhead": 0,
           "arrowwidth": 1
          },
          "autotypenumbers": "strict",
          "coloraxis": {
           "colorbar": {
            "outlinewidth": 0,
            "ticks": ""
           }
          },
          "colorscale": {
           "diverging": [
            [
             0,
             "#8e0152"
            ],
            [
             0.1,
             "#c51b7d"
            ],
            [
             0.2,
             "#de77ae"
            ],
            [
             0.3,
             "#f1b6da"
            ],
            [
             0.4,
             "#fde0ef"
            ],
            [
             0.5,
             "#f7f7f7"
            ],
            [
             0.6,
             "#e6f5d0"
            ],
            [
             0.7,
             "#b8e186"
            ],
            [
             0.8,
             "#7fbc41"
            ],
            [
             0.9,
             "#4d9221"
            ],
            [
             1,
             "#276419"
            ]
           ],
           "sequential": [
            [
             0,
             "#0d0887"
            ],
            [
             0.1111111111111111,
             "#46039f"
            ],
            [
             0.2222222222222222,
             "#7201a8"
            ],
            [
             0.3333333333333333,
             "#9c179e"
            ],
            [
             0.4444444444444444,
             "#bd3786"
            ],
            [
             0.5555555555555556,
             "#d8576b"
            ],
            [
             0.6666666666666666,
             "#ed7953"
            ],
            [
             0.7777777777777778,
             "#fb9f3a"
            ],
            [
             0.8888888888888888,
             "#fdca26"
            ],
            [
             1,
             "#f0f921"
            ]
           ],
           "sequentialminus": [
            [
             0,
             "#0d0887"
            ],
            [
             0.1111111111111111,
             "#46039f"
            ],
            [
             0.2222222222222222,
             "#7201a8"
            ],
            [
             0.3333333333333333,
             "#9c179e"
            ],
            [
             0.4444444444444444,
             "#bd3786"
            ],
            [
             0.5555555555555556,
             "#d8576b"
            ],
            [
             0.6666666666666666,
             "#ed7953"
            ],
            [
             0.7777777777777778,
             "#fb9f3a"
            ],
            [
             0.8888888888888888,
             "#fdca26"
            ],
            [
             1,
             "#f0f921"
            ]
           ]
          },
          "colorway": [
           "#636efa",
           "#EF553B",
           "#00cc96",
           "#ab63fa",
           "#FFA15A",
           "#19d3f3",
           "#FF6692",
           "#B6E880",
           "#FF97FF",
           "#FECB52"
          ],
          "font": {
           "color": "#2a3f5f"
          },
          "geo": {
           "bgcolor": "white",
           "lakecolor": "white",
           "landcolor": "white",
           "showlakes": true,
           "showland": true,
           "subunitcolor": "#C8D4E3"
          },
          "hoverlabel": {
           "align": "left"
          },
          "hovermode": "closest",
          "mapbox": {
           "style": "light"
          },
          "paper_bgcolor": "white",
          "plot_bgcolor": "white",
          "polar": {
           "angularaxis": {
            "gridcolor": "#EBF0F8",
            "linecolor": "#EBF0F8",
            "ticks": ""
           },
           "bgcolor": "white",
           "radialaxis": {
            "gridcolor": "#EBF0F8",
            "linecolor": "#EBF0F8",
            "ticks": ""
           }
          },
          "scene": {
           "xaxis": {
            "backgroundcolor": "white",
            "gridcolor": "#DFE8F3",
            "gridwidth": 2,
            "linecolor": "#EBF0F8",
            "showbackground": true,
            "ticks": "",
            "zerolinecolor": "#EBF0F8"
           },
           "yaxis": {
            "backgroundcolor": "white",
            "gridcolor": "#DFE8F3",
            "gridwidth": 2,
            "linecolor": "#EBF0F8",
            "showbackground": true,
            "ticks": "",
            "zerolinecolor": "#EBF0F8"
           },
           "zaxis": {
            "backgroundcolor": "white",
            "gridcolor": "#DFE8F3",
            "gridwidth": 2,
            "linecolor": "#EBF0F8",
            "showbackground": true,
            "ticks": "",
            "zerolinecolor": "#EBF0F8"
           }
          },
          "shapedefaults": {
           "line": {
            "color": "#2a3f5f"
           }
          },
          "ternary": {
           "aaxis": {
            "gridcolor": "#DFE8F3",
            "linecolor": "#A2B1C6",
            "ticks": ""
           },
           "baxis": {
            "gridcolor": "#DFE8F3",
            "linecolor": "#A2B1C6",
            "ticks": ""
           },
           "bgcolor": "white",
           "caxis": {
            "gridcolor": "#DFE8F3",
            "linecolor": "#A2B1C6",
            "ticks": ""
           }
          },
          "title": {
           "x": 0.05
          },
          "xaxis": {
           "automargin": true,
           "gridcolor": "#EBF0F8",
           "linecolor": "#EBF0F8",
           "ticks": "",
           "title": {
            "standoff": 15
           },
           "zerolinecolor": "#EBF0F8",
           "zerolinewidth": 2
          },
          "yaxis": {
           "automargin": true,
           "gridcolor": "#EBF0F8",
           "linecolor": "#EBF0F8",
           "ticks": "",
           "title": {
            "standoff": 15
           },
           "zerolinecolor": "#EBF0F8",
           "zerolinewidth": 2
          }
         }
        },
        "title": {
         "text": "Ratios of saving to income Vs debt to income",
         "x": 0.5
        },
        "xaxis": {
         "anchor": "y",
         "domain": [
          0,
          1
         ],
         "title": {
          "text": "R_SAVINGS_INCOME"
         }
        },
        "yaxis": {
         "anchor": "x",
         "domain": [
          0,
          1
         ],
         "title": {
          "text": "R_DEBT_INCOME"
         }
        }
       }
      }
     },
     "metadata": {},
     "output_type": "display_data"
    }
   ],
   "source": [
    "fig2=px.scatter(data,x=\"R_SAVINGS_INCOME\",y=\"R_DEBT_INCOME\",title=\"Ratios of saving to income Vs debt to income\",\n",
    "            labels={\"R_SAVINGS_INCOME\":\"Ratio of saving to income\",\"R_DEBT_INCOME\":\"Ration of Debt to income\"},\n",
    "            color=\"DEFAULT\",template=\"plotly_white\")\n",
    "fig2.update_layout(\n",
    "    xaxis_title=\"R_SAVINGS_INCOME\",\n",
    "    yaxis_title=\"R_DEBT_INCOME\",\n",
    "    title_x=0.5,   # title center\n",
    "    font=dict(size=13) \n",
    ")\n",
    "fig2.show()"
   ]
  },
  {
   "cell_type": "code",
   "execution_count": 65,
   "id": "74532927",
   "metadata": {},
   "outputs": [
    {
     "data": {
      "application/vnd.plotly.v1+json": {
       "config": {
        "plotlyServerURL": "https://plot.ly"
       },
       "data": [
        {
         "hovertemplate": "DEFAULT=1<br>Ratio of debt to income=%{x}<br>Ratio of Debt to saving=%{y}<extra></extra>",
         "legendgroup": "1",
         "marker": {
          "color": "#636efa",
          "symbol": "circle"
         },
         "mode": "markers",
         "name": "1",
         "orientation": "v",
         "showlegend": true,
         "type": "scatter",
         "x": {
          "bdata": "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",
          "dtype": "f8"
         },
         "xaxis": "x",
         "y": {
          "bdata": "MzMzMzMz8z+fzarP1bY4QAn5oGezqiBATmIQWDm0uD/5MeauJWQJQBsv3SQGgbU/mpmZmZmZ6T8tsp3vp8bDPw+cM6K0N7g/j1N0JJf/D0BlqmBUUicKQJEPejarPhBA8x/Sb18HDUAzMzMzMzPzP/cGX5hM1RZAm+Ydp+hI0j9LWYY41kUJQERpb/CFCRFAAAAAAAAAAADjpZvEIIA4QKMjufyH9Ms/AAAAAAAAAECNl24Sg8DKP7U3+MJkqghAsb/snjws7j9LWYY41sW9PwTnjCjtTSFAAAAAAAAAAEAN4C2QoPj6P4V80LNZ9d0/dnEbDeBtF0DdtYR80PMUQAAAAAAAAABAAAAAAAAAAEBxrIvbaADrP/Xb14FzRrQ//Bhz1xKaTUDtDb4wmaoMQBPyQc9mVQVAoyO5/IdgW0D3Bl+YTFUlQBzr4jYagChAI0p7gy9MCUAFo5I6AcFfQKvP1VbsL7s/JCh+jLlrAEAAAAAAAKBZQLivA+eMKL0/taZ5xym6CEApXI/C9SgQQHQkl/+QtkJATtGRXP5Duj/1SlmGONb0P9lfdk8e5ktAejarPlfbAEAKaCJseHq1P7Hh6ZWyDKE/9ihcj8L1wD8AAAAAAAAAAKpgVFInoEFADwu1pnlHDECMSuoENBG2P9obfGEyVfU/mpmZmZmZAUDlYaHWNG8KQGb35GGhIGNA3NeBc0aU0j8tQxzr4rYfQDBMpgpGJfo/YhBYObToIEBq3nGKjiQbQAAAAAAAAAAAAAAAAAAAEEC4HoXrUbjOP8uhRbbz/R9AyxDHurhtPkDmP6Tfvo4GQM6qz9VW7ARAZF3cRgN46T+mm8QgsHIGQAAAAAAAAO4/8WPMXUvI8T+Hp1fKMkQEQDy9UpYhjgdAejarPlfbDkAAAAAAAAAWQA+cM6K0NwVAg1FJnYAmyj9aZDvfT40IQAAAAAAAAPw/T6+UZYjjEECRD3o2q6pSQL99HThnRAxAzczMzMzMAkDTvOMUHUkQQBpR2ht8AT5AMzMzMzMzFkAAAAAAAAAAAM3MzMzMzP4/6gQ0ETY8BECxUGuad5zeP4/k8h/SXz9AC7Wmeccp+z9vEoPAymEQQBB6Nqs+FyFA4umVsgxx3D+GyVTBqCQLQGKh1jTvOABAUiegibDh8T+4HoXrUbj+P799HThnhBFAAd4CCYp/OUDtDb4wmaoGQAAAAAAAAPA/Vp+rrdi/TUAAAAAAAAACQFOWIY518QFAnDOitDf4sj+amZmZmZk7QDAqqRPQRLg/1XjpJjEI8T9I4XoUrkfxP4y5awn5IARAFvvL7snDC0BLWYY41kUJQKmkTkATYQFAzczMzMzMGEAzMzMzMzMwQAAAAAAAgE9AAAAAAACACkDVCWgibHi6PwAAAAAAYDtAJLn8h/Tbtz8gQfFjzN0BQAAAAAAAQBVAObTIdr5/NUDhC5OpgtEJQBPyQc9mVQJAnRGlvcEX+j8yVTAqqRMPQAAAAAAAAA1Aak3zjlN0EUCamZmZmZkPQDJVMCqpExdAcM6I0t6ATUBVMCqpEwA1QKfoSC7/oQFAAAAAAAAAB0AwuycPC7ULQIC3QILix/A/JuSDns2q+j/mP6Tfvg68P+ELk6mC0RlAt9EA3gJJKEC/DpwzorT8P8NkqmBUkhZAAAAAAAAAAABL6gQ0ETa8PwAAAAAAgBBAXdxGA3gzS0BB8WPMXV9bQAAAAAAAAAAA5j+k3742QkD6fmq8dJPAPwAAAAAAAAAATDeJQWBVOkD99nXgnBEGQG3F/rJ78g5AlWWIY13ctj8AAAAAAAAAAJ7vp8ZLNwhA8fRKWYY44j9LWYY41kUXQFCNl24SgwZAvJaQD3o28j+amZmZmZnJPyJseHqlLPs/l/+Qfvs6+T+F61G4HoUXQCxlGeJYFwdAayv2l92T5z8LJCh+jJkhQFmGONbFbfM/6Ugu/yH9pj/YgXNGlPbyP2Kh1jTvOA5AukkMAiuH/j9NFYxK6sQWQMcpOpLL/wRAzczMzMzMEEBO0ZFc/kPzP9lfdk8eFvI/WKg1zTuOOEACK4cW2U4AQCxlGeJYFw1AjSjtDb4AM0AAkX77OvACQAAAAAAAAAAArkfhehSu8z+yLm6jAbz6Px/0bFZ9LhZAjLlrCfmgxz+mCkYldZI7QHKKjuTynxhAfGEyVTCqKkA51sVtNID6P4ts5/up8eQ/KH6MuWuJAkBYqDXNO44bQPyp8dJNYrA/AAAAAACAFUBhMlUwKoFOQJqZmZmZmUtA9wZfmExVG0BR2ht8YTKVP2ZmZmZmZjpAhA1Pr5TlDkDVeOkmMQi8P4Za07zjlABAoBov3SSGDUAAAAAAAIA9QAAAAAAAACpA+n5qvHST/T/NzMzMzMwcQO0NvjCZqiJAbxKDwMqhtT8AAAAAAAAAAPJBz2bVf0hA7MA5I0rbIkDvOEVHctVWQDQRNjy9Uvo/XdxGA3gLtD8AAAAAAAAJQAAAAAAAADNAAAAAAAAAAABL6gQ0ETbkP7FQa5p3HA9AIR/0bFbVQkA5RUdy+T87QMRCrWnecfw/AAAAAAAA8D8sZRniWBcNQAAAAAAAAAAA7C+7Jw8LCUBfKcsQx7oCQAAAAAAAAAAAi/1l9+ThBUB7FK5H4foCQN/gC5OpqkBAy6FFtvP9tD8AAAAAAAAeQBPyQc9mVSxAW7G/7J48vD9yio7k8r8kQJ/Nqs/VtiRADAIrhxZZCEDaG3xhMlX1P1g5tMh2vv0/mpmZmZmZD0AAAAAAAIAFQEoMAiuHlgZANBE2PL3SBkAsZRniWBf9P3L5D+m3r+s/OwFNhA1Pvz+xUGuadxwTQO0NvjCZKtA/lrIMcayL/j/swDkjSnsRQHZPHhZqTfk/S1mGONZFJUDEQq1p3nE1QAAAAAAAgBFAnu+nxksXKUAAAAAAAAAAALPqc7UVqzZAYTJVMCpJI0AAAAAAAAASQOjZrPpcbfo/AAAAAAAAIEBRa5p3nCIHQAAAAAAAABRAMlUwKqkT+z8J+aBns6oeQA==",
          "dtype": "f8"
         },
         "yaxis": "y"
        },
        {
         "hovertemplate": "DEFAULT=0<br>Ratio of debt to income=%{x}<br>Ratio of Debt to saving=%{y}<extra></extra>",
         "legendgroup": "0",
         "marker": {
          "color": "#EF553B",
          "symbol": "circle"
         },
         "mode": "markers",
         "name": "0",
         "orientation": "v",
         "showlegend": true,
         "type": "scatter",
         "x": {
          "bdata": "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",
          "dtype": "f8"
         },
         "xaxis": "x",
         "y": {
          "bdata": "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",
          "dtype": "f8"
         },
         "yaxis": "y"
        }
       ],
       "layout": {
        "font": {
         "size": 13
        },
        "legend": {
         "title": {
          "text": "DEFAULT"
         },
         "tracegroupgap": 0
        },
        "template": {
         "data": {
          "bar": [
           {
            "error_x": {
             "color": "#2a3f5f"
            },
            "error_y": {
             "color": "#2a3f5f"
            },
            "marker": {
             "line": {
              "color": "white",
              "width": 0.5
             },
             "pattern": {
              "fillmode": "overlay",
              "size": 10,
              "solidity": 0.2
             }
            },
            "type": "bar"
           }
          ],
          "barpolar": [
           {
            "marker": {
             "line": {
              "color": "white",
              "width": 0.5
             },
             "pattern": {
              "fillmode": "overlay",
              "size": 10,
              "solidity": 0.2
             }
            },
            "type": "barpolar"
           }
          ],
          "carpet": [
           {
            "aaxis": {
             "endlinecolor": "#2a3f5f",
             "gridcolor": "#C8D4E3",
             "linecolor": "#C8D4E3",
             "minorgridcolor": "#C8D4E3",
             "startlinecolor": "#2a3f5f"
            },
            "baxis": {
             "endlinecolor": "#2a3f5f",
             "gridcolor": "#C8D4E3",
             "linecolor": "#C8D4E3",
             "minorgridcolor": "#C8D4E3",
             "startlinecolor": "#2a3f5f"
            },
            "type": "carpet"
           }
          ],
          "choropleth": [
           {
            "colorbar": {
             "outlinewidth": 0,
             "ticks": ""
            },
            "type": "choropleth"
           }
          ],
          "contour": [
           {
            "colorbar": {
             "outlinewidth": 0,
             "ticks": ""
            },
            "colorscale": [
             [
              0,
              "#0d0887"
             ],
             [
              0.1111111111111111,
              "#46039f"
             ],
             [
              0.2222222222222222,
              "#7201a8"
             ],
             [
              0.3333333333333333,
              "#9c179e"
             ],
             [
              0.4444444444444444,
              "#bd3786"
             ],
             [
              0.5555555555555556,
              "#d8576b"
             ],
             [
              0.6666666666666666,
              "#ed7953"
             ],
             [
              0.7777777777777778,
              "#fb9f3a"
             ],
             [
              0.8888888888888888,
              "#fdca26"
             ],
             [
              1,
              "#f0f921"
             ]
            ],
            "type": "contour"
           }
          ],
          "contourcarpet": [
           {
            "colorbar": {
             "outlinewidth": 0,
             "ticks": ""
            },
            "type": "contourcarpet"
           }
          ],
          "heatmap": [
           {
            "colorbar": {
             "outlinewidth": 0,
             "ticks": ""
            },
            "colorscale": [
             [
              0,
              "#0d0887"
             ],
             [
              0.1111111111111111,
              "#46039f"
             ],
             [
              0.2222222222222222,
              "#7201a8"
             ],
             [
              0.3333333333333333,
              "#9c179e"
             ],
             [
              0.4444444444444444,
              "#bd3786"
             ],
             [
              0.5555555555555556,
              "#d8576b"
             ],
             [
              0.6666666666666666,
              "#ed7953"
             ],
             [
              0.7777777777777778,
              "#fb9f3a"
             ],
             [
              0.8888888888888888,
              "#fdca26"
             ],
             [
              1,
              "#f0f921"
             ]
            ],
            "type": "heatmap"
           }
          ],
          "histogram": [
           {
            "marker": {
             "pattern": {
              "fillmode": "overlay",
              "size": 10,
              "solidity": 0.2
             }
            },
            "type": "histogram"
           }
          ],
          "histogram2d": [
           {
            "colorbar": {
             "outlinewidth": 0,
             "ticks": ""
            },
            "colorscale": [
             [
              0,
              "#0d0887"
             ],
             [
              0.1111111111111111,
              "#46039f"
             ],
             [
              0.2222222222222222,
              "#7201a8"
             ],
             [
              0.3333333333333333,
              "#9c179e"
             ],
             [
              0.4444444444444444,
              "#bd3786"
             ],
             [
              0.5555555555555556,
              "#d8576b"
             ],
             [
              0.6666666666666666,
              "#ed7953"
             ],
             [
              0.7777777777777778,
              "#fb9f3a"
             ],
             [
              0.8888888888888888,
              "#fdca26"
             ],
             [
              1,
              "#f0f921"
             ]
            ],
            "type": "histogram2d"
           }
          ],
          "histogram2dcontour": [
           {
            "colorbar": {
             "outlinewidth": 0,
             "ticks": ""
            },
            "colorscale": [
             [
              0,
              "#0d0887"
             ],
             [
              0.1111111111111111,
              "#46039f"
             ],
             [
              0.2222222222222222,
              "#7201a8"
             ],
             [
              0.3333333333333333,
              "#9c179e"
             ],
             [
              0.4444444444444444,
              "#bd3786"
             ],
             [
              0.5555555555555556,
              "#d8576b"
             ],
             [
              0.6666666666666666,
              "#ed7953"
             ],
             [
              0.7777777777777778,
              "#fb9f3a"
             ],
             [
              0.8888888888888888,
              "#fdca26"
             ],
             [
              1,
              "#f0f921"
             ]
            ],
            "type": "histogram2dcontour"
           }
          ],
          "mesh3d": [
           {
            "colorbar": {
             "outlinewidth": 0,
             "ticks": ""
            },
            "type": "mesh3d"
           }
          ],
          "parcoords": [
           {
            "line": {
             "colorbar": {
              "outlinewidth": 0,
              "ticks": ""
             }
            },
            "type": "parcoords"
           }
          ],
          "pie": [
           {
            "automargin": true,
            "type": "pie"
           }
          ],
          "scatter": [
           {
            "fillpattern": {
             "fillmode": "overlay",
             "size": 10,
             "solidity": 0.2
            },
            "type": "scatter"
           }
          ],
          "scatter3d": [
           {
            "line": {
             "colorbar": {
              "outlinewidth": 0,
              "ticks": ""
             }
            },
            "marker": {
             "colorbar": {
              "outlinewidth": 0,
              "ticks": ""
             }
            },
            "type": "scatter3d"
           }
          ],
          "scattercarpet": [
           {
            "marker": {
             "colorbar": {
              "outlinewidth": 0,
              "ticks": ""
             }
            },
            "type": "scattercarpet"
           }
          ],
          "scattergeo": [
           {
            "marker": {
             "colorbar": {
              "outlinewidth": 0,
              "ticks": ""
             }
            },
            "type": "scattergeo"
           }
          ],
          "scattergl": [
           {
            "marker": {
             "colorbar": {
              "outlinewidth": 0,
              "ticks": ""
             }
            },
            "type": "scattergl"
           }
          ],
          "scattermap": [
           {
            "marker": {
             "colorbar": {
              "outlinewidth": 0,
              "ticks": ""
             }
            },
            "type": "scattermap"
           }
          ],
          "scattermapbox": [
           {
            "marker": {
             "colorbar": {
              "outlinewidth": 0,
              "ticks": ""
             }
            },
            "type": "scattermapbox"
           }
          ],
          "scatterpolar": [
           {
            "marker": {
             "colorbar": {
              "outlinewidth": 0,
              "ticks": ""
             }
            },
            "type": "scatterpolar"
           }
          ],
          "scatterpolargl": [
           {
            "marker": {
             "colorbar": {
              "outlinewidth": 0,
              "ticks": ""
             }
            },
            "type": "scatterpolargl"
           }
          ],
          "scatterternary": [
           {
            "marker": {
             "colorbar": {
              "outlinewidth": 0,
              "ticks": ""
             }
            },
            "type": "scatterternary"
           }
          ],
          "surface": [
           {
            "colorbar": {
             "outlinewidth": 0,
             "ticks": ""
            },
            "colorscale": [
             [
              0,
              "#0d0887"
             ],
             [
              0.1111111111111111,
              "#46039f"
             ],
             [
              0.2222222222222222,
              "#7201a8"
             ],
             [
              0.3333333333333333,
              "#9c179e"
             ],
             [
              0.4444444444444444,
              "#bd3786"
             ],
             [
              0.5555555555555556,
              "#d8576b"
             ],
             [
              0.6666666666666666,
              "#ed7953"
             ],
             [
              0.7777777777777778,
              "#fb9f3a"
             ],
             [
              0.8888888888888888,
              "#fdca26"
             ],
             [
              1,
              "#f0f921"
             ]
            ],
            "type": "surface"
           }
          ],
          "table": [
           {
            "cells": {
             "fill": {
              "color": "#EBF0F8"
             },
             "line": {
              "color": "white"
             }
            },
            "header": {
             "fill": {
              "color": "#C8D4E3"
             },
             "line": {
              "color": "white"
             }
            },
            "type": "table"
           }
          ]
         },
         "layout": {
          "annotationdefaults": {
           "arrowcolor": "#2a3f5f",
           "arrowhead": 0,
           "arrowwidth": 1
          },
          "autotypenumbers": "strict",
          "coloraxis": {
           "colorbar": {
            "outlinewidth": 0,
            "ticks": ""
           }
          },
          "colorscale": {
           "diverging": [
            [
             0,
             "#8e0152"
            ],
            [
             0.1,
             "#c51b7d"
            ],
            [
             0.2,
             "#de77ae"
            ],
            [
             0.3,
             "#f1b6da"
            ],
            [
             0.4,
             "#fde0ef"
            ],
            [
             0.5,
             "#f7f7f7"
            ],
            [
             0.6,
             "#e6f5d0"
            ],
            [
             0.7,
             "#b8e186"
            ],
            [
             0.8,
             "#7fbc41"
            ],
            [
             0.9,
             "#4d9221"
            ],
            [
             1,
             "#276419"
            ]
           ],
           "sequential": [
            [
             0,
             "#0d0887"
            ],
            [
             0.1111111111111111,
             "#46039f"
            ],
            [
             0.2222222222222222,
             "#7201a8"
            ],
            [
             0.3333333333333333,
             "#9c179e"
            ],
            [
             0.4444444444444444,
             "#bd3786"
            ],
            [
             0.5555555555555556,
             "#d8576b"
            ],
            [
             0.6666666666666666,
             "#ed7953"
            ],
            [
             0.7777777777777778,
             "#fb9f3a"
            ],
            [
             0.8888888888888888,
             "#fdca26"
            ],
            [
             1,
             "#f0f921"
            ]
           ],
           "sequentialminus": [
            [
             0,
             "#0d0887"
            ],
            [
             0.1111111111111111,
             "#46039f"
            ],
            [
             0.2222222222222222,
             "#7201a8"
            ],
            [
             0.3333333333333333,
             "#9c179e"
            ],
            [
             0.4444444444444444,
             "#bd3786"
            ],
            [
             0.5555555555555556,
             "#d8576b"
            ],
            [
             0.6666666666666666,
             "#ed7953"
            ],
            [
             0.7777777777777778,
             "#fb9f3a"
            ],
            [
             0.8888888888888888,
             "#fdca26"
            ],
            [
             1,
             "#f0f921"
            ]
           ]
          },
          "colorway": [
           "#636efa",
           "#EF553B",
           "#00cc96",
           "#ab63fa",
           "#FFA15A",
           "#19d3f3",
           "#FF6692",
           "#B6E880",
           "#FF97FF",
           "#FECB52"
          ],
          "font": {
           "color": "#2a3f5f"
          },
          "geo": {
           "bgcolor": "white",
           "lakecolor": "white",
           "landcolor": "white",
           "showlakes": true,
           "showland": true,
           "subunitcolor": "#C8D4E3"
          },
          "hoverlabel": {
           "align": "left"
          },
          "hovermode": "closest",
          "mapbox": {
           "style": "light"
          },
          "paper_bgcolor": "white",
          "plot_bgcolor": "white",
          "polar": {
           "angularaxis": {
            "gridcolor": "#EBF0F8",
            "linecolor": "#EBF0F8",
            "ticks": ""
           },
           "bgcolor": "white",
           "radialaxis": {
            "gridcolor": "#EBF0F8",
            "linecolor": "#EBF0F8",
            "ticks": ""
           }
          },
          "scene": {
           "xaxis": {
            "backgroundcolor": "white",
            "gridcolor": "#DFE8F3",
            "gridwidth": 2,
            "linecolor": "#EBF0F8",
            "showbackground": true,
            "ticks": "",
            "zerolinecolor": "#EBF0F8"
           },
           "yaxis": {
            "backgroundcolor": "white",
            "gridcolor": "#DFE8F3",
            "gridwidth": 2,
            "linecolor": "#EBF0F8",
            "showbackground": true,
            "ticks": "",
            "zerolinecolor": "#EBF0F8"
           },
           "zaxis": {
            "backgroundcolor": "white",
            "gridcolor": "#DFE8F3",
            "gridwidth": 2,
            "linecolor": "#EBF0F8",
            "showbackground": true,
            "ticks": "",
            "zerolinecolor": "#EBF0F8"
           }
          },
          "shapedefaults": {
           "line": {
            "color": "#2a3f5f"
           }
          },
          "ternary": {
           "aaxis": {
            "gridcolor": "#DFE8F3",
            "linecolor": "#A2B1C6",
            "ticks": ""
           },
           "baxis": {
            "gridcolor": "#DFE8F3",
            "linecolor": "#A2B1C6",
            "ticks": ""
           },
           "bgcolor": "white",
           "caxis": {
            "gridcolor": "#DFE8F3",
            "linecolor": "#A2B1C6",
            "ticks": ""
           }
          },
          "title": {
           "x": 0.05
          },
          "xaxis": {
           "automargin": true,
           "gridcolor": "#EBF0F8",
           "linecolor": "#EBF0F8",
           "ticks": "",
           "title": {
            "standoff": 15
           },
           "zerolinecolor": "#EBF0F8",
           "zerolinewidth": 2
          },
          "yaxis": {
           "automargin": true,
           "gridcolor": "#EBF0F8",
           "linecolor": "#EBF0F8",
           "ticks": "",
           "title": {
            "standoff": 15
           },
           "zerolinecolor": "#EBF0F8",
           "zerolinewidth": 2
          }
         }
        },
        "title": {
         "text": "Ratios of Debt to income Vs debt to savings",
         "x": 0.5
        },
        "xaxis": {
         "anchor": "y",
         "domain": [
          0,
          1
         ],
         "title": {
          "text": "R_DEBT_INCOME"
         }
        },
        "yaxis": {
         "anchor": "x",
         "domain": [
          0,
          1
         ],
         "title": {
          "text": "R_DEBT_SAVINGS"
         }
        }
       }
      }
     },
     "metadata": {},
     "output_type": "display_data"
    }
   ],
   "source": [
    "fig2=px.scatter(data,x=\"R_DEBT_INCOME\",y=\"R_DEBT_SAVINGS\",title=\"Ratios of Debt to income Vs debt to savings\",\n",
    "            labels={\"R_DEBT_INCOME\":\"Ratio of debt to income\",\"R_DEBT_SAVINGS\":\"Ratio of Debt to saving\"},\n",
    "            color=\"DEFAULT\",template=\"plotly_white\")\n",
    "fig2.update_layout(\n",
    "    xaxis_title=\"R_DEBT_INCOME\",\n",
    "    yaxis_title=\"R_DEBT_SAVINGS\",\n",
    "    title_x=0.5,   # title center\n",
    "    font=dict(size=13) \n",
    ")\n",
    "fig2.show()"
   ]
  },
  {
   "cell_type": "markdown",
   "id": "172aa0f0",
   "metadata": {},
   "source": [
    "### Insights \n",
    "1.Data is imbalance                          \n",
    "2.Data has outlier                        \n",
    "### Purpose \n",
    "1.make data balance for better prediction                                        \n",
    "2.remove outliers if needed                           "
   ]
  },
  {
   "cell_type": "code",
   "execution_count": null,
   "id": "3808e642",
   "metadata": {},
   "outputs": [],
   "source": [
    "#Again change the data type of categorical column into int\n",
    "data[cat_cols] = data[cat_cols].astype(int)"
   ]
  }
 ],
 "metadata": {
  "kernelspec": {
   "display_name": "Python 3",
   "language": "python",
   "name": "python3"
  },
  "language_info": {
   "codemirror_mode": {
    "name": "ipython",
    "version": 3
   },
   "file_extension": ".py",
   "mimetype": "text/x-python",
   "name": "python",
   "nbconvert_exporter": "python",
   "pygments_lexer": "ipython3",
   "version": "3.11.13"
  }
 },
 "nbformat": 4,
 "nbformat_minor": 5
}
